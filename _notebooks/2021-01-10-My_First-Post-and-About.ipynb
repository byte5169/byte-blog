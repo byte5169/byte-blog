{
 "cells": [
  {
   "cell_type": "markdown",
   "metadata": {
    "collapsed": true,
    "pycharm": {
     "name": "#%% md\n"
    }
   },
   "source": [
    "### Hello stranger,\n",
    "\n",
    "This is a blog from a person who his whole life (around 25 years) was studying humanitarian sciences and now decided to drastically change his field of work.\n",
    "\n",
    "The main goal of this blog is to follow my journey of Machine Learning and Deep Learning.\n",
    "\n",
    "#### A bit of myself:\n",
    "\n",
    "I'm 31 as of 10.01.2021.\n",
    "\n",
    "I do know 3 foreign languages (English, Swedish, Chinese), that is not including my two native languages.\n",
    "I have been working for a large IT company for the past 10 years on various positions.\n",
    "A month ago I had a chance to switch drastically my field of work from PM and PdM to more AI and ML field.\n",
    "\n",
    "So as you may guess I have accepted this challenge and began to study ML from scratch I would say.\n",
    "I had some experience on coding before, but it was so long ago so basically I had to start all over again.\n",
    "\n",
    "For the past month I have been learning various number of course from codeacademy, udemy, youtube, khanacademy, etc to gain a bit of basic coding knowledge and math at least.\n",
    "\n",
    "Enough about me, some more on the blog topics.\n",
    "\n",
    "#### About blog\n",
    "\n",
    "This blog will contain all different kind of materials on ML, DL, math and everything that I will come across during my voyage.\n",
    "\n",
    "#### To catch you up\n",
    "\n",
    "The best resources I will be using here:\n",
    "1. Python\n",
    "2. PyTorch\n",
    "3. TensorFlow\n",
    "4. Scikit-learn\n",
    "5. Fastai\n",
    "6. AWS\n",
    "\n",
    "Most of the things above I still haven't touched yet, and I will learn it and post my little experiments here.\n",
    "\n",
    "Internet resourse:\n",
    "1. [Khanacademy](www.khanacademy.org) for any learning math problems.\n",
    "2. [Kaggle](kaggle.com) best website if you want to look for datasets.\n",
    "3. [ML learning tree](https://www.notion.so/2021-Machine-Deep-Learning-Curriculum-af3d54310a0e473994b550688a197f6e#dfa6b4973d614c1580a809a63ebbdd00) I have came across this one on the first week of learning and it blowed my mind. It was created by a great youtube person [Daniel Bourke](https://www.youtube.com/channel/UCr8O8l5cCX85Oem1d18EezQ)\n",
    "\n",
    "I will try to post every week, summing up what have I learned, maybe with some fancy project based on the learnings.\n",
    "\n",
    "PS. I'm new to fastpages and github in general, so bear with me and my writings it will improve with time, I promise.\n",
    "\n"
   ]
  },
  {
   "cell_type": "markdown",
   "source": [],
   "metadata": {
    "collapsed": false
   }
  }
 ],
 "metadata": {
  "kernelspec": {
   "display_name": "Python 3",
   "language": "python",
   "name": "python3"
  },
  "language_info": {
   "codemirror_mode": {
    "name": "ipython",
    "version": 2
   },
   "file_extension": ".py",
   "mimetype": "text/x-python",
   "name": "python",
   "nbconvert_exporter": "python",
   "pygments_lexer": "ipython2",
   "version": "2.7.6"
  }
 },
 "nbformat": 4,
 "nbformat_minor": 0
}