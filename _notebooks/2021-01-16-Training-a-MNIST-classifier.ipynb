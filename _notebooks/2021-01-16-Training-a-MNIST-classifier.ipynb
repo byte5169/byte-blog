{
 "nbformat": 4,
 "nbformat_minor": 0,
 "metadata": {
  "colab": {
   "name": "Untitled0.ipynb",
   "provenance": [],
   "collapsed_sections": []
  },
  "kernelspec": {
   "name": "python3",
   "display_name": "Python 3"
  }
 },
 "cells": [
  {
   "cell_type": "markdown",
   "source": [
    "# \"Training a MNIST classifier\"\n",
    "\n",
    "- comments: true\n",
    "- tags: SGD, fastai, pytorch, sigmoid, mnist"
   ],
   "metadata": {
    "collapsed": false
   }
  },
  {
   "cell_type": "markdown",
   "source": [
    "###### The work below is based on the chapter 4 of [Deep learning for Coders with fastai and PyTorch](https://www.amazon.com/Deep-Learning-Coders-fastai-PyTorch/dp/1492045527) and github repo dedicated to that chapter by [asiedubrempong](https://gist.github.com/asiedubrempong)."
   ],
   "metadata": {
    "collapsed": false
   }
  },
  {
   "cell_type": "markdown",
   "metadata": {
    "id": "Wrxvvn7Jw0S5"
   },
   "source": [
    "Will be using here [fastai](https://www.fast.ai/about/) that is basically a high-level API for deep learning over PyTorch and easier to use.\n",
    "\n",
    "I encourage you to use Google Colab for this project.\n",
    "\n",
    "Below we are importing necessary libraries. I for some reason this cell gives you a mistake - uncomment the first line, restart your runtime and run it again."
   ]
  },
  {
   "cell_type": "code",
   "metadata": {
    "id": "1xto0f5P3fIV"
   },
   "source": [
    "# !pip install -U fastai\n",
    "\n",
    "import fastai\n",
    "from fastai.vision.all import *"
   ],
   "execution_count": 1,
   "outputs": []
  },
  {
   "cell_type": "markdown",
   "metadata": {
    "id": "XarvhcbPyG4i"
   },
   "source": [
    "Checking if fastai installed correctly."
   ]
  },
  {
   "cell_type": "code",
   "metadata": {
    "colab": {
     "base_uri": "https://localhost:8080/",
     "height": 36
    },
    "id": "2NPQcFJewnQJ",
    "outputId": "989256a8-e7e8-4aa2-9129-9447e2dc15b7"
   },
   "source": [
    "fastai.__version__"
   ],
   "execution_count": 2,
   "outputs": [
    {
     "output_type": "execute_result",
     "data": {
      "application/vnd.google.colaboratory.intrinsic+json": {
       "type": "string"
      },
      "text/plain": [
       "'2.2.5'"
      ]
     },
     "metadata": {
      "tags": []
     },
     "execution_count": 2
    }
   ]
  },
  {
   "cell_type": "markdown",
   "metadata": {
    "id": "oSar03MFyK3L"
   },
   "source": [
    "Fastai comes with a basic and most popular datasets to work with. Let's use that in our advantage and import MNIST dataset to our path."
   ]
  },
  {
   "cell_type": "code",
   "metadata": {
    "id": "g_qkIHnh3vZi"
   },
   "source": [
    "path = untar_data(URLs.MNIST)"
   ],
   "execution_count": 3,
   "outputs": []
  },
  {
   "cell_type": "markdown",
   "metadata": {
    "id": "81I5rF3fyfYW"
   },
   "source": [
    "Let's see how MNIST dataset is structured.\n",
    "It is already broke down for us into training and testing dataset. \n",
    "Good."
   ]
  },
  {
   "cell_type": "code",
   "metadata": {
    "colab": {
     "base_uri": "https://localhost:8080/"
    },
    "id": "ADMI9a6Q48hB",
    "outputId": "a1d9759c-69de-4900-ace5-bbf70638a9b3"
   },
   "source": [
    "path.ls()"
   ],
   "execution_count": 4,
   "outputs": [
    {
     "output_type": "execute_result",
     "data": {
      "text/plain": [
       "(#2) [Path('/root/.fastai/data/mnist_png/training'),Path('/root/.fastai/data/mnist_png/testing')]"
      ]
     },
     "metadata": {
      "tags": []
     },
     "execution_count": 4
    }
   ]
  },
  {
   "cell_type": "markdown",
   "metadata": {
    "id": "y0dLS_U6yvG6"
   },
   "source": [
    "Inside training dataset we can see folders with numbers from 0 to 10."
   ]
  },
  {
   "cell_type": "code",
   "metadata": {
    "colab": {
     "base_uri": "https://localhost:8080/"
    },
    "id": "gbvaHIUC5I9Y",
    "outputId": "fe307259-c401-41c7-e7f7-fa3d4a0d96e8"
   },
   "source": [
    "(path/'training').ls().sorted()"
   ],
   "execution_count": 5,
   "outputs": [
    {
     "output_type": "execute_result",
     "data": {
      "text/plain": [
       "(#10) [Path('/root/.fastai/data/mnist_png/training/0'),Path('/root/.fastai/data/mnist_png/training/1'),Path('/root/.fastai/data/mnist_png/training/2'),Path('/root/.fastai/data/mnist_png/training/3'),Path('/root/.fastai/data/mnist_png/training/4'),Path('/root/.fastai/data/mnist_png/training/5'),Path('/root/.fastai/data/mnist_png/training/6'),Path('/root/.fastai/data/mnist_png/training/7'),Path('/root/.fastai/data/mnist_png/training/8'),Path('/root/.fastai/data/mnist_png/training/9')]"
      ]
     },
     "metadata": {
      "tags": []
     },
     "execution_count": 5
    }
   ]
  },
  {
   "cell_type": "markdown",
   "metadata": {
    "id": "7pO6dJ_6zILs"
   },
   "source": [
    "Let's look even closer into data and try to print out one digit."
   ]
  },
  {
   "cell_type": "code",
   "metadata": {
    "id": "YJ9FYYa05Pso"
   },
   "source": [
    "fours = (path/'training/4').ls()"
   ],
   "execution_count": 6,
   "outputs": []
  },
  {
   "cell_type": "code",
   "metadata": {
    "colab": {
     "base_uri": "https://localhost:8080/",
     "height": 45
    },
    "id": "h0LQ4oeQ5gwh",
    "outputId": "c0b55505-36c8-4b84-a31b-c47ca45136d3"
   },
   "source": [
    "img4_path = fours[1] #taking 1st index of data\n",
    "img4 = Image.open(img4_path) #using PIL to open image file\n",
    "img4"
   ],
   "execution_count": 7,
   "outputs": [
    {
     "output_type": "execute_result",
     "data": {
      "image/png": "[encoded data removed]",
      "text/plain": [
       "<PIL.PngImagePlugin.PngImageFile image mode=L size=28x28 at 0x7F6480422358>"
      ]
     },
     "metadata": {
      "tags": []
     },
     "execution_count": 7
    }
   ]
  },
  {
   "cell_type": "markdown",
   "metadata": {
    "id": "p5eCaDQpz06Y"
   },
   "source": [
    "To display how computer sees this image we need to use arrays or tensors. \n",
    "After we converted image to tensor we pack it into dataframe using Pandas library. If you are not using Gogle Colab, you will have to import it.\n",
    "\n",
    "`import pandas as pd`"
   ]
  },
  {
   "cell_type": "code",
   "metadata": {
    "colab": {
     "base_uri": "https://localhost:8080/",
     "height": 639
    },
    "id": "WayvuQAN5iLv",
    "outputId": "5c8ec23b-11c5-4c5c-c190-ce3e466d2a81"
   },
   "source": [
    "img4_t = tensor(img4) \n",
    "df = pd.DataFrame(img4_t)\n",
    "df.style.set_properties(**{'font-size':'6pt'}).background_gradient('Greys')"
   ],
   "execution_count": 8,
   "outputs": [
    {
     "output_type": "execute_result",
     "data": {
      "text/html": [
       "<style  type=\"text/css\" >\n",
       "#T_845c0dd2_566f_11eb_bc59_0242ac1c0002row0_col0,#T_845c0dd2_566f_11eb_bc59_0242ac1c0002row0_col1,#T_845c0dd2_566f_11eb_bc59_0242ac1c0002row0_col2,#T_845c0dd2_566f_11eb_bc59_0242ac1c0002row0_col3,#T_845c0dd2_566f_11eb_bc59_0242ac1c0002row0_col4,#T_845c0dd2_566f_11eb_bc59_0242ac1c0002row0_col5,#T_845c0dd2_566f_11eb_bc59_0242ac1c0002row0_col6,#T_845c0dd2_566f_11eb_bc59_0242ac1c0002row0_col7,#T_845c0dd2_566f_11eb_bc59_0242ac1c0002row0_col8,#T_845c0dd2_566f_11eb_bc59_0242ac1c0002row0_col9,#T_845c0dd2_566f_11eb_bc59_0242ac1c0002row0_col10,#T_845c0dd2_566f_11eb_bc59_0242ac1c0002row0_col11,#T_845c0dd2_566f_11eb_bc59_0242ac1c0002row0_col12,#T_845c0dd2_566f_11eb_bc59_0242ac1c0002row0_col13,#T_845c0dd2_566f_11eb_bc59_0242ac1c0002row0_col14,#T_845c0dd2_566f_11eb_bc59_0242ac1c0002row0_col15,#T_845c0dd2_566f_11eb_bc59_0242ac1c0002row0_col16,#T_845c0dd2_566f_11eb_bc59_0242ac1c0002row0_col17,#T_845c0dd2_566f_11eb_bc59_0242ac1c0002row0_col18,#T_845c0dd2_566f_11eb_bc59_0242ac1c0002row0_col19,#T_845c0dd2_566f_11eb_bc59_0242ac1c0002row0_col20,#T_845c0dd2_566f_11eb_bc59_0242ac1c0002row0_col21,#T_845c0dd2_566f_11eb_bc59_0242ac1c0002row0_col22,#T_845c0dd2_566f_11eb_bc59_0242ac1c0002row0_col23,#T_845c0dd2_566f_11eb_bc59_0242ac1c0002row0_col24,#T_845c0dd2_566f_11eb_bc59_0242ac1c0002row0_col25,#T_845c0dd2_566f_11eb_bc59_0242ac1c0002row0_col26,#T_845c0dd2_566f_11eb_bc59_0242ac1c0002row0_col27,#T_845c0dd2_566f_11eb_bc59_0242ac1c0002row1_col0,#T_845c0dd2_566f_11eb_bc59_0242ac1c0002row1_col1,#T_845c0dd2_566f_11eb_bc59_0242ac1c0002row1_col2,#T_845c0dd2_566f_11eb_bc59_0242ac1c0002row1_col3,#T_845c0dd2_566f_11eb_bc59_0242ac1c0002row1_col4,#T_845c0dd2_566f_11eb_bc59_0242ac1c0002row1_col5,#T_845c0dd2_566f_11eb_bc59_0242ac1c0002row1_col6,#T_845c0dd2_566f_11eb_bc59_0242ac1c0002row1_col7,#T_845c0dd2_566f_11eb_bc59_0242ac1c0002row1_col8,#T_845c0dd2_566f_11eb_bc59_0242ac1c0002row1_col9,#T_845c0dd2_566f_11eb_bc59_0242ac1c0002row1_col10,#T_845c0dd2_566f_11eb_bc59_0242ac1c0002row1_col11,#T_845c0dd2_566f_11eb_bc59_0242ac1c0002row1_col12,#T_845c0dd2_566f_11eb_bc59_0242ac1c0002row1_col13,#T_845c0dd2_566f_11eb_bc59_0242ac1c0002row1_col14,#T_845c0dd2_566f_11eb_bc59_0242ac1c0002row1_col15,#T_845c0dd2_566f_11eb_bc59_0242ac1c0002row1_col16,#T_845c0dd2_566f_11eb_bc59_0242ac1c0002row1_col17,#T_845c0dd2_566f_11eb_bc59_0242ac1c0002row1_col18,#T_845c0dd2_566f_11eb_bc59_0242ac1c0002row1_col19,#T_845c0dd2_566f_11eb_bc59_0242ac1c0002row1_col20,#T_845c0dd2_566f_11eb_bc59_0242ac1c0002row1_col21,#T_845c0dd2_566f_11eb_bc59_0242ac1c0002row1_col22,#T_845c0dd2_566f_11eb_bc59_0242ac1c0002row1_col23,#T_845c0dd2_566f_11eb_bc59_0242ac1c0002row1_col24,#T_845c0dd2_566f_11eb_bc59_0242ac1c0002row1_col25,#T_845c0dd2_566f_11eb_bc59_0242ac1c0002row1_col26,#T_845c0dd2_566f_11eb_bc59_0242ac1c0002row1_col27,#T_845c0dd2_566f_11eb_bc59_0242ac1c0002row2_col0,#T_845c0dd2_566f_11eb_bc59_0242ac1c0002row2_col1,#T_845c0dd2_566f_11eb_bc59_0242ac1c0002row2_col2,#T_845c0dd2_566f_11eb_bc59_0242ac1c0002row2_col3,#T_845c0dd2_566f_11eb_bc59_0242ac1c0002row2_col4,#T_845c0dd2_566f_11eb_bc59_0242ac1c0002row2_col5,#T_845c0dd2_566f_11eb_bc59_0242ac1c0002row2_col6,#T_845c0dd2_566f_11eb_bc59_0242ac1c0002row2_col7,#T_845c0dd2_566f_11eb_bc59_0242ac1c0002row2_col8,#T_845c0dd2_566f_11eb_bc59_0242ac1c0002row2_col9,#T_845c0dd2_566f_11eb_bc59_0242ac1c0002row2_col10,#T_845c0dd2_566f_11eb_bc59_0242ac1c0002row2_col11,#T_845c0dd2_566f_11eb_bc59_0242ac1c0002row2_col12,#T_845c0dd2_566f_11eb_bc59_0242ac1c0002row2_col13,#T_845c0dd2_566f_11eb_bc59_0242ac1c0002row2_col14,#T_845c0dd2_566f_11eb_bc59_0242ac1c0002row2_col15,#T_845c0dd2_566f_11eb_bc59_0242ac1c0002row2_col16,#T_845c0dd2_566f_11eb_bc59_0242ac1c0002row2_col17,#T_845c0dd2_566f_11eb_bc59_0242ac1c0002row2_col18,#T_845c0dd2_566f_11eb_bc59_0242ac1c0002row2_col19,#T_845c0dd2_566f_11eb_bc59_0242ac1c0002row2_col20,#T_845c0dd2_566f_11eb_bc59_0242ac1c0002row2_col21,#T_845c0dd2_566f_11eb_bc59_0242ac1c0002row2_col22,#T_845c0dd2_566f_11eb_bc59_0242ac1c0002row2_col23,#T_845c0dd2_566f_11eb_bc59_0242ac1c0002row2_col24,#T_845c0dd2_566f_11eb_bc59_0242ac1c0002row2_col25,#T_845c0dd2_566f_11eb_bc59_0242ac1c0002row2_col26,#T_845c0dd2_566f_11eb_bc59_0242ac1c0002row2_col27,#T_845c0dd2_566f_11eb_bc59_0242ac1c0002row3_col0,#T_845c0dd2_566f_11eb_bc59_0242ac1c0002row3_col1,#T_845c0dd2_566f_11eb_bc59_0242ac1c0002row3_col2,#T_845c0dd2_566f_11eb_bc59_0242ac1c0002row3_col3,#T_845c0dd2_566f_11eb_bc59_0242ac1c0002row3_col4,#T_845c0dd2_566f_11eb_bc59_0242ac1c0002row3_col5,#T_845c0dd2_566f_11eb_bc59_0242ac1c0002row3_col6,#T_845c0dd2_566f_11eb_bc59_0242ac1c0002row3_col7,#T_845c0dd2_566f_11eb_bc59_0242ac1c0002row3_col8,#T_845c0dd2_566f_11eb_bc59_0242ac1c0002row3_col9,#T_845c0dd2_566f_11eb_bc59_0242ac1c0002row3_col10,#T_845c0dd2_566f_11eb_bc59_0242ac1c0002row3_col11,#T_845c0dd2_566f_11eb_bc59_0242ac1c0002row3_col12,#T_845c0dd2_566f_11eb_bc59_0242ac1c0002row3_col13,#T_845c0dd2_566f_11eb_bc59_0242ac1c0002row3_col14,#T_845c0dd2_566f_11eb_bc59_0242ac1c0002row3_col15,#T_845c0dd2_566f_11eb_bc59_0242ac1c0002row3_col16,#T_845c0dd2_566f_11eb_bc59_0242ac1c0002row3_col17,#T_845c0dd2_566f_11eb_bc59_0242ac1c0002row3_col18,#T_845c0dd2_566f_11eb_bc59_0242ac1c0002row3_col19,#T_845c0dd2_566f_11eb_bc59_0242ac1c0002row3_col20,#T_845c0dd2_566f_11eb_bc59_0242ac1c0002row3_col21,#T_845c0dd2_566f_11eb_bc59_0242ac1c0002row3_col22,#T_845c0dd2_566f_11eb_bc59_0242ac1c0002row3_col23,#T_845c0dd2_566f_11eb_bc59_0242ac1c0002row3_col24,#T_845c0dd2_566f_11eb_bc59_0242ac1c0002row3_col25,#T_845c0dd2_566f_11eb_bc59_0242ac1c0002row3_col26,#T_845c0dd2_566f_11eb_bc59_0242ac1c0002row3_col27,#T_845c0dd2_566f_11eb_bc59_0242ac1c0002row4_col0,#T_845c0dd2_566f_11eb_bc59_0242ac1c0002row4_col1,#T_845c0dd2_566f_11eb_bc59_0242ac1c0002row4_col2,#T_845c0dd2_566f_11eb_bc59_0242ac1c0002row4_col3,#T_845c0dd2_566f_11eb_bc59_0242ac1c0002row4_col4,#T_845c0dd2_566f_11eb_bc59_0242ac1c0002row4_col5,#T_845c0dd2_566f_11eb_bc59_0242ac1c0002row4_col6,#T_845c0dd2_566f_11eb_bc59_0242ac1c0002row4_col7,#T_845c0dd2_566f_11eb_bc59_0242ac1c0002row4_col8,#T_845c0dd2_566f_11eb_bc59_0242ac1c0002row4_col9,#T_845c0dd2_566f_11eb_bc59_0242ac1c0002row4_col10,#T_845c0dd2_566f_11eb_bc59_0242ac1c0002row4_col11,#T_845c0dd2_566f_11eb_bc59_0242ac1c0002row4_col12,#T_845c0dd2_566f_11eb_bc59_0242ac1c0002row4_col13,#T_845c0dd2_566f_11eb_bc59_0242ac1c0002row4_col14,#T_845c0dd2_566f_11eb_bc59_0242ac1c0002row4_col15,#T_845c0dd2_566f_11eb_bc59_0242ac1c0002row4_col16,#T_845c0dd2_566f_11eb_bc59_0242ac1c0002row4_col17,#T_845c0dd2_566f_11eb_bc59_0242ac1c0002row4_col18,#T_845c0dd2_566f_11eb_bc59_0242ac1c0002row4_col19,#T_845c0dd2_566f_11eb_bc59_0242ac1c0002row4_col20,#T_845c0dd2_566f_11eb_bc59_0242ac1c0002row4_col21,#T_845c0dd2_566f_11eb_bc59_0242ac1c0002row4_col22,#T_845c0dd2_566f_11eb_bc59_0242ac1c0002row4_col23,#T_845c0dd2_566f_11eb_bc59_0242ac1c0002row4_col24,#T_845c0dd2_566f_11eb_bc59_0242ac1c0002row4_col25,#T_845c0dd2_566f_11eb_bc59_0242ac1c0002row4_col26,#T_845c0dd2_566f_11eb_bc59_0242ac1c0002row4_col27,#T_845c0dd2_566f_11eb_bc59_0242ac1c0002row5_col0,#T_845c0dd2_566f_11eb_bc59_0242ac1c0002row5_col1,#T_845c0dd2_566f_11eb_bc59_0242ac1c0002row5_col2,#T_845c0dd2_566f_11eb_bc59_0242ac1c0002row5_col3,#T_845c0dd2_566f_11eb_bc59_0242ac1c0002row5_col4,#T_845c0dd2_566f_11eb_bc59_0242ac1c0002row5_col5,#T_845c0dd2_566f_11eb_bc59_0242ac1c0002row5_col6,#T_845c0dd2_566f_11eb_bc59_0242ac1c0002row5_col7,#T_845c0dd2_566f_11eb_bc59_0242ac1c0002row5_col8,#T_845c0dd2_566f_11eb_bc59_0242ac1c0002row5_col9,#T_845c0dd2_566f_11eb_bc59_0242ac1c0002row5_col14,#T_845c0dd2_566f_11eb_bc59_0242ac1c0002row5_col15,#T_845c0dd2_566f_11eb_bc59_0242ac1c0002row5_col16,#T_845c0dd2_566f_11eb_bc59_0242ac1c0002row5_col17,#T_845c0dd2_566f_11eb_bc59_0242ac1c0002row5_col18,#T_845c0dd2_566f_11eb_bc59_0242ac1c0002row5_col19,#T_845c0dd2_566f_11eb_bc59_0242ac1c0002row5_col20,#T_845c0dd2_566f_11eb_bc59_0242ac1c0002row5_col21,#T_845c0dd2_566f_11eb_bc59_0242ac1c0002row5_col22,#T_845c0dd2_566f_11eb_bc59_0242ac1c0002row5_col23,#T_845c0dd2_566f_11eb_bc59_0242ac1c0002row5_col24,#T_845c0dd2_566f_11eb_bc59_0242ac1c0002row5_col25,#T_845c0dd2_566f_11eb_bc59_0242ac1c0002row5_col26,#T_845c0dd2_566f_11eb_bc59_0242ac1c0002row5_col27,#T_845c0dd2_566f_11eb_bc59_0242ac1c0002row6_col0,#T_845c0dd2_566f_11eb_bc59_0242ac1c0002row6_col1,#T_845c0dd2_566f_11eb_bc59_0242ac1c0002row6_col2,#T_845c0dd2_566f_11eb_bc59_0242ac1c0002row6_col3,#T_845c0dd2_566f_11eb_bc59_0242ac1c0002row6_col4,#T_845c0dd2_566f_11eb_bc59_0242ac1c0002row6_col5,#T_845c0dd2_566f_11eb_bc59_0242ac1c0002row6_col6,#T_845c0dd2_566f_11eb_bc59_0242ac1c0002row6_col7,#T_845c0dd2_566f_11eb_bc59_0242ac1c0002row6_col8,#T_845c0dd2_566f_11eb_bc59_0242ac1c0002row6_col9,#T_845c0dd2_566f_11eb_bc59_0242ac1c0002row6_col14,#T_845c0dd2_566f_11eb_bc59_0242ac1c0002row6_col15,#T_845c0dd2_566f_11eb_bc59_0242ac1c0002row6_col16,#T_845c0dd2_566f_11eb_bc59_0242ac1c0002row6_col17,#T_845c0dd2_566f_11eb_bc59_0242ac1c0002row6_col18,#T_845c0dd2_566f_11eb_bc59_0242ac1c0002row6_col19,#T_845c0dd2_566f_11eb_bc59_0242ac1c0002row6_col20,#T_845c0dd2_566f_11eb_bc59_0242ac1c0002row6_col21,#T_845c0dd2_566f_11eb_bc59_0242ac1c0002row6_col22,#T_845c0dd2_566f_11eb_bc59_0242ac1c0002row6_col23,#T_845c0dd2_566f_11eb_bc59_0242ac1c0002row6_col24,#T_845c0dd2_566f_11eb_bc59_0242ac1c0002row6_col25,#T_845c0dd2_566f_11eb_bc59_0242ac1c0002row6_col26,#T_845c0dd2_566f_11eb_bc59_0242ac1c0002row6_col27,#T_845c0dd2_566f_11eb_bc59_0242ac1c0002row7_col0,#T_845c0dd2_566f_11eb_bc59_0242ac1c0002row7_col1,#T_845c0dd2_566f_11eb_bc59_0242ac1c0002row7_col2,#T_845c0dd2_566f_11eb_bc59_0242ac1c0002row7_col3,#T_845c0dd2_566f_11eb_bc59_0242ac1c0002row7_col4,#T_845c0dd2_566f_11eb_bc59_0242ac1c0002row7_col5,#T_845c0dd2_566f_11eb_bc59_0242ac1c0002row7_col6,#T_845c0dd2_566f_11eb_bc59_0242ac1c0002row7_col7,#T_845c0dd2_566f_11eb_bc59_0242ac1c0002row7_col8,#T_845c0dd2_566f_11eb_bc59_0242ac1c0002row7_col9,#T_845c0dd2_566f_11eb_bc59_0242ac1c0002row7_col14,#T_845c0dd2_566f_11eb_bc59_0242ac1c0002row7_col15,#T_845c0dd2_566f_11eb_bc59_0242ac1c0002row7_col16,#T_845c0dd2_566f_11eb_bc59_0242ac1c0002row7_col21,#T_845c0dd2_566f_11eb_bc59_0242ac1c0002row7_col22,#T_845c0dd2_566f_11eb_bc59_0242ac1c0002row7_col23,#T_845c0dd2_566f_11eb_bc59_0242ac1c0002row7_col24,#T_845c0dd2_566f_11eb_bc59_0242ac1c0002row7_col25,#T_845c0dd2_566f_11eb_bc59_0242ac1c0002row7_col26,#T_845c0dd2_566f_11eb_bc59_0242ac1c0002row7_col27,#T_845c0dd2_566f_11eb_bc59_0242ac1c0002row8_col0,#T_845c0dd2_566f_11eb_bc59_0242ac1c0002row8_col1,#T_845c0dd2_566f_11eb_bc59_0242ac1c0002row8_col2,#T_845c0dd2_566f_11eb_bc59_0242ac1c0002row8_col3,#T_845c0dd2_566f_11eb_bc59_0242ac1c0002row8_col4,#T_845c0dd2_566f_11eb_bc59_0242ac1c0002row8_col5,#T_845c0dd2_566f_11eb_bc59_0242ac1c0002row8_col6,#T_845c0dd2_566f_11eb_bc59_0242ac1c0002row8_col7,#T_845c0dd2_566f_11eb_bc59_0242ac1c0002row8_col8,#T_845c0dd2_566f_11eb_bc59_0242ac1c0002row8_col9,#T_845c0dd2_566f_11eb_bc59_0242ac1c0002row8_col10,#T_845c0dd2_566f_11eb_bc59_0242ac1c0002row8_col14,#T_845c0dd2_566f_11eb_bc59_0242ac1c0002row8_col15,#T_845c0dd2_566f_11eb_bc59_0242ac1c0002row8_col16,#T_845c0dd2_566f_11eb_bc59_0242ac1c0002row8_col21,#T_845c0dd2_566f_11eb_bc59_0242ac1c0002row8_col22,#T_845c0dd2_566f_11eb_bc59_0242ac1c0002row8_col23,#T_845c0dd2_566f_11eb_bc59_0242ac1c0002row8_col24,#T_845c0dd2_566f_11eb_bc59_0242ac1c0002row8_col25,#T_845c0dd2_566f_11eb_bc59_0242ac1c0002row8_col26,#T_845c0dd2_566f_11eb_bc59_0242ac1c0002row8_col27,#T_845c0dd2_566f_11eb_bc59_0242ac1c0002row9_col0,#T_845c0dd2_566f_11eb_bc59_0242ac1c0002row9_col1,#T_845c0dd2_566f_11eb_bc59_0242ac1c0002row9_col2,#T_845c0dd2_566f_11eb_bc59_0242ac1c0002row9_col3,#T_845c0dd2_566f_11eb_bc59_0242ac1c0002row9_col4,#T_845c0dd2_566f_11eb_bc59_0242ac1c0002row9_col5,#T_845c0dd2_566f_11eb_bc59_0242ac1c0002row9_col6,#T_845c0dd2_566f_11eb_bc59_0242ac1c0002row9_col7,#T_845c0dd2_566f_11eb_bc59_0242ac1c0002row9_col8,#T_845c0dd2_566f_11eb_bc59_0242ac1c0002row9_col9,#T_845c0dd2_566f_11eb_bc59_0242ac1c0002row9_col10,#T_845c0dd2_566f_11eb_bc59_0242ac1c0002row9_col14,#T_845c0dd2_566f_11eb_bc59_0242ac1c0002row9_col15,#T_845c0dd2_566f_11eb_bc59_0242ac1c0002row9_col16,#T_845c0dd2_566f_11eb_bc59_0242ac1c0002row9_col21,#T_845c0dd2_566f_11eb_bc59_0242ac1c0002row9_col22,#T_845c0dd2_566f_11eb_bc59_0242ac1c0002row9_col23,#T_845c0dd2_566f_11eb_bc59_0242ac1c0002row9_col24,#T_845c0dd2_566f_11eb_bc59_0242ac1c0002row9_col25,#T_845c0dd2_566f_11eb_bc59_0242ac1c0002row9_col26,#T_845c0dd2_566f_11eb_bc59_0242ac1c0002row9_col27,#T_845c0dd2_566f_11eb_bc59_0242ac1c0002row10_col0,#T_845c0dd2_566f_11eb_bc59_0242ac1c0002row10_col1,#T_845c0dd2_566f_11eb_bc59_0242ac1c0002row10_col2,#T_845c0dd2_566f_11eb_bc59_0242ac1c0002row10_col3,#T_845c0dd2_566f_11eb_bc59_0242ac1c0002row10_col4,#T_845c0dd2_566f_11eb_bc59_0242ac1c0002row10_col5,#T_845c0dd2_566f_11eb_bc59_0242ac1c0002row10_col6,#T_845c0dd2_566f_11eb_bc59_0242ac1c0002row10_col7,#T_845c0dd2_566f_11eb_bc59_0242ac1c0002row10_col8,#T_845c0dd2_566f_11eb_bc59_0242ac1c0002row10_col9,#T_845c0dd2_566f_11eb_bc59_0242ac1c0002row10_col10,#T_845c0dd2_566f_11eb_bc59_0242ac1c0002row10_col15,#T_845c0dd2_566f_11eb_bc59_0242ac1c0002row10_col16,#T_845c0dd2_566f_11eb_bc59_0242ac1c0002row10_col21,#T_845c0dd2_566f_11eb_bc59_0242ac1c0002row10_col22,#T_845c0dd2_566f_11eb_bc59_0242ac1c0002row10_col23,#T_845c0dd2_566f_11eb_bc59_0242ac1c0002row10_col24,#T_845c0dd2_566f_11eb_bc59_0242ac1c0002row10_col25,#T_845c0dd2_566f_11eb_bc59_0242ac1c0002row10_col26,#T_845c0dd2_566f_11eb_bc59_0242ac1c0002row10_col27,#T_845c0dd2_566f_11eb_bc59_0242ac1c0002row11_col0,#T_845c0dd2_566f_11eb_bc59_0242ac1c0002row11_col1,#T_845c0dd2_566f_11eb_bc59_0242ac1c0002row11_col2,#T_845c0dd2_566f_11eb_bc59_0242ac1c0002row11_col3,#T_845c0dd2_566f_11eb_bc59_0242ac1c0002row11_col4,#T_845c0dd2_566f_11eb_bc59_0242ac1c0002row11_col5,#T_845c0dd2_566f_11eb_bc59_0242ac1c0002row11_col6,#T_845c0dd2_566f_11eb_bc59_0242ac1c0002row11_col7,#T_845c0dd2_566f_11eb_bc59_0242ac1c0002row11_col8,#T_845c0dd2_566f_11eb_bc59_0242ac1c0002row11_col9,#T_845c0dd2_566f_11eb_bc59_0242ac1c0002row11_col10,#T_845c0dd2_566f_11eb_bc59_0242ac1c0002row11_col15,#T_845c0dd2_566f_11eb_bc59_0242ac1c0002row11_col16,#T_845c0dd2_566f_11eb_bc59_0242ac1c0002row11_col21,#T_845c0dd2_566f_11eb_bc59_0242ac1c0002row11_col22,#T_845c0dd2_566f_11eb_bc59_0242ac1c0002row11_col23,#T_845c0dd2_566f_11eb_bc59_0242ac1c0002row11_col24,#T_845c0dd2_566f_11eb_bc59_0242ac1c0002row11_col25,#T_845c0dd2_566f_11eb_bc59_0242ac1c0002row11_col26,#T_845c0dd2_566f_11eb_bc59_0242ac1c0002row11_col27,#T_845c0dd2_566f_11eb_bc59_0242ac1c0002row12_col0,#T_845c0dd2_566f_11eb_bc59_0242ac1c0002row12_col1,#T_845c0dd2_566f_11eb_bc59_0242ac1c0002row12_col2,#T_845c0dd2_566f_11eb_bc59_0242ac1c0002row12_col3,#T_845c0dd2_566f_11eb_bc59_0242ac1c0002row12_col4,#T_845c0dd2_566f_11eb_bc59_0242ac1c0002row12_col5,#T_845c0dd2_566f_11eb_bc59_0242ac1c0002row12_col6,#T_845c0dd2_566f_11eb_bc59_0242ac1c0002row12_col7,#T_845c0dd2_566f_11eb_bc59_0242ac1c0002row12_col8,#T_845c0dd2_566f_11eb_bc59_0242ac1c0002row12_col9,#T_845c0dd2_566f_11eb_bc59_0242ac1c0002row12_col10,#T_845c0dd2_566f_11eb_bc59_0242ac1c0002row12_col21,#T_845c0dd2_566f_11eb_bc59_0242ac1c0002row12_col22,#T_845c0dd2_566f_11eb_bc59_0242ac1c0002row12_col23,#T_845c0dd2_566f_11eb_bc59_0242ac1c0002row12_col24,#T_845c0dd2_566f_11eb_bc59_0242ac1c0002row12_col25,#T_845c0dd2_566f_11eb_bc59_0242ac1c0002row12_col26,#T_845c0dd2_566f_11eb_bc59_0242ac1c0002row12_col27,#T_845c0dd2_566f_11eb_bc59_0242ac1c0002row13_col0,#T_845c0dd2_566f_11eb_bc59_0242ac1c0002row13_col1,#T_845c0dd2_566f_11eb_bc59_0242ac1c0002row13_col2,#T_845c0dd2_566f_11eb_bc59_0242ac1c0002row13_col3,#T_845c0dd2_566f_11eb_bc59_0242ac1c0002row13_col4,#T_845c0dd2_566f_11eb_bc59_0242ac1c0002row13_col5,#T_845c0dd2_566f_11eb_bc59_0242ac1c0002row13_col6,#T_845c0dd2_566f_11eb_bc59_0242ac1c0002row13_col7,#T_845c0dd2_566f_11eb_bc59_0242ac1c0002row13_col8,#T_845c0dd2_566f_11eb_bc59_0242ac1c0002row13_col9,#T_845c0dd2_566f_11eb_bc59_0242ac1c0002row13_col10,#T_845c0dd2_566f_11eb_bc59_0242ac1c0002row13_col21,#T_845c0dd2_566f_11eb_bc59_0242ac1c0002row13_col22,#T_845c0dd2_566f_11eb_bc59_0242ac1c0002row13_col23,#T_845c0dd2_566f_11eb_bc59_0242ac1c0002row13_col24,#T_845c0dd2_566f_11eb_bc59_0242ac1c0002row13_col25,#T_845c0dd2_566f_11eb_bc59_0242ac1c0002row13_col26,#T_845c0dd2_566f_11eb_bc59_0242ac1c0002row13_col27,#T_845c0dd2_566f_11eb_bc59_0242ac1c0002row14_col0,#T_845c0dd2_566f_11eb_bc59_0242ac1c0002row14_col1,#T_845c0dd2_566f_11eb_bc59_0242ac1c0002row14_col2,#T_845c0dd2_566f_11eb_bc59_0242ac1c0002row14_col3,#T_845c0dd2_566f_11eb_bc59_0242ac1c0002row14_col4,#T_845c0dd2_566f_11eb_bc59_0242ac1c0002row14_col5,#T_845c0dd2_566f_11eb_bc59_0242ac1c0002row14_col6,#T_845c0dd2_566f_11eb_bc59_0242ac1c0002row14_col7,#T_845c0dd2_566f_11eb_bc59_0242ac1c0002row14_col8,#T_845c0dd2_566f_11eb_bc59_0242ac1c0002row14_col21,#T_845c0dd2_566f_11eb_bc59_0242ac1c0002row14_col22,#T_845c0dd2_566f_11eb_bc59_0242ac1c0002row14_col23,#T_845c0dd2_566f_11eb_bc59_0242ac1c0002row14_col24,#T_845c0dd2_566f_11eb_bc59_0242ac1c0002row14_col25,#T_845c0dd2_566f_11eb_bc59_0242ac1c0002row14_col26,#T_845c0dd2_566f_11eb_bc59_0242ac1c0002row14_col27,#T_845c0dd2_566f_11eb_bc59_0242ac1c0002row15_col0,#T_845c0dd2_566f_11eb_bc59_0242ac1c0002row15_col1,#T_845c0dd2_566f_11eb_bc59_0242ac1c0002row15_col2,#T_845c0dd2_566f_11eb_bc59_0242ac1c0002row15_col3,#T_845c0dd2_566f_11eb_bc59_0242ac1c0002row15_col4,#T_845c0dd2_566f_11eb_bc59_0242ac1c0002row15_col5,#T_845c0dd2_566f_11eb_bc59_0242ac1c0002row15_col6,#T_845c0dd2_566f_11eb_bc59_0242ac1c0002row15_col21,#T_845c0dd2_566f_11eb_bc59_0242ac1c0002row15_col22,#T_845c0dd2_566f_11eb_bc59_0242ac1c0002row15_col23,#T_845c0dd2_566f_11eb_bc59_0242ac1c0002row15_col24,#T_845c0dd2_566f_11eb_bc59_0242ac1c0002row15_col25,#T_845c0dd2_566f_11eb_bc59_0242ac1c0002row15_col26,#T_845c0dd2_566f_11eb_bc59_0242ac1c0002row15_col27,#T_845c0dd2_566f_11eb_bc59_0242ac1c0002row16_col0,#T_845c0dd2_566f_11eb_bc59_0242ac1c0002row16_col1,#T_845c0dd2_566f_11eb_bc59_0242ac1c0002row16_col2,#T_845c0dd2_566f_11eb_bc59_0242ac1c0002row16_col3,#T_845c0dd2_566f_11eb_bc59_0242ac1c0002row16_col4,#T_845c0dd2_566f_11eb_bc59_0242ac1c0002row16_col5,#T_845c0dd2_566f_11eb_bc59_0242ac1c0002row16_col14,#T_845c0dd2_566f_11eb_bc59_0242ac1c0002row16_col15,#T_845c0dd2_566f_11eb_bc59_0242ac1c0002row16_col16,#T_845c0dd2_566f_11eb_bc59_0242ac1c0002row16_col21,#T_845c0dd2_566f_11eb_bc59_0242ac1c0002row16_col22,#T_845c0dd2_566f_11eb_bc59_0242ac1c0002row16_col23,#T_845c0dd2_566f_11eb_bc59_0242ac1c0002row16_col24,#T_845c0dd2_566f_11eb_bc59_0242ac1c0002row16_col25,#T_845c0dd2_566f_11eb_bc59_0242ac1c0002row16_col26,#T_845c0dd2_566f_11eb_bc59_0242ac1c0002row16_col27,#T_845c0dd2_566f_11eb_bc59_0242ac1c0002row17_col0,#T_845c0dd2_566f_11eb_bc59_0242ac1c0002row17_col1,#T_845c0dd2_566f_11eb_bc59_0242ac1c0002row17_col2,#T_845c0dd2_566f_11eb_bc59_0242ac1c0002row17_col3,#T_845c0dd2_566f_11eb_bc59_0242ac1c0002row17_col4,#T_845c0dd2_566f_11eb_bc59_0242ac1c0002row17_col5,#T_845c0dd2_566f_11eb_bc59_0242ac1c0002row17_col13,#T_845c0dd2_566f_11eb_bc59_0242ac1c0002row17_col14,#T_845c0dd2_566f_11eb_bc59_0242ac1c0002row17_col15,#T_845c0dd2_566f_11eb_bc59_0242ac1c0002row17_col16,#T_845c0dd2_566f_11eb_bc59_0242ac1c0002row17_col21,#T_845c0dd2_566f_11eb_bc59_0242ac1c0002row17_col22,#T_845c0dd2_566f_11eb_bc59_0242ac1c0002row17_col23,#T_845c0dd2_566f_11eb_bc59_0242ac1c0002row17_col24,#T_845c0dd2_566f_11eb_bc59_0242ac1c0002row17_col25,#T_845c0dd2_566f_11eb_bc59_0242ac1c0002row17_col26,#T_845c0dd2_566f_11eb_bc59_0242ac1c0002row17_col27,#T_845c0dd2_566f_11eb_bc59_0242ac1c0002row18_col0,#T_845c0dd2_566f_11eb_bc59_0242ac1c0002row18_col1,#T_845c0dd2_566f_11eb_bc59_0242ac1c0002row18_col2,#T_845c0dd2_566f_11eb_bc59_0242ac1c0002row18_col3,#T_845c0dd2_566f_11eb_bc59_0242ac1c0002row18_col4,#T_845c0dd2_566f_11eb_bc59_0242ac1c0002row18_col5,#T_845c0dd2_566f_11eb_bc59_0242ac1c0002row18_col13,#T_845c0dd2_566f_11eb_bc59_0242ac1c0002row18_col14,#T_845c0dd2_566f_11eb_bc59_0242ac1c0002row18_col15,#T_845c0dd2_566f_11eb_bc59_0242ac1c0002row18_col16,#T_845c0dd2_566f_11eb_bc59_0242ac1c0002row18_col21,#T_845c0dd2_566f_11eb_bc59_0242ac1c0002row18_col22,#T_845c0dd2_566f_11eb_bc59_0242ac1c0002row18_col23,#T_845c0dd2_566f_11eb_bc59_0242ac1c0002row18_col24,#T_845c0dd2_566f_11eb_bc59_0242ac1c0002row18_col25,#T_845c0dd2_566f_11eb_bc59_0242ac1c0002row18_col26,#T_845c0dd2_566f_11eb_bc59_0242ac1c0002row18_col27,#T_845c0dd2_566f_11eb_bc59_0242ac1c0002row19_col0,#T_845c0dd2_566f_11eb_bc59_0242ac1c0002row19_col1,#T_845c0dd2_566f_11eb_bc59_0242ac1c0002row19_col2,#T_845c0dd2_566f_11eb_bc59_0242ac1c0002row19_col3,#T_845c0dd2_566f_11eb_bc59_0242ac1c0002row19_col4,#T_845c0dd2_566f_11eb_bc59_0242ac1c0002row19_col5,#T_845c0dd2_566f_11eb_bc59_0242ac1c0002row19_col12,#T_845c0dd2_566f_11eb_bc59_0242ac1c0002row19_col13,#T_845c0dd2_566f_11eb_bc59_0242ac1c0002row19_col14,#T_845c0dd2_566f_11eb_bc59_0242ac1c0002row19_col15,#T_845c0dd2_566f_11eb_bc59_0242ac1c0002row19_col16,#T_845c0dd2_566f_11eb_bc59_0242ac1c0002row19_col21,#T_845c0dd2_566f_11eb_bc59_0242ac1c0002row19_col22,#T_845c0dd2_566f_11eb_bc59_0242ac1c0002row19_col23,#T_845c0dd2_566f_11eb_bc59_0242ac1c0002row19_col24,#T_845c0dd2_566f_11eb_bc59_0242ac1c0002row19_col25,#T_845c0dd2_566f_11eb_bc59_0242ac1c0002row19_col26,#T_845c0dd2_566f_11eb_bc59_0242ac1c0002row19_col27,#T_845c0dd2_566f_11eb_bc59_0242ac1c0002row20_col0,#T_845c0dd2_566f_11eb_bc59_0242ac1c0002row20_col1,#T_845c0dd2_566f_11eb_bc59_0242ac1c0002row20_col2,#T_845c0dd2_566f_11eb_bc59_0242ac1c0002row20_col3,#T_845c0dd2_566f_11eb_bc59_0242ac1c0002row20_col4,#T_845c0dd2_566f_11eb_bc59_0242ac1c0002row20_col5,#T_845c0dd2_566f_11eb_bc59_0242ac1c0002row20_col12,#T_845c0dd2_566f_11eb_bc59_0242ac1c0002row20_col13,#T_845c0dd2_566f_11eb_bc59_0242ac1c0002row20_col14,#T_845c0dd2_566f_11eb_bc59_0242ac1c0002row20_col15,#T_845c0dd2_566f_11eb_bc59_0242ac1c0002row20_col16,#T_845c0dd2_566f_11eb_bc59_0242ac1c0002row20_col21,#T_845c0dd2_566f_11eb_bc59_0242ac1c0002row20_col22,#T_845c0dd2_566f_11eb_bc59_0242ac1c0002row20_col23,#T_845c0dd2_566f_11eb_bc59_0242ac1c0002row20_col24,#T_845c0dd2_566f_11eb_bc59_0242ac1c0002row20_col25,#T_845c0dd2_566f_11eb_bc59_0242ac1c0002row20_col26,#T_845c0dd2_566f_11eb_bc59_0242ac1c0002row20_col27,#T_845c0dd2_566f_11eb_bc59_0242ac1c0002row21_col0,#T_845c0dd2_566f_11eb_bc59_0242ac1c0002row21_col1,#T_845c0dd2_566f_11eb_bc59_0242ac1c0002row21_col2,#T_845c0dd2_566f_11eb_bc59_0242ac1c0002row21_col3,#T_845c0dd2_566f_11eb_bc59_0242ac1c0002row21_col4,#T_845c0dd2_566f_11eb_bc59_0242ac1c0002row21_col5,#T_845c0dd2_566f_11eb_bc59_0242ac1c0002row21_col6,#T_845c0dd2_566f_11eb_bc59_0242ac1c0002row21_col11,#T_845c0dd2_566f_11eb_bc59_0242ac1c0002row21_col12,#T_845c0dd2_566f_11eb_bc59_0242ac1c0002row21_col13,#T_845c0dd2_566f_11eb_bc59_0242ac1c0002row21_col14,#T_845c0dd2_566f_11eb_bc59_0242ac1c0002row21_col15,#T_845c0dd2_566f_11eb_bc59_0242ac1c0002row21_col16,#T_845c0dd2_566f_11eb_bc59_0242ac1c0002row21_col17,#T_845c0dd2_566f_11eb_bc59_0242ac1c0002row21_col21,#T_845c0dd2_566f_11eb_bc59_0242ac1c0002row21_col22,#T_845c0dd2_566f_11eb_bc59_0242ac1c0002row21_col23,#T_845c0dd2_566f_11eb_bc59_0242ac1c0002row21_col24,#T_845c0dd2_566f_11eb_bc59_0242ac1c0002row21_col25,#T_845c0dd2_566f_11eb_bc59_0242ac1c0002row21_col26,#T_845c0dd2_566f_11eb_bc59_0242ac1c0002row21_col27,#T_845c0dd2_566f_11eb_bc59_0242ac1c0002row22_col0,#T_845c0dd2_566f_11eb_bc59_0242ac1c0002row22_col1,#T_845c0dd2_566f_11eb_bc59_0242ac1c0002row22_col2,#T_845c0dd2_566f_11eb_bc59_0242ac1c0002row22_col3,#T_845c0dd2_566f_11eb_bc59_0242ac1c0002row22_col4,#T_845c0dd2_566f_11eb_bc59_0242ac1c0002row22_col5,#T_845c0dd2_566f_11eb_bc59_0242ac1c0002row22_col6,#T_845c0dd2_566f_11eb_bc59_0242ac1c0002row22_col7,#T_845c0dd2_566f_11eb_bc59_0242ac1c0002row22_col8,#T_845c0dd2_566f_11eb_bc59_0242ac1c0002row22_col9,#T_845c0dd2_566f_11eb_bc59_0242ac1c0002row22_col10,#T_845c0dd2_566f_11eb_bc59_0242ac1c0002row22_col11,#T_845c0dd2_566f_11eb_bc59_0242ac1c0002row22_col12,#T_845c0dd2_566f_11eb_bc59_0242ac1c0002row22_col13,#T_845c0dd2_566f_11eb_bc59_0242ac1c0002row22_col14,#T_845c0dd2_566f_11eb_bc59_0242ac1c0002row22_col15,#T_845c0dd2_566f_11eb_bc59_0242ac1c0002row22_col16,#T_845c0dd2_566f_11eb_bc59_0242ac1c0002row22_col17,#T_845c0dd2_566f_11eb_bc59_0242ac1c0002row22_col22,#T_845c0dd2_566f_11eb_bc59_0242ac1c0002row22_col23,#T_845c0dd2_566f_11eb_bc59_0242ac1c0002row22_col24,#T_845c0dd2_566f_11eb_bc59_0242ac1c0002row22_col25,#T_845c0dd2_566f_11eb_bc59_0242ac1c0002row22_col26,#T_845c0dd2_566f_11eb_bc59_0242ac1c0002row22_col27,#T_845c0dd2_566f_11eb_bc59_0242ac1c0002row23_col0,#T_845c0dd2_566f_11eb_bc59_0242ac1c0002row23_col1,#T_845c0dd2_566f_11eb_bc59_0242ac1c0002row23_col2,#T_845c0dd2_566f_11eb_bc59_0242ac1c0002row23_col3,#T_845c0dd2_566f_11eb_bc59_0242ac1c0002row23_col4,#T_845c0dd2_566f_11eb_bc59_0242ac1c0002row23_col5,#T_845c0dd2_566f_11eb_bc59_0242ac1c0002row23_col6,#T_845c0dd2_566f_11eb_bc59_0242ac1c0002row23_col7,#T_845c0dd2_566f_11eb_bc59_0242ac1c0002row23_col8,#T_845c0dd2_566f_11eb_bc59_0242ac1c0002row23_col9,#T_845c0dd2_566f_11eb_bc59_0242ac1c0002row23_col10,#T_845c0dd2_566f_11eb_bc59_0242ac1c0002row23_col11,#T_845c0dd2_566f_11eb_bc59_0242ac1c0002row23_col12,#T_845c0dd2_566f_11eb_bc59_0242ac1c0002row23_col13,#T_845c0dd2_566f_11eb_bc59_0242ac1c0002row23_col14,#T_845c0dd2_566f_11eb_bc59_0242ac1c0002row23_col15,#T_845c0dd2_566f_11eb_bc59_0242ac1c0002row23_col16,#T_845c0dd2_566f_11eb_bc59_0242ac1c0002row23_col17,#T_845c0dd2_566f_11eb_bc59_0242ac1c0002row23_col22,#T_845c0dd2_566f_11eb_bc59_0242ac1c0002row23_col23,#T_845c0dd2_566f_11eb_bc59_0242ac1c0002row23_col24,#T_845c0dd2_566f_11eb_bc59_0242ac1c0002row23_col25,#T_845c0dd2_566f_11eb_bc59_0242ac1c0002row23_col26,#T_845c0dd2_566f_11eb_bc59_0242ac1c0002row23_col27,#T_845c0dd2_566f_11eb_bc59_0242ac1c0002row24_col0,#T_845c0dd2_566f_11eb_bc59_0242ac1c0002row24_col1,#T_845c0dd2_566f_11eb_bc59_0242ac1c0002row24_col2,#T_845c0dd2_566f_11eb_bc59_0242ac1c0002row24_col3,#T_845c0dd2_566f_11eb_bc59_0242ac1c0002row24_col4,#T_845c0dd2_566f_11eb_bc59_0242ac1c0002row24_col5,#T_845c0dd2_566f_11eb_bc59_0242ac1c0002row24_col6,#T_845c0dd2_566f_11eb_bc59_0242ac1c0002row24_col7,#T_845c0dd2_566f_11eb_bc59_0242ac1c0002row24_col8,#T_845c0dd2_566f_11eb_bc59_0242ac1c0002row24_col9,#T_845c0dd2_566f_11eb_bc59_0242ac1c0002row24_col10,#T_845c0dd2_566f_11eb_bc59_0242ac1c0002row24_col11,#T_845c0dd2_566f_11eb_bc59_0242ac1c0002row24_col12,#T_845c0dd2_566f_11eb_bc59_0242ac1c0002row24_col13,#T_845c0dd2_566f_11eb_bc59_0242ac1c0002row24_col14,#T_845c0dd2_566f_11eb_bc59_0242ac1c0002row24_col15,#T_845c0dd2_566f_11eb_bc59_0242ac1c0002row24_col16,#T_845c0dd2_566f_11eb_bc59_0242ac1c0002row24_col17,#T_845c0dd2_566f_11eb_bc59_0242ac1c0002row24_col18,#T_845c0dd2_566f_11eb_bc59_0242ac1c0002row24_col22,#T_845c0dd2_566f_11eb_bc59_0242ac1c0002row24_col23,#T_845c0dd2_566f_11eb_bc59_0242ac1c0002row24_col24,#T_845c0dd2_566f_11eb_bc59_0242ac1c0002row24_col25,#T_845c0dd2_566f_11eb_bc59_0242ac1c0002row24_col26,#T_845c0dd2_566f_11eb_bc59_0242ac1c0002row24_col27,#T_845c0dd2_566f_11eb_bc59_0242ac1c0002row25_col0,#T_845c0dd2_566f_11eb_bc59_0242ac1c0002row25_col1,#T_845c0dd2_566f_11eb_bc59_0242ac1c0002row25_col2,#T_845c0dd2_566f_11eb_bc59_0242ac1c0002row25_col3,#T_845c0dd2_566f_11eb_bc59_0242ac1c0002row25_col4,#T_845c0dd2_566f_11eb_bc59_0242ac1c0002row25_col5,#T_845c0dd2_566f_11eb_bc59_0242ac1c0002row25_col6,#T_845c0dd2_566f_11eb_bc59_0242ac1c0002row25_col7,#T_845c0dd2_566f_11eb_bc59_0242ac1c0002row25_col8,#T_845c0dd2_566f_11eb_bc59_0242ac1c0002row25_col9,#T_845c0dd2_566f_11eb_bc59_0242ac1c0002row25_col10,#T_845c0dd2_566f_11eb_bc59_0242ac1c0002row25_col11,#T_845c0dd2_566f_11eb_bc59_0242ac1c0002row25_col12,#T_845c0dd2_566f_11eb_bc59_0242ac1c0002row25_col13,#T_845c0dd2_566f_11eb_bc59_0242ac1c0002row25_col14,#T_845c0dd2_566f_11eb_bc59_0242ac1c0002row25_col15,#T_845c0dd2_566f_11eb_bc59_0242ac1c0002row25_col16,#T_845c0dd2_566f_11eb_bc59_0242ac1c0002row25_col17,#T_845c0dd2_566f_11eb_bc59_0242ac1c0002row25_col18,#T_845c0dd2_566f_11eb_bc59_0242ac1c0002row25_col19,#T_845c0dd2_566f_11eb_bc59_0242ac1c0002row25_col20,#T_845c0dd2_566f_11eb_bc59_0242ac1c0002row25_col21,#T_845c0dd2_566f_11eb_bc59_0242ac1c0002row25_col22,#T_845c0dd2_566f_11eb_bc59_0242ac1c0002row25_col23,#T_845c0dd2_566f_11eb_bc59_0242ac1c0002row25_col24,#T_845c0dd2_566f_11eb_bc59_0242ac1c0002row25_col25,#T_845c0dd2_566f_11eb_bc59_0242ac1c0002row25_col26,#T_845c0dd2_566f_11eb_bc59_0242ac1c0002row25_col27,#T_845c0dd2_566f_11eb_bc59_0242ac1c0002row26_col0,#T_845c0dd2_566f_11eb_bc59_0242ac1c0002row26_col1,#T_845c0dd2_566f_11eb_bc59_0242ac1c0002row26_col2,#T_845c0dd2_566f_11eb_bc59_0242ac1c0002row26_col3,#T_845c0dd2_566f_11eb_bc59_0242ac1c0002row26_col4,#T_845c0dd2_566f_11eb_bc59_0242ac1c0002row26_col5,#T_845c0dd2_566f_11eb_bc59_0242ac1c0002row26_col6,#T_845c0dd2_566f_11eb_bc59_0242ac1c0002row26_col7,#T_845c0dd2_566f_11eb_bc59_0242ac1c0002row26_col8,#T_845c0dd2_566f_11eb_bc59_0242ac1c0002row26_col9,#T_845c0dd2_566f_11eb_bc59_0242ac1c0002row26_col10,#T_845c0dd2_566f_11eb_bc59_0242ac1c0002row26_col11,#T_845c0dd2_566f_11eb_bc59_0242ac1c0002row26_col12,#T_845c0dd2_566f_11eb_bc59_0242ac1c0002row26_col13,#T_845c0dd2_566f_11eb_bc59_0242ac1c0002row26_col14,#T_845c0dd2_566f_11eb_bc59_0242ac1c0002row26_col15,#T_845c0dd2_566f_11eb_bc59_0242ac1c0002row26_col16,#T_845c0dd2_566f_11eb_bc59_0242ac1c0002row26_col17,#T_845c0dd2_566f_11eb_bc59_0242ac1c0002row26_col18,#T_845c0dd2_566f_11eb_bc59_0242ac1c0002row26_col19,#T_845c0dd2_566f_11eb_bc59_0242ac1c0002row26_col20,#T_845c0dd2_566f_11eb_bc59_0242ac1c0002row26_col21,#T_845c0dd2_566f_11eb_bc59_0242ac1c0002row26_col22,#T_845c0dd2_566f_11eb_bc59_0242ac1c0002row26_col23,#T_845c0dd2_566f_11eb_bc59_0242ac1c0002row26_col24,#T_845c0dd2_566f_11eb_bc59_0242ac1c0002row26_col25,#T_845c0dd2_566f_11eb_bc59_0242ac1c0002row26_col26,#T_845c0dd2_566f_11eb_bc59_0242ac1c0002row26_col27,#T_845c0dd2_566f_11eb_bc59_0242ac1c0002row27_col0,#T_845c0dd2_566f_11eb_bc59_0242ac1c0002row27_col1,#T_845c0dd2_566f_11eb_bc59_0242ac1c0002row27_col2,#T_845c0dd2_566f_11eb_bc59_0242ac1c0002row27_col3,#T_845c0dd2_566f_11eb_bc59_0242ac1c0002row27_col4,#T_845c0dd2_566f_11eb_bc59_0242ac1c0002row27_col5,#T_845c0dd2_566f_11eb_bc59_0242ac1c0002row27_col6,#T_845c0dd2_566f_11eb_bc59_0242ac1c0002row27_col7,#T_845c0dd2_566f_11eb_bc59_0242ac1c0002row27_col8,#T_845c0dd2_566f_11eb_bc59_0242ac1c0002row27_col9,#T_845c0dd2_566f_11eb_bc59_0242ac1c0002row27_col10,#T_845c0dd2_566f_11eb_bc59_0242ac1c0002row27_col11,#T_845c0dd2_566f_11eb_bc59_0242ac1c0002row27_col12,#T_845c0dd2_566f_11eb_bc59_0242ac1c0002row27_col13,#T_845c0dd2_566f_11eb_bc59_0242ac1c0002row27_col14,#T_845c0dd2_566f_11eb_bc59_0242ac1c0002row27_col15,#T_845c0dd2_566f_11eb_bc59_0242ac1c0002row27_col16,#T_845c0dd2_566f_11eb_bc59_0242ac1c0002row27_col17,#T_845c0dd2_566f_11eb_bc59_0242ac1c0002row27_col18,#T_845c0dd2_566f_11eb_bc59_0242ac1c0002row27_col19,#T_845c0dd2_566f_11eb_bc59_0242ac1c0002row27_col20,#T_845c0dd2_566f_11eb_bc59_0242ac1c0002row27_col21,#T_845c0dd2_566f_11eb_bc59_0242ac1c0002row27_col22,#T_845c0dd2_566f_11eb_bc59_0242ac1c0002row27_col23,#T_845c0dd2_566f_11eb_bc59_0242ac1c0002row27_col24,#T_845c0dd2_566f_11eb_bc59_0242ac1c0002row27_col25,#T_845c0dd2_566f_11eb_bc59_0242ac1c0002row27_col26,#T_845c0dd2_566f_11eb_bc59_0242ac1c0002row27_col27{\n",
       "            font-size:  6pt;\n",
       "            background-color:  #ffffff;\n",
       "            color:  #000000;\n",
       "        }#T_845c0dd2_566f_11eb_bc59_0242ac1c0002row5_col10{\n",
       "            font-size:  6pt;\n",
       "            background-color:  #d5d5d5;\n",
       "            color:  #000000;\n",
       "        }#T_845c0dd2_566f_11eb_bc59_0242ac1c0002row5_col11{\n",
       "            font-size:  6pt;\n",
       "            background-color:  #414141;\n",
       "            color:  #f1f1f1;\n",
       "        }#T_845c0dd2_566f_11eb_bc59_0242ac1c0002row5_col12{\n",
       "            font-size:  6pt;\n",
       "            background-color:  #1e1e1e;\n",
       "            color:  #f1f1f1;\n",
       "        }#T_845c0dd2_566f_11eb_bc59_0242ac1c0002row5_col13,#T_845c0dd2_566f_11eb_bc59_0242ac1c0002row21_col10{\n",
       "            font-size:  6pt;\n",
       "            background-color:  #e9e9e9;\n",
       "            color:  #000000;\n",
       "        }#T_845c0dd2_566f_11eb_bc59_0242ac1c0002row6_col10{\n",
       "            font-size:  6pt;\n",
       "            background-color:  #515151;\n",
       "            color:  #f1f1f1;\n",
       "        }#T_845c0dd2_566f_11eb_bc59_0242ac1c0002row6_col11,#T_845c0dd2_566f_11eb_bc59_0242ac1c0002row6_col12,#T_845c0dd2_566f_11eb_bc59_0242ac1c0002row7_col12,#T_845c0dd2_566f_11eb_bc59_0242ac1c0002row7_col13,#T_845c0dd2_566f_11eb_bc59_0242ac1c0002row8_col12,#T_845c0dd2_566f_11eb_bc59_0242ac1c0002row8_col13,#T_845c0dd2_566f_11eb_bc59_0242ac1c0002row8_col18,#T_845c0dd2_566f_11eb_bc59_0242ac1c0002row9_col12,#T_845c0dd2_566f_11eb_bc59_0242ac1c0002row9_col13,#T_845c0dd2_566f_11eb_bc59_0242ac1c0002row9_col18,#T_845c0dd2_566f_11eb_bc59_0242ac1c0002row10_col19,#T_845c0dd2_566f_11eb_bc59_0242ac1c0002row11_col12,#T_845c0dd2_566f_11eb_bc59_0242ac1c0002row11_col13,#T_845c0dd2_566f_11eb_bc59_0242ac1c0002row11_col18,#T_845c0dd2_566f_11eb_bc59_0242ac1c0002row12_col12,#T_845c0dd2_566f_11eb_bc59_0242ac1c0002row12_col13,#T_845c0dd2_566f_11eb_bc59_0242ac1c0002row12_col18,#T_845c0dd2_566f_11eb_bc59_0242ac1c0002row13_col12,#T_845c0dd2_566f_11eb_bc59_0242ac1c0002row13_col13,#T_845c0dd2_566f_11eb_bc59_0242ac1c0002row13_col18,#T_845c0dd2_566f_11eb_bc59_0242ac1c0002row14_col12,#T_845c0dd2_566f_11eb_bc59_0242ac1c0002row14_col13,#T_845c0dd2_566f_11eb_bc59_0242ac1c0002row14_col18,#T_845c0dd2_566f_11eb_bc59_0242ac1c0002row16_col8,#T_845c0dd2_566f_11eb_bc59_0242ac1c0002row16_col9,#T_845c0dd2_566f_11eb_bc59_0242ac1c0002row16_col10,#T_845c0dd2_566f_11eb_bc59_0242ac1c0002row16_col11,#T_845c0dd2_566f_11eb_bc59_0242ac1c0002row16_col18,#T_845c0dd2_566f_11eb_bc59_0242ac1c0002row17_col8,#T_845c0dd2_566f_11eb_bc59_0242ac1c0002row17_col9,#T_845c0dd2_566f_11eb_bc59_0242ac1c0002row17_col10,#T_845c0dd2_566f_11eb_bc59_0242ac1c0002row17_col11,#T_845c0dd2_566f_11eb_bc59_0242ac1c0002row17_col18,#T_845c0dd2_566f_11eb_bc59_0242ac1c0002row18_col8,#T_845c0dd2_566f_11eb_bc59_0242ac1c0002row18_col9,#T_845c0dd2_566f_11eb_bc59_0242ac1c0002row18_col10,#T_845c0dd2_566f_11eb_bc59_0242ac1c0002row19_col8,#T_845c0dd2_566f_11eb_bc59_0242ac1c0002row19_col9,#T_845c0dd2_566f_11eb_bc59_0242ac1c0002row19_col10{\n",
       "            font-size:  6pt;\n",
       "            background-color:  #010101;\n",
       "            color:  #f1f1f1;\n",
       "        }#T_845c0dd2_566f_11eb_bc59_0242ac1c0002row6_col13{\n",
       "            font-size:  6pt;\n",
       "            background-color:  #5a5a5a;\n",
       "            color:  #f1f1f1;\n",
       "        }#T_845c0dd2_566f_11eb_bc59_0242ac1c0002row7_col10{\n",
       "            font-size:  6pt;\n",
       "            background-color:  #e2e2e2;\n",
       "            color:  #000000;\n",
       "        }#T_845c0dd2_566f_11eb_bc59_0242ac1c0002row7_col11,#T_845c0dd2_566f_11eb_bc59_0242ac1c0002row18_col18{\n",
       "            font-size:  6pt;\n",
       "            background-color:  #0d0d0d;\n",
       "            color:  #f1f1f1;\n",
       "        }#T_845c0dd2_566f_11eb_bc59_0242ac1c0002row7_col17{\n",
       "            font-size:  6pt;\n",
       "            background-color:  #fcfcfc;\n",
       "            color:  #000000;\n",
       "        }#T_845c0dd2_566f_11eb_bc59_0242ac1c0002row7_col18,#T_845c0dd2_566f_11eb_bc59_0242ac1c0002row13_col11{\n",
       "            font-size:  6pt;\n",
       "            background-color:  #797979;\n",
       "            color:  #000000;\n",
       "        }#T_845c0dd2_566f_11eb_bc59_0242ac1c0002row7_col19,#T_845c0dd2_566f_11eb_bc59_0242ac1c0002row16_col12{\n",
       "            font-size:  6pt;\n",
       "            background-color:  #1a1a1a;\n",
       "            color:  #f1f1f1;\n",
       "        }#T_845c0dd2_566f_11eb_bc59_0242ac1c0002row7_col20{\n",
       "            font-size:  6pt;\n",
       "            background-color:  #a9a9a9;\n",
       "            color:  #000000;\n",
       "        }#T_845c0dd2_566f_11eb_bc59_0242ac1c0002row8_col11{\n",
       "            font-size:  6pt;\n",
       "            background-color:  #707070;\n",
       "            color:  #000000;\n",
       "        }#T_845c0dd2_566f_11eb_bc59_0242ac1c0002row8_col17,#T_845c0dd2_566f_11eb_bc59_0242ac1c0002row9_col17,#T_845c0dd2_566f_11eb_bc59_0242ac1c0002row10_col17,#T_845c0dd2_566f_11eb_bc59_0242ac1c0002row11_col17,#T_845c0dd2_566f_11eb_bc59_0242ac1c0002row12_col17,#T_845c0dd2_566f_11eb_bc59_0242ac1c0002row16_col17,#T_845c0dd2_566f_11eb_bc59_0242ac1c0002row17_col17{\n",
       "            font-size:  6pt;\n",
       "            background-color:  #d8d8d8;\n",
       "            color:  #000000;\n",
       "        }#T_845c0dd2_566f_11eb_bc59_0242ac1c0002row8_col19,#T_845c0dd2_566f_11eb_bc59_0242ac1c0002row9_col19,#T_845c0dd2_566f_11eb_bc59_0242ac1c0002row11_col19,#T_845c0dd2_566f_11eb_bc59_0242ac1c0002row12_col19,#T_845c0dd2_566f_11eb_bc59_0242ac1c0002row13_col19,#T_845c0dd2_566f_11eb_bc59_0242ac1c0002row14_col19,#T_845c0dd2_566f_11eb_bc59_0242ac1c0002row16_col19,#T_845c0dd2_566f_11eb_bc59_0242ac1c0002row17_col19,#T_845c0dd2_566f_11eb_bc59_0242ac1c0002row18_col19,#T_845c0dd2_566f_11eb_bc59_0242ac1c0002row19_col19,#T_845c0dd2_566f_11eb_bc59_0242ac1c0002row21_col19,#T_845c0dd2_566f_11eb_bc59_0242ac1c0002row22_col19,#T_845c0dd2_566f_11eb_bc59_0242ac1c0002row23_col19{\n",
       "            font-size:  6pt;\n",
       "            background-color:  #020202;\n",
       "            color:  #f1f1f1;\n",
       "        }#T_845c0dd2_566f_11eb_bc59_0242ac1c0002row8_col20,#T_845c0dd2_566f_11eb_bc59_0242ac1c0002row9_col20,#T_845c0dd2_566f_11eb_bc59_0242ac1c0002row16_col20,#T_845c0dd2_566f_11eb_bc59_0242ac1c0002row17_col20,#T_845c0dd2_566f_11eb_bc59_0242ac1c0002row18_col20,#T_845c0dd2_566f_11eb_bc59_0242ac1c0002row19_col20,#T_845c0dd2_566f_11eb_bc59_0242ac1c0002row20_col20,#T_845c0dd2_566f_11eb_bc59_0242ac1c0002row21_col20{\n",
       "            font-size:  6pt;\n",
       "            background-color:  #686868;\n",
       "            color:  #f1f1f1;\n",
       "        }#T_845c0dd2_566f_11eb_bc59_0242ac1c0002row9_col11,#T_845c0dd2_566f_11eb_bc59_0242ac1c0002row11_col11,#T_845c0dd2_566f_11eb_bc59_0242ac1c0002row12_col11{\n",
       "            font-size:  6pt;\n",
       "            background-color:  #959595;\n",
       "            color:  #000000;\n",
       "        }#T_845c0dd2_566f_11eb_bc59_0242ac1c0002row10_col11{\n",
       "            font-size:  6pt;\n",
       "            background-color:  #949494;\n",
       "            color:  #000000;\n",
       "        }#T_845c0dd2_566f_11eb_bc59_0242ac1c0002row10_col12,#T_845c0dd2_566f_11eb_bc59_0242ac1c0002row10_col13,#T_845c0dd2_566f_11eb_bc59_0242ac1c0002row10_col18,#T_845c0dd2_566f_11eb_bc59_0242ac1c0002row13_col15,#T_845c0dd2_566f_11eb_bc59_0242ac1c0002row14_col14,#T_845c0dd2_566f_11eb_bc59_0242ac1c0002row14_col15,#T_845c0dd2_566f_11eb_bc59_0242ac1c0002row14_col16,#T_845c0dd2_566f_11eb_bc59_0242ac1c0002row14_col17,#T_845c0dd2_566f_11eb_bc59_0242ac1c0002row15_col9,#T_845c0dd2_566f_11eb_bc59_0242ac1c0002row15_col10,#T_845c0dd2_566f_11eb_bc59_0242ac1c0002row15_col11,#T_845c0dd2_566f_11eb_bc59_0242ac1c0002row15_col12,#T_845c0dd2_566f_11eb_bc59_0242ac1c0002row15_col13,#T_845c0dd2_566f_11eb_bc59_0242ac1c0002row15_col18,#T_845c0dd2_566f_11eb_bc59_0242ac1c0002row15_col19,#T_845c0dd2_566f_11eb_bc59_0242ac1c0002row17_col6,#T_845c0dd2_566f_11eb_bc59_0242ac1c0002row17_col7,#T_845c0dd2_566f_11eb_bc59_0242ac1c0002row18_col6,#T_845c0dd2_566f_11eb_bc59_0242ac1c0002row18_col7,#T_845c0dd2_566f_11eb_bc59_0242ac1c0002row19_col6,#T_845c0dd2_566f_11eb_bc59_0242ac1c0002row19_col7,#T_845c0dd2_566f_11eb_bc59_0242ac1c0002row20_col8,#T_845c0dd2_566f_11eb_bc59_0242ac1c0002row20_col9,#T_845c0dd2_566f_11eb_bc59_0242ac1c0002row20_col19,#T_845c0dd2_566f_11eb_bc59_0242ac1c0002row23_col20,#T_845c0dd2_566f_11eb_bc59_0242ac1c0002row23_col21,#T_845c0dd2_566f_11eb_bc59_0242ac1c0002row24_col20,#T_845c0dd2_566f_11eb_bc59_0242ac1c0002row24_col21{\n",
       "            font-size:  6pt;\n",
       "            background-color:  #000000;\n",
       "            color:  #f1f1f1;\n",
       "        }#T_845c0dd2_566f_11eb_bc59_0242ac1c0002row10_col14,#T_845c0dd2_566f_11eb_bc59_0242ac1c0002row20_col6{\n",
       "            font-size:  6pt;\n",
       "            background-color:  #f7f7f7;\n",
       "            color:  #000000;\n",
       "        }#T_845c0dd2_566f_11eb_bc59_0242ac1c0002row10_col20,#T_845c0dd2_566f_11eb_bc59_0242ac1c0002row12_col20{\n",
       "            font-size:  6pt;\n",
       "            background-color:  #aeaeae;\n",
       "            color:  #000000;\n",
       "        }#T_845c0dd2_566f_11eb_bc59_0242ac1c0002row11_col14{\n",
       "            font-size:  6pt;\n",
       "            background-color:  #d3d3d3;\n",
       "            color:  #000000;\n",
       "        }#T_845c0dd2_566f_11eb_bc59_0242ac1c0002row11_col20,#T_845c0dd2_566f_11eb_bc59_0242ac1c0002row13_col20,#T_845c0dd2_566f_11eb_bc59_0242ac1c0002row14_col20{\n",
       "            font-size:  6pt;\n",
       "            background-color:  #d9d9d9;\n",
       "            color:  #000000;\n",
       "        }#T_845c0dd2_566f_11eb_bc59_0242ac1c0002row12_col14{\n",
       "            font-size:  6pt;\n",
       "            background-color:  #fdfdfd;\n",
       "            color:  #000000;\n",
       "        }#T_845c0dd2_566f_11eb_bc59_0242ac1c0002row12_col15{\n",
       "            font-size:  6pt;\n",
       "            background-color:  #f5f5f5;\n",
       "            color:  #000000;\n",
       "        }#T_845c0dd2_566f_11eb_bc59_0242ac1c0002row12_col16{\n",
       "            font-size:  6pt;\n",
       "            background-color:  #fafafa;\n",
       "            color:  #000000;\n",
       "        }#T_845c0dd2_566f_11eb_bc59_0242ac1c0002row13_col14{\n",
       "            font-size:  6pt;\n",
       "            background-color:  #585858;\n",
       "            color:  #f1f1f1;\n",
       "        }#T_845c0dd2_566f_11eb_bc59_0242ac1c0002row13_col16,#T_845c0dd2_566f_11eb_bc59_0242ac1c0002row22_col20{\n",
       "            font-size:  6pt;\n",
       "            background-color:  #333333;\n",
       "            color:  #f1f1f1;\n",
       "        }#T_845c0dd2_566f_11eb_bc59_0242ac1c0002row13_col17{\n",
       "            font-size:  6pt;\n",
       "            background-color:  #505050;\n",
       "            color:  #f1f1f1;\n",
       "        }#T_845c0dd2_566f_11eb_bc59_0242ac1c0002row14_col9{\n",
       "            font-size:  6pt;\n",
       "            background-color:  #dadada;\n",
       "            color:  #000000;\n",
       "        }#T_845c0dd2_566f_11eb_bc59_0242ac1c0002row14_col10{\n",
       "            font-size:  6pt;\n",
       "            background-color:  #565656;\n",
       "            color:  #f1f1f1;\n",
       "        }#T_845c0dd2_566f_11eb_bc59_0242ac1c0002row14_col11{\n",
       "            font-size:  6pt;\n",
       "            background-color:  #050505;\n",
       "            color:  #f1f1f1;\n",
       "        }#T_845c0dd2_566f_11eb_bc59_0242ac1c0002row15_col7{\n",
       "            font-size:  6pt;\n",
       "            background-color:  #ececec;\n",
       "            color:  #000000;\n",
       "        }#T_845c0dd2_566f_11eb_bc59_0242ac1c0002row15_col8{\n",
       "            font-size:  6pt;\n",
       "            background-color:  #4e4e4e;\n",
       "            color:  #f1f1f1;\n",
       "        }#T_845c0dd2_566f_11eb_bc59_0242ac1c0002row15_col14,#T_845c0dd2_566f_11eb_bc59_0242ac1c0002row15_col15,#T_845c0dd2_566f_11eb_bc59_0242ac1c0002row15_col16,#T_845c0dd2_566f_11eb_bc59_0242ac1c0002row18_col11{\n",
       "            font-size:  6pt;\n",
       "            background-color:  #323232;\n",
       "            color:  #f1f1f1;\n",
       "        }#T_845c0dd2_566f_11eb_bc59_0242ac1c0002row15_col17{\n",
       "            font-size:  6pt;\n",
       "            background-color:  #232323;\n",
       "            color:  #f1f1f1;\n",
       "        }#T_845c0dd2_566f_11eb_bc59_0242ac1c0002row15_col20{\n",
       "            font-size:  6pt;\n",
       "            background-color:  #c9c9c9;\n",
       "            color:  #000000;\n",
       "        }#T_845c0dd2_566f_11eb_bc59_0242ac1c0002row16_col6{\n",
       "            font-size:  6pt;\n",
       "            background-color:  #c5c5c5;\n",
       "            color:  #000000;\n",
       "        }#T_845c0dd2_566f_11eb_bc59_0242ac1c0002row16_col7{\n",
       "            font-size:  6pt;\n",
       "            background-color:  #656565;\n",
       "            color:  #f1f1f1;\n",
       "        }#T_845c0dd2_566f_11eb_bc59_0242ac1c0002row16_col13{\n",
       "            font-size:  6pt;\n",
       "            background-color:  #999999;\n",
       "            color:  #000000;\n",
       "        }#T_845c0dd2_566f_11eb_bc59_0242ac1c0002row17_col12{\n",
       "            font-size:  6pt;\n",
       "            background-color:  #8c8c8c;\n",
       "            color:  #000000;\n",
       "        }#T_845c0dd2_566f_11eb_bc59_0242ac1c0002row18_col12,#T_845c0dd2_566f_11eb_bc59_0242ac1c0002row19_col17,#T_845c0dd2_566f_11eb_bc59_0242ac1c0002row20_col17{\n",
       "            font-size:  6pt;\n",
       "            background-color:  #f2f2f2;\n",
       "            color:  #000000;\n",
       "        }#T_845c0dd2_566f_11eb_bc59_0242ac1c0002row18_col17{\n",
       "            font-size:  6pt;\n",
       "            background-color:  #e4e4e4;\n",
       "            color:  #000000;\n",
       "        }#T_845c0dd2_566f_11eb_bc59_0242ac1c0002row19_col11{\n",
       "            font-size:  6pt;\n",
       "            background-color:  #979797;\n",
       "            color:  #000000;\n",
       "        }#T_845c0dd2_566f_11eb_bc59_0242ac1c0002row19_col18{\n",
       "            font-size:  6pt;\n",
       "            background-color:  #1d1d1d;\n",
       "            color:  #f1f1f1;\n",
       "        }#T_845c0dd2_566f_11eb_bc59_0242ac1c0002row20_col7{\n",
       "            font-size:  6pt;\n",
       "            background-color:  #3c3c3c;\n",
       "            color:  #f1f1f1;\n",
       "        }#T_845c0dd2_566f_11eb_bc59_0242ac1c0002row20_col10{\n",
       "            font-size:  6pt;\n",
       "            background-color:  #555555;\n",
       "            color:  #f1f1f1;\n",
       "        }#T_845c0dd2_566f_11eb_bc59_0242ac1c0002row20_col11{\n",
       "            font-size:  6pt;\n",
       "            background-color:  #fbfbfb;\n",
       "            color:  #000000;\n",
       "        }#T_845c0dd2_566f_11eb_bc59_0242ac1c0002row20_col18{\n",
       "            font-size:  6pt;\n",
       "            background-color:  #1c1c1c;\n",
       "            color:  #f1f1f1;\n",
       "        }#T_845c0dd2_566f_11eb_bc59_0242ac1c0002row21_col7{\n",
       "            font-size:  6pt;\n",
       "            background-color:  #d4d4d4;\n",
       "            color:  #000000;\n",
       "        }#T_845c0dd2_566f_11eb_bc59_0242ac1c0002row21_col8,#T_845c0dd2_566f_11eb_bc59_0242ac1c0002row21_col9{\n",
       "            font-size:  6pt;\n",
       "            background-color:  #696969;\n",
       "            color:  #000000;\n",
       "        }#T_845c0dd2_566f_11eb_bc59_0242ac1c0002row21_col18{\n",
       "            font-size:  6pt;\n",
       "            background-color:  #606060;\n",
       "            color:  #f1f1f1;\n",
       "        }#T_845c0dd2_566f_11eb_bc59_0242ac1c0002row22_col18{\n",
       "            font-size:  6pt;\n",
       "            background-color:  #afafaf;\n",
       "            color:  #000000;\n",
       "        }#T_845c0dd2_566f_11eb_bc59_0242ac1c0002row22_col21{\n",
       "            font-size:  6pt;\n",
       "            background-color:  #8f8f8f;\n",
       "            color:  #000000;\n",
       "        }#T_845c0dd2_566f_11eb_bc59_0242ac1c0002row23_col18{\n",
       "            font-size:  6pt;\n",
       "            background-color:  #eeeeee;\n",
       "            color:  #000000;\n",
       "        }#T_845c0dd2_566f_11eb_bc59_0242ac1c0002row24_col19{\n",
       "            font-size:  6pt;\n",
       "            background-color:  #9d9d9d;\n",
       "            color:  #000000;\n",
       "        }</style><table id=\"T_845c0dd2_566f_11eb_bc59_0242ac1c0002\" ><thead>    <tr>        <th class=\"blank level0\" ></th>        <th class=\"col_heading level0 col0\" >0</th>        <th class=\"col_heading level0 col1\" >1</th>        <th class=\"col_heading level0 col2\" >2</th>        <th class=\"col_heading level0 col3\" >3</th>        <th class=\"col_heading level0 col4\" >4</th>        <th class=\"col_heading level0 col5\" >5</th>        <th class=\"col_heading level0 col6\" >6</th>        <th class=\"col_heading level0 col7\" >7</th>        <th class=\"col_heading level0 col8\" >8</th>        <th class=\"col_heading level0 col9\" >9</th>        <th class=\"col_heading level0 col10\" >10</th>        <th class=\"col_heading level0 col11\" >11</th>        <th class=\"col_heading level0 col12\" >12</th>        <th class=\"col_heading level0 col13\" >13</th>        <th class=\"col_heading level0 col14\" >14</th>        <th class=\"col_heading level0 col15\" >15</th>        <th class=\"col_heading level0 col16\" >16</th>        <th class=\"col_heading level0 col17\" >17</th>        <th class=\"col_heading level0 col18\" >18</th>        <th class=\"col_heading level0 col19\" >19</th>        <th class=\"col_heading level0 col20\" >20</th>        <th class=\"col_heading level0 col21\" >21</th>        <th class=\"col_heading level0 col22\" >22</th>        <th class=\"col_heading level0 col23\" >23</th>        <th class=\"col_heading level0 col24\" >24</th>        <th class=\"col_heading level0 col25\" >25</th>        <th class=\"col_heading level0 col26\" >26</th>        <th class=\"col_heading level0 col27\" >27</th>    </tr></thead><tbody>\n",
       "                <tr>\n",
       "                        <th id=\"T_845c0dd2_566f_11eb_bc59_0242ac1c0002level0_row0\" class=\"row_heading level0 row0\" >0</th>\n",
       "                        <td id=\"T_845c0dd2_566f_11eb_bc59_0242ac1c0002row0_col0\" class=\"data row0 col0\" >0</td>\n",
       "                        <td id=\"T_845c0dd2_566f_11eb_bc59_0242ac1c0002row0_col1\" class=\"data row0 col1\" >0</td>\n",
       "                        <td id=\"T_845c0dd2_566f_11eb_bc59_0242ac1c0002row0_col2\" class=\"data row0 col2\" >0</td>\n",
       "                        <td id=\"T_845c0dd2_566f_11eb_bc59_0242ac1c0002row0_col3\" class=\"data row0 col3\" >0</td>\n",
       "                        <td id=\"T_845c0dd2_566f_11eb_bc59_0242ac1c0002row0_col4\" class=\"data row0 col4\" >0</td>\n",
       "                        <td id=\"T_845c0dd2_566f_11eb_bc59_0242ac1c0002row0_col5\" class=\"data row0 col5\" >0</td>\n",
       "                        <td id=\"T_845c0dd2_566f_11eb_bc59_0242ac1c0002row0_col6\" class=\"data row0 col6\" >0</td>\n",
       "                        <td id=\"T_845c0dd2_566f_11eb_bc59_0242ac1c0002row0_col7\" class=\"data row0 col7\" >0</td>\n",
       "                        <td id=\"T_845c0dd2_566f_11eb_bc59_0242ac1c0002row0_col8\" class=\"data row0 col8\" >0</td>\n",
       "                        <td id=\"T_845c0dd2_566f_11eb_bc59_0242ac1c0002row0_col9\" class=\"data row0 col9\" >0</td>\n",
       "                        <td id=\"T_845c0dd2_566f_11eb_bc59_0242ac1c0002row0_col10\" class=\"data row0 col10\" >0</td>\n",
       "                        <td id=\"T_845c0dd2_566f_11eb_bc59_0242ac1c0002row0_col11\" class=\"data row0 col11\" >0</td>\n",
       "                        <td id=\"T_845c0dd2_566f_11eb_bc59_0242ac1c0002row0_col12\" class=\"data row0 col12\" >0</td>\n",
       "                        <td id=\"T_845c0dd2_566f_11eb_bc59_0242ac1c0002row0_col13\" class=\"data row0 col13\" >0</td>\n",
       "                        <td id=\"T_845c0dd2_566f_11eb_bc59_0242ac1c0002row0_col14\" class=\"data row0 col14\" >0</td>\n",
       "                        <td id=\"T_845c0dd2_566f_11eb_bc59_0242ac1c0002row0_col15\" class=\"data row0 col15\" >0</td>\n",
       "                        <td id=\"T_845c0dd2_566f_11eb_bc59_0242ac1c0002row0_col16\" class=\"data row0 col16\" >0</td>\n",
       "                        <td id=\"T_845c0dd2_566f_11eb_bc59_0242ac1c0002row0_col17\" class=\"data row0 col17\" >0</td>\n",
       "                        <td id=\"T_845c0dd2_566f_11eb_bc59_0242ac1c0002row0_col18\" class=\"data row0 col18\" >0</td>\n",
       "                        <td id=\"T_845c0dd2_566f_11eb_bc59_0242ac1c0002row0_col19\" class=\"data row0 col19\" >0</td>\n",
       "                        <td id=\"T_845c0dd2_566f_11eb_bc59_0242ac1c0002row0_col20\" class=\"data row0 col20\" >0</td>\n",
       "                        <td id=\"T_845c0dd2_566f_11eb_bc59_0242ac1c0002row0_col21\" class=\"data row0 col21\" >0</td>\n",
       "                        <td id=\"T_845c0dd2_566f_11eb_bc59_0242ac1c0002row0_col22\" class=\"data row0 col22\" >0</td>\n",
       "                        <td id=\"T_845c0dd2_566f_11eb_bc59_0242ac1c0002row0_col23\" class=\"data row0 col23\" >0</td>\n",
       "                        <td id=\"T_845c0dd2_566f_11eb_bc59_0242ac1c0002row0_col24\" class=\"data row0 col24\" >0</td>\n",
       "                        <td id=\"T_845c0dd2_566f_11eb_bc59_0242ac1c0002row0_col25\" class=\"data row0 col25\" >0</td>\n",
       "                        <td id=\"T_845c0dd2_566f_11eb_bc59_0242ac1c0002row0_col26\" class=\"data row0 col26\" >0</td>\n",
       "                        <td id=\"T_845c0dd2_566f_11eb_bc59_0242ac1c0002row0_col27\" class=\"data row0 col27\" >0</td>\n",
       "            </tr>\n",
       "            <tr>\n",
       "                        <th id=\"T_845c0dd2_566f_11eb_bc59_0242ac1c0002level0_row1\" class=\"row_heading level0 row1\" >1</th>\n",
       "                        <td id=\"T_845c0dd2_566f_11eb_bc59_0242ac1c0002row1_col0\" class=\"data row1 col0\" >0</td>\n",
       "                        <td id=\"T_845c0dd2_566f_11eb_bc59_0242ac1c0002row1_col1\" class=\"data row1 col1\" >0</td>\n",
       "                        <td id=\"T_845c0dd2_566f_11eb_bc59_0242ac1c0002row1_col2\" class=\"data row1 col2\" >0</td>\n",
       "                        <td id=\"T_845c0dd2_566f_11eb_bc59_0242ac1c0002row1_col3\" class=\"data row1 col3\" >0</td>\n",
       "                        <td id=\"T_845c0dd2_566f_11eb_bc59_0242ac1c0002row1_col4\" class=\"data row1 col4\" >0</td>\n",
       "                        <td id=\"T_845c0dd2_566f_11eb_bc59_0242ac1c0002row1_col5\" class=\"data row1 col5\" >0</td>\n",
       "                        <td id=\"T_845c0dd2_566f_11eb_bc59_0242ac1c0002row1_col6\" class=\"data row1 col6\" >0</td>\n",
       "                        <td id=\"T_845c0dd2_566f_11eb_bc59_0242ac1c0002row1_col7\" class=\"data row1 col7\" >0</td>\n",
       "                        <td id=\"T_845c0dd2_566f_11eb_bc59_0242ac1c0002row1_col8\" class=\"data row1 col8\" >0</td>\n",
       "                        <td id=\"T_845c0dd2_566f_11eb_bc59_0242ac1c0002row1_col9\" class=\"data row1 col9\" >0</td>\n",
       "                        <td id=\"T_845c0dd2_566f_11eb_bc59_0242ac1c0002row1_col10\" class=\"data row1 col10\" >0</td>\n",
       "                        <td id=\"T_845c0dd2_566f_11eb_bc59_0242ac1c0002row1_col11\" class=\"data row1 col11\" >0</td>\n",
       "                        <td id=\"T_845c0dd2_566f_11eb_bc59_0242ac1c0002row1_col12\" class=\"data row1 col12\" >0</td>\n",
       "                        <td id=\"T_845c0dd2_566f_11eb_bc59_0242ac1c0002row1_col13\" class=\"data row1 col13\" >0</td>\n",
       "                        <td id=\"T_845c0dd2_566f_11eb_bc59_0242ac1c0002row1_col14\" class=\"data row1 col14\" >0</td>\n",
       "                        <td id=\"T_845c0dd2_566f_11eb_bc59_0242ac1c0002row1_col15\" class=\"data row1 col15\" >0</td>\n",
       "                        <td id=\"T_845c0dd2_566f_11eb_bc59_0242ac1c0002row1_col16\" class=\"data row1 col16\" >0</td>\n",
       "                        <td id=\"T_845c0dd2_566f_11eb_bc59_0242ac1c0002row1_col17\" class=\"data row1 col17\" >0</td>\n",
       "                        <td id=\"T_845c0dd2_566f_11eb_bc59_0242ac1c0002row1_col18\" class=\"data row1 col18\" >0</td>\n",
       "                        <td id=\"T_845c0dd2_566f_11eb_bc59_0242ac1c0002row1_col19\" class=\"data row1 col19\" >0</td>\n",
       "                        <td id=\"T_845c0dd2_566f_11eb_bc59_0242ac1c0002row1_col20\" class=\"data row1 col20\" >0</td>\n",
       "                        <td id=\"T_845c0dd2_566f_11eb_bc59_0242ac1c0002row1_col21\" class=\"data row1 col21\" >0</td>\n",
       "                        <td id=\"T_845c0dd2_566f_11eb_bc59_0242ac1c0002row1_col22\" class=\"data row1 col22\" >0</td>\n",
       "                        <td id=\"T_845c0dd2_566f_11eb_bc59_0242ac1c0002row1_col23\" class=\"data row1 col23\" >0</td>\n",
       "                        <td id=\"T_845c0dd2_566f_11eb_bc59_0242ac1c0002row1_col24\" class=\"data row1 col24\" >0</td>\n",
       "                        <td id=\"T_845c0dd2_566f_11eb_bc59_0242ac1c0002row1_col25\" class=\"data row1 col25\" >0</td>\n",
       "                        <td id=\"T_845c0dd2_566f_11eb_bc59_0242ac1c0002row1_col26\" class=\"data row1 col26\" >0</td>\n",
       "                        <td id=\"T_845c0dd2_566f_11eb_bc59_0242ac1c0002row1_col27\" class=\"data row1 col27\" >0</td>\n",
       "            </tr>\n",
       "            <tr>\n",
       "                        <th id=\"T_845c0dd2_566f_11eb_bc59_0242ac1c0002level0_row2\" class=\"row_heading level0 row2\" >2</th>\n",
       "                        <td id=\"T_845c0dd2_566f_11eb_bc59_0242ac1c0002row2_col0\" class=\"data row2 col0\" >0</td>\n",
       "                        <td id=\"T_845c0dd2_566f_11eb_bc59_0242ac1c0002row2_col1\" class=\"data row2 col1\" >0</td>\n",
       "                        <td id=\"T_845c0dd2_566f_11eb_bc59_0242ac1c0002row2_col2\" class=\"data row2 col2\" >0</td>\n",
       "                        <td id=\"T_845c0dd2_566f_11eb_bc59_0242ac1c0002row2_col3\" class=\"data row2 col3\" >0</td>\n",
       "                        <td id=\"T_845c0dd2_566f_11eb_bc59_0242ac1c0002row2_col4\" class=\"data row2 col4\" >0</td>\n",
       "                        <td id=\"T_845c0dd2_566f_11eb_bc59_0242ac1c0002row2_col5\" class=\"data row2 col5\" >0</td>\n",
       "                        <td id=\"T_845c0dd2_566f_11eb_bc59_0242ac1c0002row2_col6\" class=\"data row2 col6\" >0</td>\n",
       "                        <td id=\"T_845c0dd2_566f_11eb_bc59_0242ac1c0002row2_col7\" class=\"data row2 col7\" >0</td>\n",
       "                        <td id=\"T_845c0dd2_566f_11eb_bc59_0242ac1c0002row2_col8\" class=\"data row2 col8\" >0</td>\n",
       "                        <td id=\"T_845c0dd2_566f_11eb_bc59_0242ac1c0002row2_col9\" class=\"data row2 col9\" >0</td>\n",
       "                        <td id=\"T_845c0dd2_566f_11eb_bc59_0242ac1c0002row2_col10\" class=\"data row2 col10\" >0</td>\n",
       "                        <td id=\"T_845c0dd2_566f_11eb_bc59_0242ac1c0002row2_col11\" class=\"data row2 col11\" >0</td>\n",
       "                        <td id=\"T_845c0dd2_566f_11eb_bc59_0242ac1c0002row2_col12\" class=\"data row2 col12\" >0</td>\n",
       "                        <td id=\"T_845c0dd2_566f_11eb_bc59_0242ac1c0002row2_col13\" class=\"data row2 col13\" >0</td>\n",
       "                        <td id=\"T_845c0dd2_566f_11eb_bc59_0242ac1c0002row2_col14\" class=\"data row2 col14\" >0</td>\n",
       "                        <td id=\"T_845c0dd2_566f_11eb_bc59_0242ac1c0002row2_col15\" class=\"data row2 col15\" >0</td>\n",
       "                        <td id=\"T_845c0dd2_566f_11eb_bc59_0242ac1c0002row2_col16\" class=\"data row2 col16\" >0</td>\n",
       "                        <td id=\"T_845c0dd2_566f_11eb_bc59_0242ac1c0002row2_col17\" class=\"data row2 col17\" >0</td>\n",
       "                        <td id=\"T_845c0dd2_566f_11eb_bc59_0242ac1c0002row2_col18\" class=\"data row2 col18\" >0</td>\n",
       "                        <td id=\"T_845c0dd2_566f_11eb_bc59_0242ac1c0002row2_col19\" class=\"data row2 col19\" >0</td>\n",
       "                        <td id=\"T_845c0dd2_566f_11eb_bc59_0242ac1c0002row2_col20\" class=\"data row2 col20\" >0</td>\n",
       "                        <td id=\"T_845c0dd2_566f_11eb_bc59_0242ac1c0002row2_col21\" class=\"data row2 col21\" >0</td>\n",
       "                        <td id=\"T_845c0dd2_566f_11eb_bc59_0242ac1c0002row2_col22\" class=\"data row2 col22\" >0</td>\n",
       "                        <td id=\"T_845c0dd2_566f_11eb_bc59_0242ac1c0002row2_col23\" class=\"data row2 col23\" >0</td>\n",
       "                        <td id=\"T_845c0dd2_566f_11eb_bc59_0242ac1c0002row2_col24\" class=\"data row2 col24\" >0</td>\n",
       "                        <td id=\"T_845c0dd2_566f_11eb_bc59_0242ac1c0002row2_col25\" class=\"data row2 col25\" >0</td>\n",
       "                        <td id=\"T_845c0dd2_566f_11eb_bc59_0242ac1c0002row2_col26\" class=\"data row2 col26\" >0</td>\n",
       "                        <td id=\"T_845c0dd2_566f_11eb_bc59_0242ac1c0002row2_col27\" class=\"data row2 col27\" >0</td>\n",
       "            </tr>\n",
       "            <tr>\n",
       "                        <th id=\"T_845c0dd2_566f_11eb_bc59_0242ac1c0002level0_row3\" class=\"row_heading level0 row3\" >3</th>\n",
       "                        <td id=\"T_845c0dd2_566f_11eb_bc59_0242ac1c0002row3_col0\" class=\"data row3 col0\" >0</td>\n",
       "                        <td id=\"T_845c0dd2_566f_11eb_bc59_0242ac1c0002row3_col1\" class=\"data row3 col1\" >0</td>\n",
       "                        <td id=\"T_845c0dd2_566f_11eb_bc59_0242ac1c0002row3_col2\" class=\"data row3 col2\" >0</td>\n",
       "                        <td id=\"T_845c0dd2_566f_11eb_bc59_0242ac1c0002row3_col3\" class=\"data row3 col3\" >0</td>\n",
       "                        <td id=\"T_845c0dd2_566f_11eb_bc59_0242ac1c0002row3_col4\" class=\"data row3 col4\" >0</td>\n",
       "                        <td id=\"T_845c0dd2_566f_11eb_bc59_0242ac1c0002row3_col5\" class=\"data row3 col5\" >0</td>\n",
       "                        <td id=\"T_845c0dd2_566f_11eb_bc59_0242ac1c0002row3_col6\" class=\"data row3 col6\" >0</td>\n",
       "                        <td id=\"T_845c0dd2_566f_11eb_bc59_0242ac1c0002row3_col7\" class=\"data row3 col7\" >0</td>\n",
       "                        <td id=\"T_845c0dd2_566f_11eb_bc59_0242ac1c0002row3_col8\" class=\"data row3 col8\" >0</td>\n",
       "                        <td id=\"T_845c0dd2_566f_11eb_bc59_0242ac1c0002row3_col9\" class=\"data row3 col9\" >0</td>\n",
       "                        <td id=\"T_845c0dd2_566f_11eb_bc59_0242ac1c0002row3_col10\" class=\"data row3 col10\" >0</td>\n",
       "                        <td id=\"T_845c0dd2_566f_11eb_bc59_0242ac1c0002row3_col11\" class=\"data row3 col11\" >0</td>\n",
       "                        <td id=\"T_845c0dd2_566f_11eb_bc59_0242ac1c0002row3_col12\" class=\"data row3 col12\" >0</td>\n",
       "                        <td id=\"T_845c0dd2_566f_11eb_bc59_0242ac1c0002row3_col13\" class=\"data row3 col13\" >0</td>\n",
       "                        <td id=\"T_845c0dd2_566f_11eb_bc59_0242ac1c0002row3_col14\" class=\"data row3 col14\" >0</td>\n",
       "                        <td id=\"T_845c0dd2_566f_11eb_bc59_0242ac1c0002row3_col15\" class=\"data row3 col15\" >0</td>\n",
       "                        <td id=\"T_845c0dd2_566f_11eb_bc59_0242ac1c0002row3_col16\" class=\"data row3 col16\" >0</td>\n",
       "                        <td id=\"T_845c0dd2_566f_11eb_bc59_0242ac1c0002row3_col17\" class=\"data row3 col17\" >0</td>\n",
       "                        <td id=\"T_845c0dd2_566f_11eb_bc59_0242ac1c0002row3_col18\" class=\"data row3 col18\" >0</td>\n",
       "                        <td id=\"T_845c0dd2_566f_11eb_bc59_0242ac1c0002row3_col19\" class=\"data row3 col19\" >0</td>\n",
       "                        <td id=\"T_845c0dd2_566f_11eb_bc59_0242ac1c0002row3_col20\" class=\"data row3 col20\" >0</td>\n",
       "                        <td id=\"T_845c0dd2_566f_11eb_bc59_0242ac1c0002row3_col21\" class=\"data row3 col21\" >0</td>\n",
       "                        <td id=\"T_845c0dd2_566f_11eb_bc59_0242ac1c0002row3_col22\" class=\"data row3 col22\" >0</td>\n",
       "                        <td id=\"T_845c0dd2_566f_11eb_bc59_0242ac1c0002row3_col23\" class=\"data row3 col23\" >0</td>\n",
       "                        <td id=\"T_845c0dd2_566f_11eb_bc59_0242ac1c0002row3_col24\" class=\"data row3 col24\" >0</td>\n",
       "                        <td id=\"T_845c0dd2_566f_11eb_bc59_0242ac1c0002row3_col25\" class=\"data row3 col25\" >0</td>\n",
       "                        <td id=\"T_845c0dd2_566f_11eb_bc59_0242ac1c0002row3_col26\" class=\"data row3 col26\" >0</td>\n",
       "                        <td id=\"T_845c0dd2_566f_11eb_bc59_0242ac1c0002row3_col27\" class=\"data row3 col27\" >0</td>\n",
       "            </tr>\n",
       "            <tr>\n",
       "                        <th id=\"T_845c0dd2_566f_11eb_bc59_0242ac1c0002level0_row4\" class=\"row_heading level0 row4\" >4</th>\n",
       "                        <td id=\"T_845c0dd2_566f_11eb_bc59_0242ac1c0002row4_col0\" class=\"data row4 col0\" >0</td>\n",
       "                        <td id=\"T_845c0dd2_566f_11eb_bc59_0242ac1c0002row4_col1\" class=\"data row4 col1\" >0</td>\n",
       "                        <td id=\"T_845c0dd2_566f_11eb_bc59_0242ac1c0002row4_col2\" class=\"data row4 col2\" >0</td>\n",
       "                        <td id=\"T_845c0dd2_566f_11eb_bc59_0242ac1c0002row4_col3\" class=\"data row4 col3\" >0</td>\n",
       "                        <td id=\"T_845c0dd2_566f_11eb_bc59_0242ac1c0002row4_col4\" class=\"data row4 col4\" >0</td>\n",
       "                        <td id=\"T_845c0dd2_566f_11eb_bc59_0242ac1c0002row4_col5\" class=\"data row4 col5\" >0</td>\n",
       "                        <td id=\"T_845c0dd2_566f_11eb_bc59_0242ac1c0002row4_col6\" class=\"data row4 col6\" >0</td>\n",
       "                        <td id=\"T_845c0dd2_566f_11eb_bc59_0242ac1c0002row4_col7\" class=\"data row4 col7\" >0</td>\n",
       "                        <td id=\"T_845c0dd2_566f_11eb_bc59_0242ac1c0002row4_col8\" class=\"data row4 col8\" >0</td>\n",
       "                        <td id=\"T_845c0dd2_566f_11eb_bc59_0242ac1c0002row4_col9\" class=\"data row4 col9\" >0</td>\n",
       "                        <td id=\"T_845c0dd2_566f_11eb_bc59_0242ac1c0002row4_col10\" class=\"data row4 col10\" >0</td>\n",
       "                        <td id=\"T_845c0dd2_566f_11eb_bc59_0242ac1c0002row4_col11\" class=\"data row4 col11\" >0</td>\n",
       "                        <td id=\"T_845c0dd2_566f_11eb_bc59_0242ac1c0002row4_col12\" class=\"data row4 col12\" >0</td>\n",
       "                        <td id=\"T_845c0dd2_566f_11eb_bc59_0242ac1c0002row4_col13\" class=\"data row4 col13\" >0</td>\n",
       "                        <td id=\"T_845c0dd2_566f_11eb_bc59_0242ac1c0002row4_col14\" class=\"data row4 col14\" >0</td>\n",
       "                        <td id=\"T_845c0dd2_566f_11eb_bc59_0242ac1c0002row4_col15\" class=\"data row4 col15\" >0</td>\n",
       "                        <td id=\"T_845c0dd2_566f_11eb_bc59_0242ac1c0002row4_col16\" class=\"data row4 col16\" >0</td>\n",
       "                        <td id=\"T_845c0dd2_566f_11eb_bc59_0242ac1c0002row4_col17\" class=\"data row4 col17\" >0</td>\n",
       "                        <td id=\"T_845c0dd2_566f_11eb_bc59_0242ac1c0002row4_col18\" class=\"data row4 col18\" >0</td>\n",
       "                        <td id=\"T_845c0dd2_566f_11eb_bc59_0242ac1c0002row4_col19\" class=\"data row4 col19\" >0</td>\n",
       "                        <td id=\"T_845c0dd2_566f_11eb_bc59_0242ac1c0002row4_col20\" class=\"data row4 col20\" >0</td>\n",
       "                        <td id=\"T_845c0dd2_566f_11eb_bc59_0242ac1c0002row4_col21\" class=\"data row4 col21\" >0</td>\n",
       "                        <td id=\"T_845c0dd2_566f_11eb_bc59_0242ac1c0002row4_col22\" class=\"data row4 col22\" >0</td>\n",
       "                        <td id=\"T_845c0dd2_566f_11eb_bc59_0242ac1c0002row4_col23\" class=\"data row4 col23\" >0</td>\n",
       "                        <td id=\"T_845c0dd2_566f_11eb_bc59_0242ac1c0002row4_col24\" class=\"data row4 col24\" >0</td>\n",
       "                        <td id=\"T_845c0dd2_566f_11eb_bc59_0242ac1c0002row4_col25\" class=\"data row4 col25\" >0</td>\n",
       "                        <td id=\"T_845c0dd2_566f_11eb_bc59_0242ac1c0002row4_col26\" class=\"data row4 col26\" >0</td>\n",
       "                        <td id=\"T_845c0dd2_566f_11eb_bc59_0242ac1c0002row4_col27\" class=\"data row4 col27\" >0</td>\n",
       "            </tr>\n",
       "            <tr>\n",
       "                        <th id=\"T_845c0dd2_566f_11eb_bc59_0242ac1c0002level0_row5\" class=\"row_heading level0 row5\" >5</th>\n",
       "                        <td id=\"T_845c0dd2_566f_11eb_bc59_0242ac1c0002row5_col0\" class=\"data row5 col0\" >0</td>\n",
       "                        <td id=\"T_845c0dd2_566f_11eb_bc59_0242ac1c0002row5_col1\" class=\"data row5 col1\" >0</td>\n",
       "                        <td id=\"T_845c0dd2_566f_11eb_bc59_0242ac1c0002row5_col2\" class=\"data row5 col2\" >0</td>\n",
       "                        <td id=\"T_845c0dd2_566f_11eb_bc59_0242ac1c0002row5_col3\" class=\"data row5 col3\" >0</td>\n",
       "                        <td id=\"T_845c0dd2_566f_11eb_bc59_0242ac1c0002row5_col4\" class=\"data row5 col4\" >0</td>\n",
       "                        <td id=\"T_845c0dd2_566f_11eb_bc59_0242ac1c0002row5_col5\" class=\"data row5 col5\" >0</td>\n",
       "                        <td id=\"T_845c0dd2_566f_11eb_bc59_0242ac1c0002row5_col6\" class=\"data row5 col6\" >0</td>\n",
       "                        <td id=\"T_845c0dd2_566f_11eb_bc59_0242ac1c0002row5_col7\" class=\"data row5 col7\" >0</td>\n",
       "                        <td id=\"T_845c0dd2_566f_11eb_bc59_0242ac1c0002row5_col8\" class=\"data row5 col8\" >0</td>\n",
       "                        <td id=\"T_845c0dd2_566f_11eb_bc59_0242ac1c0002row5_col9\" class=\"data row5 col9\" >0</td>\n",
       "                        <td id=\"T_845c0dd2_566f_11eb_bc59_0242ac1c0002row5_col10\" class=\"data row5 col10\" >68</td>\n",
       "                        <td id=\"T_845c0dd2_566f_11eb_bc59_0242ac1c0002row5_col11\" class=\"data row5 col11\" >201</td>\n",
       "                        <td id=\"T_845c0dd2_566f_11eb_bc59_0242ac1c0002row5_col12\" class=\"data row5 col12\" >227</td>\n",
       "                        <td id=\"T_845c0dd2_566f_11eb_bc59_0242ac1c0002row5_col13\" class=\"data row5 col13\" >42</td>\n",
       "                        <td id=\"T_845c0dd2_566f_11eb_bc59_0242ac1c0002row5_col14\" class=\"data row5 col14\" >0</td>\n",
       "                        <td id=\"T_845c0dd2_566f_11eb_bc59_0242ac1c0002row5_col15\" class=\"data row5 col15\" >0</td>\n",
       "                        <td id=\"T_845c0dd2_566f_11eb_bc59_0242ac1c0002row5_col16\" class=\"data row5 col16\" >0</td>\n",
       "                        <td id=\"T_845c0dd2_566f_11eb_bc59_0242ac1c0002row5_col17\" class=\"data row5 col17\" >0</td>\n",
       "                        <td id=\"T_845c0dd2_566f_11eb_bc59_0242ac1c0002row5_col18\" class=\"data row5 col18\" >0</td>\n",
       "                        <td id=\"T_845c0dd2_566f_11eb_bc59_0242ac1c0002row5_col19\" class=\"data row5 col19\" >0</td>\n",
       "                        <td id=\"T_845c0dd2_566f_11eb_bc59_0242ac1c0002row5_col20\" class=\"data row5 col20\" >0</td>\n",
       "                        <td id=\"T_845c0dd2_566f_11eb_bc59_0242ac1c0002row5_col21\" class=\"data row5 col21\" >0</td>\n",
       "                        <td id=\"T_845c0dd2_566f_11eb_bc59_0242ac1c0002row5_col22\" class=\"data row5 col22\" >0</td>\n",
       "                        <td id=\"T_845c0dd2_566f_11eb_bc59_0242ac1c0002row5_col23\" class=\"data row5 col23\" >0</td>\n",
       "                        <td id=\"T_845c0dd2_566f_11eb_bc59_0242ac1c0002row5_col24\" class=\"data row5 col24\" >0</td>\n",
       "                        <td id=\"T_845c0dd2_566f_11eb_bc59_0242ac1c0002row5_col25\" class=\"data row5 col25\" >0</td>\n",
       "                        <td id=\"T_845c0dd2_566f_11eb_bc59_0242ac1c0002row5_col26\" class=\"data row5 col26\" >0</td>\n",
       "                        <td id=\"T_845c0dd2_566f_11eb_bc59_0242ac1c0002row5_col27\" class=\"data row5 col27\" >0</td>\n",
       "            </tr>\n",
       "            <tr>\n",
       "                        <th id=\"T_845c0dd2_566f_11eb_bc59_0242ac1c0002level0_row6\" class=\"row_heading level0 row6\" >6</th>\n",
       "                        <td id=\"T_845c0dd2_566f_11eb_bc59_0242ac1c0002row6_col0\" class=\"data row6 col0\" >0</td>\n",
       "                        <td id=\"T_845c0dd2_566f_11eb_bc59_0242ac1c0002row6_col1\" class=\"data row6 col1\" >0</td>\n",
       "                        <td id=\"T_845c0dd2_566f_11eb_bc59_0242ac1c0002row6_col2\" class=\"data row6 col2\" >0</td>\n",
       "                        <td id=\"T_845c0dd2_566f_11eb_bc59_0242ac1c0002row6_col3\" class=\"data row6 col3\" >0</td>\n",
       "                        <td id=\"T_845c0dd2_566f_11eb_bc59_0242ac1c0002row6_col4\" class=\"data row6 col4\" >0</td>\n",
       "                        <td id=\"T_845c0dd2_566f_11eb_bc59_0242ac1c0002row6_col5\" class=\"data row6 col5\" >0</td>\n",
       "                        <td id=\"T_845c0dd2_566f_11eb_bc59_0242ac1c0002row6_col6\" class=\"data row6 col6\" >0</td>\n",
       "                        <td id=\"T_845c0dd2_566f_11eb_bc59_0242ac1c0002row6_col7\" class=\"data row6 col7\" >0</td>\n",
       "                        <td id=\"T_845c0dd2_566f_11eb_bc59_0242ac1c0002row6_col8\" class=\"data row6 col8\" >0</td>\n",
       "                        <td id=\"T_845c0dd2_566f_11eb_bc59_0242ac1c0002row6_col9\" class=\"data row6 col9\" >0</td>\n",
       "                        <td id=\"T_845c0dd2_566f_11eb_bc59_0242ac1c0002row6_col10\" class=\"data row6 col10\" >190</td>\n",
       "                        <td id=\"T_845c0dd2_566f_11eb_bc59_0242ac1c0002row6_col11\" class=\"data row6 col11\" >252</td>\n",
       "                        <td id=\"T_845c0dd2_566f_11eb_bc59_0242ac1c0002row6_col12\" class=\"data row6 col12\" >252</td>\n",
       "                        <td id=\"T_845c0dd2_566f_11eb_bc59_0242ac1c0002row6_col13\" class=\"data row6 col13\" >182</td>\n",
       "                        <td id=\"T_845c0dd2_566f_11eb_bc59_0242ac1c0002row6_col14\" class=\"data row6 col14\" >0</td>\n",
       "                        <td id=\"T_845c0dd2_566f_11eb_bc59_0242ac1c0002row6_col15\" class=\"data row6 col15\" >0</td>\n",
       "                        <td id=\"T_845c0dd2_566f_11eb_bc59_0242ac1c0002row6_col16\" class=\"data row6 col16\" >0</td>\n",
       "                        <td id=\"T_845c0dd2_566f_11eb_bc59_0242ac1c0002row6_col17\" class=\"data row6 col17\" >0</td>\n",
       "                        <td id=\"T_845c0dd2_566f_11eb_bc59_0242ac1c0002row6_col18\" class=\"data row6 col18\" >0</td>\n",
       "                        <td id=\"T_845c0dd2_566f_11eb_bc59_0242ac1c0002row6_col19\" class=\"data row6 col19\" >0</td>\n",
       "                        <td id=\"T_845c0dd2_566f_11eb_bc59_0242ac1c0002row6_col20\" class=\"data row6 col20\" >0</td>\n",
       "                        <td id=\"T_845c0dd2_566f_11eb_bc59_0242ac1c0002row6_col21\" class=\"data row6 col21\" >0</td>\n",
       "                        <td id=\"T_845c0dd2_566f_11eb_bc59_0242ac1c0002row6_col22\" class=\"data row6 col22\" >0</td>\n",
       "                        <td id=\"T_845c0dd2_566f_11eb_bc59_0242ac1c0002row6_col23\" class=\"data row6 col23\" >0</td>\n",
       "                        <td id=\"T_845c0dd2_566f_11eb_bc59_0242ac1c0002row6_col24\" class=\"data row6 col24\" >0</td>\n",
       "                        <td id=\"T_845c0dd2_566f_11eb_bc59_0242ac1c0002row6_col25\" class=\"data row6 col25\" >0</td>\n",
       "                        <td id=\"T_845c0dd2_566f_11eb_bc59_0242ac1c0002row6_col26\" class=\"data row6 col26\" >0</td>\n",
       "                        <td id=\"T_845c0dd2_566f_11eb_bc59_0242ac1c0002row6_col27\" class=\"data row6 col27\" >0</td>\n",
       "            </tr>\n",
       "            <tr>\n",
       "                        <th id=\"T_845c0dd2_566f_11eb_bc59_0242ac1c0002level0_row7\" class=\"row_heading level0 row7\" >7</th>\n",
       "                        <td id=\"T_845c0dd2_566f_11eb_bc59_0242ac1c0002row7_col0\" class=\"data row7 col0\" >0</td>\n",
       "                        <td id=\"T_845c0dd2_566f_11eb_bc59_0242ac1c0002row7_col1\" class=\"data row7 col1\" >0</td>\n",
       "                        <td id=\"T_845c0dd2_566f_11eb_bc59_0242ac1c0002row7_col2\" class=\"data row7 col2\" >0</td>\n",
       "                        <td id=\"T_845c0dd2_566f_11eb_bc59_0242ac1c0002row7_col3\" class=\"data row7 col3\" >0</td>\n",
       "                        <td id=\"T_845c0dd2_566f_11eb_bc59_0242ac1c0002row7_col4\" class=\"data row7 col4\" >0</td>\n",
       "                        <td id=\"T_845c0dd2_566f_11eb_bc59_0242ac1c0002row7_col5\" class=\"data row7 col5\" >0</td>\n",
       "                        <td id=\"T_845c0dd2_566f_11eb_bc59_0242ac1c0002row7_col6\" class=\"data row7 col6\" >0</td>\n",
       "                        <td id=\"T_845c0dd2_566f_11eb_bc59_0242ac1c0002row7_col7\" class=\"data row7 col7\" >0</td>\n",
       "                        <td id=\"T_845c0dd2_566f_11eb_bc59_0242ac1c0002row7_col8\" class=\"data row7 col8\" >0</td>\n",
       "                        <td id=\"T_845c0dd2_566f_11eb_bc59_0242ac1c0002row7_col9\" class=\"data row7 col9\" >0</td>\n",
       "                        <td id=\"T_845c0dd2_566f_11eb_bc59_0242ac1c0002row7_col10\" class=\"data row7 col10\" >51</td>\n",
       "                        <td id=\"T_845c0dd2_566f_11eb_bc59_0242ac1c0002row7_col11\" class=\"data row7 col11\" >242</td>\n",
       "                        <td id=\"T_845c0dd2_566f_11eb_bc59_0242ac1c0002row7_col12\" class=\"data row7 col12\" >252</td>\n",
       "                        <td id=\"T_845c0dd2_566f_11eb_bc59_0242ac1c0002row7_col13\" class=\"data row7 col13\" >252</td>\n",
       "                        <td id=\"T_845c0dd2_566f_11eb_bc59_0242ac1c0002row7_col14\" class=\"data row7 col14\" >0</td>\n",
       "                        <td id=\"T_845c0dd2_566f_11eb_bc59_0242ac1c0002row7_col15\" class=\"data row7 col15\" >0</td>\n",
       "                        <td id=\"T_845c0dd2_566f_11eb_bc59_0242ac1c0002row7_col16\" class=\"data row7 col16\" >0</td>\n",
       "                        <td id=\"T_845c0dd2_566f_11eb_bc59_0242ac1c0002row7_col17\" class=\"data row7 col17\" >6</td>\n",
       "                        <td id=\"T_845c0dd2_566f_11eb_bc59_0242ac1c0002row7_col18\" class=\"data row7 col18\" >153</td>\n",
       "                        <td id=\"T_845c0dd2_566f_11eb_bc59_0242ac1c0002row7_col19\" class=\"data row7 col19\" >233</td>\n",
       "                        <td id=\"T_845c0dd2_566f_11eb_bc59_0242ac1c0002row7_col20\" class=\"data row7 col20\" >111</td>\n",
       "                        <td id=\"T_845c0dd2_566f_11eb_bc59_0242ac1c0002row7_col21\" class=\"data row7 col21\" >0</td>\n",
       "                        <td id=\"T_845c0dd2_566f_11eb_bc59_0242ac1c0002row7_col22\" class=\"data row7 col22\" >0</td>\n",
       "                        <td id=\"T_845c0dd2_566f_11eb_bc59_0242ac1c0002row7_col23\" class=\"data row7 col23\" >0</td>\n",
       "                        <td id=\"T_845c0dd2_566f_11eb_bc59_0242ac1c0002row7_col24\" class=\"data row7 col24\" >0</td>\n",
       "                        <td id=\"T_845c0dd2_566f_11eb_bc59_0242ac1c0002row7_col25\" class=\"data row7 col25\" >0</td>\n",
       "                        <td id=\"T_845c0dd2_566f_11eb_bc59_0242ac1c0002row7_col26\" class=\"data row7 col26\" >0</td>\n",
       "                        <td id=\"T_845c0dd2_566f_11eb_bc59_0242ac1c0002row7_col27\" class=\"data row7 col27\" >0</td>\n",
       "            </tr>\n",
       "            <tr>\n",
       "                        <th id=\"T_845c0dd2_566f_11eb_bc59_0242ac1c0002level0_row8\" class=\"row_heading level0 row8\" >8</th>\n",
       "                        <td id=\"T_845c0dd2_566f_11eb_bc59_0242ac1c0002row8_col0\" class=\"data row8 col0\" >0</td>\n",
       "                        <td id=\"T_845c0dd2_566f_11eb_bc59_0242ac1c0002row8_col1\" class=\"data row8 col1\" >0</td>\n",
       "                        <td id=\"T_845c0dd2_566f_11eb_bc59_0242ac1c0002row8_col2\" class=\"data row8 col2\" >0</td>\n",
       "                        <td id=\"T_845c0dd2_566f_11eb_bc59_0242ac1c0002row8_col3\" class=\"data row8 col3\" >0</td>\n",
       "                        <td id=\"T_845c0dd2_566f_11eb_bc59_0242ac1c0002row8_col4\" class=\"data row8 col4\" >0</td>\n",
       "                        <td id=\"T_845c0dd2_566f_11eb_bc59_0242ac1c0002row8_col5\" class=\"data row8 col5\" >0</td>\n",
       "                        <td id=\"T_845c0dd2_566f_11eb_bc59_0242ac1c0002row8_col6\" class=\"data row8 col6\" >0</td>\n",
       "                        <td id=\"T_845c0dd2_566f_11eb_bc59_0242ac1c0002row8_col7\" class=\"data row8 col7\" >0</td>\n",
       "                        <td id=\"T_845c0dd2_566f_11eb_bc59_0242ac1c0002row8_col8\" class=\"data row8 col8\" >0</td>\n",
       "                        <td id=\"T_845c0dd2_566f_11eb_bc59_0242ac1c0002row8_col9\" class=\"data row8 col9\" >0</td>\n",
       "                        <td id=\"T_845c0dd2_566f_11eb_bc59_0242ac1c0002row8_col10\" class=\"data row8 col10\" >0</td>\n",
       "                        <td id=\"T_845c0dd2_566f_11eb_bc59_0242ac1c0002row8_col11\" class=\"data row8 col11\" >161</td>\n",
       "                        <td id=\"T_845c0dd2_566f_11eb_bc59_0242ac1c0002row8_col12\" class=\"data row8 col12\" >252</td>\n",
       "                        <td id=\"T_845c0dd2_566f_11eb_bc59_0242ac1c0002row8_col13\" class=\"data row8 col13\" >252</td>\n",
       "                        <td id=\"T_845c0dd2_566f_11eb_bc59_0242ac1c0002row8_col14\" class=\"data row8 col14\" >0</td>\n",
       "                        <td id=\"T_845c0dd2_566f_11eb_bc59_0242ac1c0002row8_col15\" class=\"data row8 col15\" >0</td>\n",
       "                        <td id=\"T_845c0dd2_566f_11eb_bc59_0242ac1c0002row8_col16\" class=\"data row8 col16\" >0</td>\n",
       "                        <td id=\"T_845c0dd2_566f_11eb_bc59_0242ac1c0002row8_col17\" class=\"data row8 col17\" >64</td>\n",
       "                        <td id=\"T_845c0dd2_566f_11eb_bc59_0242ac1c0002row8_col18\" class=\"data row8 col18\" >252</td>\n",
       "                        <td id=\"T_845c0dd2_566f_11eb_bc59_0242ac1c0002row8_col19\" class=\"data row8 col19\" >253</td>\n",
       "                        <td id=\"T_845c0dd2_566f_11eb_bc59_0242ac1c0002row8_col20\" class=\"data row8 col20\" >168</td>\n",
       "                        <td id=\"T_845c0dd2_566f_11eb_bc59_0242ac1c0002row8_col21\" class=\"data row8 col21\" >0</td>\n",
       "                        <td id=\"T_845c0dd2_566f_11eb_bc59_0242ac1c0002row8_col22\" class=\"data row8 col22\" >0</td>\n",
       "                        <td id=\"T_845c0dd2_566f_11eb_bc59_0242ac1c0002row8_col23\" class=\"data row8 col23\" >0</td>\n",
       "                        <td id=\"T_845c0dd2_566f_11eb_bc59_0242ac1c0002row8_col24\" class=\"data row8 col24\" >0</td>\n",
       "                        <td id=\"T_845c0dd2_566f_11eb_bc59_0242ac1c0002row8_col25\" class=\"data row8 col25\" >0</td>\n",
       "                        <td id=\"T_845c0dd2_566f_11eb_bc59_0242ac1c0002row8_col26\" class=\"data row8 col26\" >0</td>\n",
       "                        <td id=\"T_845c0dd2_566f_11eb_bc59_0242ac1c0002row8_col27\" class=\"data row8 col27\" >0</td>\n",
       "            </tr>\n",
       "            <tr>\n",
       "                        <th id=\"T_845c0dd2_566f_11eb_bc59_0242ac1c0002level0_row9\" class=\"row_heading level0 row9\" >9</th>\n",
       "                        <td id=\"T_845c0dd2_566f_11eb_bc59_0242ac1c0002row9_col0\" class=\"data row9 col0\" >0</td>\n",
       "                        <td id=\"T_845c0dd2_566f_11eb_bc59_0242ac1c0002row9_col1\" class=\"data row9 col1\" >0</td>\n",
       "                        <td id=\"T_845c0dd2_566f_11eb_bc59_0242ac1c0002row9_col2\" class=\"data row9 col2\" >0</td>\n",
       "                        <td id=\"T_845c0dd2_566f_11eb_bc59_0242ac1c0002row9_col3\" class=\"data row9 col3\" >0</td>\n",
       "                        <td id=\"T_845c0dd2_566f_11eb_bc59_0242ac1c0002row9_col4\" class=\"data row9 col4\" >0</td>\n",
       "                        <td id=\"T_845c0dd2_566f_11eb_bc59_0242ac1c0002row9_col5\" class=\"data row9 col5\" >0</td>\n",
       "                        <td id=\"T_845c0dd2_566f_11eb_bc59_0242ac1c0002row9_col6\" class=\"data row9 col6\" >0</td>\n",
       "                        <td id=\"T_845c0dd2_566f_11eb_bc59_0242ac1c0002row9_col7\" class=\"data row9 col7\" >0</td>\n",
       "                        <td id=\"T_845c0dd2_566f_11eb_bc59_0242ac1c0002row9_col8\" class=\"data row9 col8\" >0</td>\n",
       "                        <td id=\"T_845c0dd2_566f_11eb_bc59_0242ac1c0002row9_col9\" class=\"data row9 col9\" >0</td>\n",
       "                        <td id=\"T_845c0dd2_566f_11eb_bc59_0242ac1c0002row9_col10\" class=\"data row9 col10\" >0</td>\n",
       "                        <td id=\"T_845c0dd2_566f_11eb_bc59_0242ac1c0002row9_col11\" class=\"data row9 col11\" >127</td>\n",
       "                        <td id=\"T_845c0dd2_566f_11eb_bc59_0242ac1c0002row9_col12\" class=\"data row9 col12\" >252</td>\n",
       "                        <td id=\"T_845c0dd2_566f_11eb_bc59_0242ac1c0002row9_col13\" class=\"data row9 col13\" >252</td>\n",
       "                        <td id=\"T_845c0dd2_566f_11eb_bc59_0242ac1c0002row9_col14\" class=\"data row9 col14\" >0</td>\n",
       "                        <td id=\"T_845c0dd2_566f_11eb_bc59_0242ac1c0002row9_col15\" class=\"data row9 col15\" >0</td>\n",
       "                        <td id=\"T_845c0dd2_566f_11eb_bc59_0242ac1c0002row9_col16\" class=\"data row9 col16\" >0</td>\n",
       "                        <td id=\"T_845c0dd2_566f_11eb_bc59_0242ac1c0002row9_col17\" class=\"data row9 col17\" >64</td>\n",
       "                        <td id=\"T_845c0dd2_566f_11eb_bc59_0242ac1c0002row9_col18\" class=\"data row9 col18\" >252</td>\n",
       "                        <td id=\"T_845c0dd2_566f_11eb_bc59_0242ac1c0002row9_col19\" class=\"data row9 col19\" >253</td>\n",
       "                        <td id=\"T_845c0dd2_566f_11eb_bc59_0242ac1c0002row9_col20\" class=\"data row9 col20\" >168</td>\n",
       "                        <td id=\"T_845c0dd2_566f_11eb_bc59_0242ac1c0002row9_col21\" class=\"data row9 col21\" >0</td>\n",
       "                        <td id=\"T_845c0dd2_566f_11eb_bc59_0242ac1c0002row9_col22\" class=\"data row9 col22\" >0</td>\n",
       "                        <td id=\"T_845c0dd2_566f_11eb_bc59_0242ac1c0002row9_col23\" class=\"data row9 col23\" >0</td>\n",
       "                        <td id=\"T_845c0dd2_566f_11eb_bc59_0242ac1c0002row9_col24\" class=\"data row9 col24\" >0</td>\n",
       "                        <td id=\"T_845c0dd2_566f_11eb_bc59_0242ac1c0002row9_col25\" class=\"data row9 col25\" >0</td>\n",
       "                        <td id=\"T_845c0dd2_566f_11eb_bc59_0242ac1c0002row9_col26\" class=\"data row9 col26\" >0</td>\n",
       "                        <td id=\"T_845c0dd2_566f_11eb_bc59_0242ac1c0002row9_col27\" class=\"data row9 col27\" >0</td>\n",
       "            </tr>\n",
       "            <tr>\n",
       "                        <th id=\"T_845c0dd2_566f_11eb_bc59_0242ac1c0002level0_row10\" class=\"row_heading level0 row10\" >10</th>\n",
       "                        <td id=\"T_845c0dd2_566f_11eb_bc59_0242ac1c0002row10_col0\" class=\"data row10 col0\" >0</td>\n",
       "                        <td id=\"T_845c0dd2_566f_11eb_bc59_0242ac1c0002row10_col1\" class=\"data row10 col1\" >0</td>\n",
       "                        <td id=\"T_845c0dd2_566f_11eb_bc59_0242ac1c0002row10_col2\" class=\"data row10 col2\" >0</td>\n",
       "                        <td id=\"T_845c0dd2_566f_11eb_bc59_0242ac1c0002row10_col3\" class=\"data row10 col3\" >0</td>\n",
       "                        <td id=\"T_845c0dd2_566f_11eb_bc59_0242ac1c0002row10_col4\" class=\"data row10 col4\" >0</td>\n",
       "                        <td id=\"T_845c0dd2_566f_11eb_bc59_0242ac1c0002row10_col5\" class=\"data row10 col5\" >0</td>\n",
       "                        <td id=\"T_845c0dd2_566f_11eb_bc59_0242ac1c0002row10_col6\" class=\"data row10 col6\" >0</td>\n",
       "                        <td id=\"T_845c0dd2_566f_11eb_bc59_0242ac1c0002row10_col7\" class=\"data row10 col7\" >0</td>\n",
       "                        <td id=\"T_845c0dd2_566f_11eb_bc59_0242ac1c0002row10_col8\" class=\"data row10 col8\" >0</td>\n",
       "                        <td id=\"T_845c0dd2_566f_11eb_bc59_0242ac1c0002row10_col9\" class=\"data row10 col9\" >0</td>\n",
       "                        <td id=\"T_845c0dd2_566f_11eb_bc59_0242ac1c0002row10_col10\" class=\"data row10 col10\" >0</td>\n",
       "                        <td id=\"T_845c0dd2_566f_11eb_bc59_0242ac1c0002row10_col11\" class=\"data row10 col11\" >128</td>\n",
       "                        <td id=\"T_845c0dd2_566f_11eb_bc59_0242ac1c0002row10_col12\" class=\"data row10 col12\" >253</td>\n",
       "                        <td id=\"T_845c0dd2_566f_11eb_bc59_0242ac1c0002row10_col13\" class=\"data row10 col13\" >253</td>\n",
       "                        <td id=\"T_845c0dd2_566f_11eb_bc59_0242ac1c0002row10_col14\" class=\"data row10 col14\" >18</td>\n",
       "                        <td id=\"T_845c0dd2_566f_11eb_bc59_0242ac1c0002row10_col15\" class=\"data row10 col15\" >0</td>\n",
       "                        <td id=\"T_845c0dd2_566f_11eb_bc59_0242ac1c0002row10_col16\" class=\"data row10 col16\" >0</td>\n",
       "                        <td id=\"T_845c0dd2_566f_11eb_bc59_0242ac1c0002row10_col17\" class=\"data row10 col17\" >64</td>\n",
       "                        <td id=\"T_845c0dd2_566f_11eb_bc59_0242ac1c0002row10_col18\" class=\"data row10 col18\" >253</td>\n",
       "                        <td id=\"T_845c0dd2_566f_11eb_bc59_0242ac1c0002row10_col19\" class=\"data row10 col19\" >254</td>\n",
       "                        <td id=\"T_845c0dd2_566f_11eb_bc59_0242ac1c0002row10_col20\" class=\"data row10 col20\" >107</td>\n",
       "                        <td id=\"T_845c0dd2_566f_11eb_bc59_0242ac1c0002row10_col21\" class=\"data row10 col21\" >0</td>\n",
       "                        <td id=\"T_845c0dd2_566f_11eb_bc59_0242ac1c0002row10_col22\" class=\"data row10 col22\" >0</td>\n",
       "                        <td id=\"T_845c0dd2_566f_11eb_bc59_0242ac1c0002row10_col23\" class=\"data row10 col23\" >0</td>\n",
       "                        <td id=\"T_845c0dd2_566f_11eb_bc59_0242ac1c0002row10_col24\" class=\"data row10 col24\" >0</td>\n",
       "                        <td id=\"T_845c0dd2_566f_11eb_bc59_0242ac1c0002row10_col25\" class=\"data row10 col25\" >0</td>\n",
       "                        <td id=\"T_845c0dd2_566f_11eb_bc59_0242ac1c0002row10_col26\" class=\"data row10 col26\" >0</td>\n",
       "                        <td id=\"T_845c0dd2_566f_11eb_bc59_0242ac1c0002row10_col27\" class=\"data row10 col27\" >0</td>\n",
       "            </tr>\n",
       "            <tr>\n",
       "                        <th id=\"T_845c0dd2_566f_11eb_bc59_0242ac1c0002level0_row11\" class=\"row_heading level0 row11\" >11</th>\n",
       "                        <td id=\"T_845c0dd2_566f_11eb_bc59_0242ac1c0002row11_col0\" class=\"data row11 col0\" >0</td>\n",
       "                        <td id=\"T_845c0dd2_566f_11eb_bc59_0242ac1c0002row11_col1\" class=\"data row11 col1\" >0</td>\n",
       "                        <td id=\"T_845c0dd2_566f_11eb_bc59_0242ac1c0002row11_col2\" class=\"data row11 col2\" >0</td>\n",
       "                        <td id=\"T_845c0dd2_566f_11eb_bc59_0242ac1c0002row11_col3\" class=\"data row11 col3\" >0</td>\n",
       "                        <td id=\"T_845c0dd2_566f_11eb_bc59_0242ac1c0002row11_col4\" class=\"data row11 col4\" >0</td>\n",
       "                        <td id=\"T_845c0dd2_566f_11eb_bc59_0242ac1c0002row11_col5\" class=\"data row11 col5\" >0</td>\n",
       "                        <td id=\"T_845c0dd2_566f_11eb_bc59_0242ac1c0002row11_col6\" class=\"data row11 col6\" >0</td>\n",
       "                        <td id=\"T_845c0dd2_566f_11eb_bc59_0242ac1c0002row11_col7\" class=\"data row11 col7\" >0</td>\n",
       "                        <td id=\"T_845c0dd2_566f_11eb_bc59_0242ac1c0002row11_col8\" class=\"data row11 col8\" >0</td>\n",
       "                        <td id=\"T_845c0dd2_566f_11eb_bc59_0242ac1c0002row11_col9\" class=\"data row11 col9\" >0</td>\n",
       "                        <td id=\"T_845c0dd2_566f_11eb_bc59_0242ac1c0002row11_col10\" class=\"data row11 col10\" >0</td>\n",
       "                        <td id=\"T_845c0dd2_566f_11eb_bc59_0242ac1c0002row11_col11\" class=\"data row11 col11\" >127</td>\n",
       "                        <td id=\"T_845c0dd2_566f_11eb_bc59_0242ac1c0002row11_col12\" class=\"data row11 col12\" >252</td>\n",
       "                        <td id=\"T_845c0dd2_566f_11eb_bc59_0242ac1c0002row11_col13\" class=\"data row11 col13\" >252</td>\n",
       "                        <td id=\"T_845c0dd2_566f_11eb_bc59_0242ac1c0002row11_col14\" class=\"data row11 col14\" >71</td>\n",
       "                        <td id=\"T_845c0dd2_566f_11eb_bc59_0242ac1c0002row11_col15\" class=\"data row11 col15\" >0</td>\n",
       "                        <td id=\"T_845c0dd2_566f_11eb_bc59_0242ac1c0002row11_col16\" class=\"data row11 col16\" >0</td>\n",
       "                        <td id=\"T_845c0dd2_566f_11eb_bc59_0242ac1c0002row11_col17\" class=\"data row11 col17\" >64</td>\n",
       "                        <td id=\"T_845c0dd2_566f_11eb_bc59_0242ac1c0002row11_col18\" class=\"data row11 col18\" >252</td>\n",
       "                        <td id=\"T_845c0dd2_566f_11eb_bc59_0242ac1c0002row11_col19\" class=\"data row11 col19\" >253</td>\n",
       "                        <td id=\"T_845c0dd2_566f_11eb_bc59_0242ac1c0002row11_col20\" class=\"data row11 col20\" >63</td>\n",
       "                        <td id=\"T_845c0dd2_566f_11eb_bc59_0242ac1c0002row11_col21\" class=\"data row11 col21\" >0</td>\n",
       "                        <td id=\"T_845c0dd2_566f_11eb_bc59_0242ac1c0002row11_col22\" class=\"data row11 col22\" >0</td>\n",
       "                        <td id=\"T_845c0dd2_566f_11eb_bc59_0242ac1c0002row11_col23\" class=\"data row11 col23\" >0</td>\n",
       "                        <td id=\"T_845c0dd2_566f_11eb_bc59_0242ac1c0002row11_col24\" class=\"data row11 col24\" >0</td>\n",
       "                        <td id=\"T_845c0dd2_566f_11eb_bc59_0242ac1c0002row11_col25\" class=\"data row11 col25\" >0</td>\n",
       "                        <td id=\"T_845c0dd2_566f_11eb_bc59_0242ac1c0002row11_col26\" class=\"data row11 col26\" >0</td>\n",
       "                        <td id=\"T_845c0dd2_566f_11eb_bc59_0242ac1c0002row11_col27\" class=\"data row11 col27\" >0</td>\n",
       "            </tr>\n",
       "            <tr>\n",
       "                        <th id=\"T_845c0dd2_566f_11eb_bc59_0242ac1c0002level0_row12\" class=\"row_heading level0 row12\" >12</th>\n",
       "                        <td id=\"T_845c0dd2_566f_11eb_bc59_0242ac1c0002row12_col0\" class=\"data row12 col0\" >0</td>\n",
       "                        <td id=\"T_845c0dd2_566f_11eb_bc59_0242ac1c0002row12_col1\" class=\"data row12 col1\" >0</td>\n",
       "                        <td id=\"T_845c0dd2_566f_11eb_bc59_0242ac1c0002row12_col2\" class=\"data row12 col2\" >0</td>\n",
       "                        <td id=\"T_845c0dd2_566f_11eb_bc59_0242ac1c0002row12_col3\" class=\"data row12 col3\" >0</td>\n",
       "                        <td id=\"T_845c0dd2_566f_11eb_bc59_0242ac1c0002row12_col4\" class=\"data row12 col4\" >0</td>\n",
       "                        <td id=\"T_845c0dd2_566f_11eb_bc59_0242ac1c0002row12_col5\" class=\"data row12 col5\" >0</td>\n",
       "                        <td id=\"T_845c0dd2_566f_11eb_bc59_0242ac1c0002row12_col6\" class=\"data row12 col6\" >0</td>\n",
       "                        <td id=\"T_845c0dd2_566f_11eb_bc59_0242ac1c0002row12_col7\" class=\"data row12 col7\" >0</td>\n",
       "                        <td id=\"T_845c0dd2_566f_11eb_bc59_0242ac1c0002row12_col8\" class=\"data row12 col8\" >0</td>\n",
       "                        <td id=\"T_845c0dd2_566f_11eb_bc59_0242ac1c0002row12_col9\" class=\"data row12 col9\" >0</td>\n",
       "                        <td id=\"T_845c0dd2_566f_11eb_bc59_0242ac1c0002row12_col10\" class=\"data row12 col10\" >0</td>\n",
       "                        <td id=\"T_845c0dd2_566f_11eb_bc59_0242ac1c0002row12_col11\" class=\"data row12 col11\" >127</td>\n",
       "                        <td id=\"T_845c0dd2_566f_11eb_bc59_0242ac1c0002row12_col12\" class=\"data row12 col12\" >252</td>\n",
       "                        <td id=\"T_845c0dd2_566f_11eb_bc59_0242ac1c0002row12_col13\" class=\"data row12 col13\" >252</td>\n",
       "                        <td id=\"T_845c0dd2_566f_11eb_bc59_0242ac1c0002row12_col14\" class=\"data row12 col14\" >4</td>\n",
       "                        <td id=\"T_845c0dd2_566f_11eb_bc59_0242ac1c0002row12_col15\" class=\"data row12 col15\" >22</td>\n",
       "                        <td id=\"T_845c0dd2_566f_11eb_bc59_0242ac1c0002row12_col16\" class=\"data row12 col16\" >11</td>\n",
       "                        <td id=\"T_845c0dd2_566f_11eb_bc59_0242ac1c0002row12_col17\" class=\"data row12 col17\" >64</td>\n",
       "                        <td id=\"T_845c0dd2_566f_11eb_bc59_0242ac1c0002row12_col18\" class=\"data row12 col18\" >252</td>\n",
       "                        <td id=\"T_845c0dd2_566f_11eb_bc59_0242ac1c0002row12_col19\" class=\"data row12 col19\" >253</td>\n",
       "                        <td id=\"T_845c0dd2_566f_11eb_bc59_0242ac1c0002row12_col20\" class=\"data row12 col20\" >107</td>\n",
       "                        <td id=\"T_845c0dd2_566f_11eb_bc59_0242ac1c0002row12_col21\" class=\"data row12 col21\" >0</td>\n",
       "                        <td id=\"T_845c0dd2_566f_11eb_bc59_0242ac1c0002row12_col22\" class=\"data row12 col22\" >0</td>\n",
       "                        <td id=\"T_845c0dd2_566f_11eb_bc59_0242ac1c0002row12_col23\" class=\"data row12 col23\" >0</td>\n",
       "                        <td id=\"T_845c0dd2_566f_11eb_bc59_0242ac1c0002row12_col24\" class=\"data row12 col24\" >0</td>\n",
       "                        <td id=\"T_845c0dd2_566f_11eb_bc59_0242ac1c0002row12_col25\" class=\"data row12 col25\" >0</td>\n",
       "                        <td id=\"T_845c0dd2_566f_11eb_bc59_0242ac1c0002row12_col26\" class=\"data row12 col26\" >0</td>\n",
       "                        <td id=\"T_845c0dd2_566f_11eb_bc59_0242ac1c0002row12_col27\" class=\"data row12 col27\" >0</td>\n",
       "            </tr>\n",
       "            <tr>\n",
       "                        <th id=\"T_845c0dd2_566f_11eb_bc59_0242ac1c0002level0_row13\" class=\"row_heading level0 row13\" >13</th>\n",
       "                        <td id=\"T_845c0dd2_566f_11eb_bc59_0242ac1c0002row13_col0\" class=\"data row13 col0\" >0</td>\n",
       "                        <td id=\"T_845c0dd2_566f_11eb_bc59_0242ac1c0002row13_col1\" class=\"data row13 col1\" >0</td>\n",
       "                        <td id=\"T_845c0dd2_566f_11eb_bc59_0242ac1c0002row13_col2\" class=\"data row13 col2\" >0</td>\n",
       "                        <td id=\"T_845c0dd2_566f_11eb_bc59_0242ac1c0002row13_col3\" class=\"data row13 col3\" >0</td>\n",
       "                        <td id=\"T_845c0dd2_566f_11eb_bc59_0242ac1c0002row13_col4\" class=\"data row13 col4\" >0</td>\n",
       "                        <td id=\"T_845c0dd2_566f_11eb_bc59_0242ac1c0002row13_col5\" class=\"data row13 col5\" >0</td>\n",
       "                        <td id=\"T_845c0dd2_566f_11eb_bc59_0242ac1c0002row13_col6\" class=\"data row13 col6\" >0</td>\n",
       "                        <td id=\"T_845c0dd2_566f_11eb_bc59_0242ac1c0002row13_col7\" class=\"data row13 col7\" >0</td>\n",
       "                        <td id=\"T_845c0dd2_566f_11eb_bc59_0242ac1c0002row13_col8\" class=\"data row13 col8\" >0</td>\n",
       "                        <td id=\"T_845c0dd2_566f_11eb_bc59_0242ac1c0002row13_col9\" class=\"data row13 col9\" >0</td>\n",
       "                        <td id=\"T_845c0dd2_566f_11eb_bc59_0242ac1c0002row13_col10\" class=\"data row13 col10\" >0</td>\n",
       "                        <td id=\"T_845c0dd2_566f_11eb_bc59_0242ac1c0002row13_col11\" class=\"data row13 col11\" >153</td>\n",
       "                        <td id=\"T_845c0dd2_566f_11eb_bc59_0242ac1c0002row13_col12\" class=\"data row13 col12\" >252</td>\n",
       "                        <td id=\"T_845c0dd2_566f_11eb_bc59_0242ac1c0002row13_col13\" class=\"data row13 col13\" >252</td>\n",
       "                        <td id=\"T_845c0dd2_566f_11eb_bc59_0242ac1c0002row13_col14\" class=\"data row13 col14\" >183</td>\n",
       "                        <td id=\"T_845c0dd2_566f_11eb_bc59_0242ac1c0002row13_col15\" class=\"data row13 col15\" >252</td>\n",
       "                        <td id=\"T_845c0dd2_566f_11eb_bc59_0242ac1c0002row13_col16\" class=\"data row13 col16\" >210</td>\n",
       "                        <td id=\"T_845c0dd2_566f_11eb_bc59_0242ac1c0002row13_col17\" class=\"data row13 col17\" >190</td>\n",
       "                        <td id=\"T_845c0dd2_566f_11eb_bc59_0242ac1c0002row13_col18\" class=\"data row13 col18\" >252</td>\n",
       "                        <td id=\"T_845c0dd2_566f_11eb_bc59_0242ac1c0002row13_col19\" class=\"data row13 col19\" >253</td>\n",
       "                        <td id=\"T_845c0dd2_566f_11eb_bc59_0242ac1c0002row13_col20\" class=\"data row13 col20\" >63</td>\n",
       "                        <td id=\"T_845c0dd2_566f_11eb_bc59_0242ac1c0002row13_col21\" class=\"data row13 col21\" >0</td>\n",
       "                        <td id=\"T_845c0dd2_566f_11eb_bc59_0242ac1c0002row13_col22\" class=\"data row13 col22\" >0</td>\n",
       "                        <td id=\"T_845c0dd2_566f_11eb_bc59_0242ac1c0002row13_col23\" class=\"data row13 col23\" >0</td>\n",
       "                        <td id=\"T_845c0dd2_566f_11eb_bc59_0242ac1c0002row13_col24\" class=\"data row13 col24\" >0</td>\n",
       "                        <td id=\"T_845c0dd2_566f_11eb_bc59_0242ac1c0002row13_col25\" class=\"data row13 col25\" >0</td>\n",
       "                        <td id=\"T_845c0dd2_566f_11eb_bc59_0242ac1c0002row13_col26\" class=\"data row13 col26\" >0</td>\n",
       "                        <td id=\"T_845c0dd2_566f_11eb_bc59_0242ac1c0002row13_col27\" class=\"data row13 col27\" >0</td>\n",
       "            </tr>\n",
       "            <tr>\n",
       "                        <th id=\"T_845c0dd2_566f_11eb_bc59_0242ac1c0002level0_row14\" class=\"row_heading level0 row14\" >14</th>\n",
       "                        <td id=\"T_845c0dd2_566f_11eb_bc59_0242ac1c0002row14_col0\" class=\"data row14 col0\" >0</td>\n",
       "                        <td id=\"T_845c0dd2_566f_11eb_bc59_0242ac1c0002row14_col1\" class=\"data row14 col1\" >0</td>\n",
       "                        <td id=\"T_845c0dd2_566f_11eb_bc59_0242ac1c0002row14_col2\" class=\"data row14 col2\" >0</td>\n",
       "                        <td id=\"T_845c0dd2_566f_11eb_bc59_0242ac1c0002row14_col3\" class=\"data row14 col3\" >0</td>\n",
       "                        <td id=\"T_845c0dd2_566f_11eb_bc59_0242ac1c0002row14_col4\" class=\"data row14 col4\" >0</td>\n",
       "                        <td id=\"T_845c0dd2_566f_11eb_bc59_0242ac1c0002row14_col5\" class=\"data row14 col5\" >0</td>\n",
       "                        <td id=\"T_845c0dd2_566f_11eb_bc59_0242ac1c0002row14_col6\" class=\"data row14 col6\" >0</td>\n",
       "                        <td id=\"T_845c0dd2_566f_11eb_bc59_0242ac1c0002row14_col7\" class=\"data row14 col7\" >0</td>\n",
       "                        <td id=\"T_845c0dd2_566f_11eb_bc59_0242ac1c0002row14_col8\" class=\"data row14 col8\" >0</td>\n",
       "                        <td id=\"T_845c0dd2_566f_11eb_bc59_0242ac1c0002row14_col9\" class=\"data row14 col9\" >62</td>\n",
       "                        <td id=\"T_845c0dd2_566f_11eb_bc59_0242ac1c0002row14_col10\" class=\"data row14 col10\" >185</td>\n",
       "                        <td id=\"T_845c0dd2_566f_11eb_bc59_0242ac1c0002row14_col11\" class=\"data row14 col11\" >249</td>\n",
       "                        <td id=\"T_845c0dd2_566f_11eb_bc59_0242ac1c0002row14_col12\" class=\"data row14 col12\" >252</td>\n",
       "                        <td id=\"T_845c0dd2_566f_11eb_bc59_0242ac1c0002row14_col13\" class=\"data row14 col13\" >252</td>\n",
       "                        <td id=\"T_845c0dd2_566f_11eb_bc59_0242ac1c0002row14_col14\" class=\"data row14 col14\" >253</td>\n",
       "                        <td id=\"T_845c0dd2_566f_11eb_bc59_0242ac1c0002row14_col15\" class=\"data row14 col15\" >252</td>\n",
       "                        <td id=\"T_845c0dd2_566f_11eb_bc59_0242ac1c0002row14_col16\" class=\"data row14 col16\" >252</td>\n",
       "                        <td id=\"T_845c0dd2_566f_11eb_bc59_0242ac1c0002row14_col17\" class=\"data row14 col17\" >252</td>\n",
       "                        <td id=\"T_845c0dd2_566f_11eb_bc59_0242ac1c0002row14_col18\" class=\"data row14 col18\" >252</td>\n",
       "                        <td id=\"T_845c0dd2_566f_11eb_bc59_0242ac1c0002row14_col19\" class=\"data row14 col19\" >253</td>\n",
       "                        <td id=\"T_845c0dd2_566f_11eb_bc59_0242ac1c0002row14_col20\" class=\"data row14 col20\" >63</td>\n",
       "                        <td id=\"T_845c0dd2_566f_11eb_bc59_0242ac1c0002row14_col21\" class=\"data row14 col21\" >0</td>\n",
       "                        <td id=\"T_845c0dd2_566f_11eb_bc59_0242ac1c0002row14_col22\" class=\"data row14 col22\" >0</td>\n",
       "                        <td id=\"T_845c0dd2_566f_11eb_bc59_0242ac1c0002row14_col23\" class=\"data row14 col23\" >0</td>\n",
       "                        <td id=\"T_845c0dd2_566f_11eb_bc59_0242ac1c0002row14_col24\" class=\"data row14 col24\" >0</td>\n",
       "                        <td id=\"T_845c0dd2_566f_11eb_bc59_0242ac1c0002row14_col25\" class=\"data row14 col25\" >0</td>\n",
       "                        <td id=\"T_845c0dd2_566f_11eb_bc59_0242ac1c0002row14_col26\" class=\"data row14 col26\" >0</td>\n",
       "                        <td id=\"T_845c0dd2_566f_11eb_bc59_0242ac1c0002row14_col27\" class=\"data row14 col27\" >0</td>\n",
       "            </tr>\n",
       "            <tr>\n",
       "                        <th id=\"T_845c0dd2_566f_11eb_bc59_0242ac1c0002level0_row15\" class=\"row_heading level0 row15\" >15</th>\n",
       "                        <td id=\"T_845c0dd2_566f_11eb_bc59_0242ac1c0002row15_col0\" class=\"data row15 col0\" >0</td>\n",
       "                        <td id=\"T_845c0dd2_566f_11eb_bc59_0242ac1c0002row15_col1\" class=\"data row15 col1\" >0</td>\n",
       "                        <td id=\"T_845c0dd2_566f_11eb_bc59_0242ac1c0002row15_col2\" class=\"data row15 col2\" >0</td>\n",
       "                        <td id=\"T_845c0dd2_566f_11eb_bc59_0242ac1c0002row15_col3\" class=\"data row15 col3\" >0</td>\n",
       "                        <td id=\"T_845c0dd2_566f_11eb_bc59_0242ac1c0002row15_col4\" class=\"data row15 col4\" >0</td>\n",
       "                        <td id=\"T_845c0dd2_566f_11eb_bc59_0242ac1c0002row15_col5\" class=\"data row15 col5\" >0</td>\n",
       "                        <td id=\"T_845c0dd2_566f_11eb_bc59_0242ac1c0002row15_col6\" class=\"data row15 col6\" >0</td>\n",
       "                        <td id=\"T_845c0dd2_566f_11eb_bc59_0242ac1c0002row15_col7\" class=\"data row15 col7\" >38</td>\n",
       "                        <td id=\"T_845c0dd2_566f_11eb_bc59_0242ac1c0002row15_col8\" class=\"data row15 col8\" >192</td>\n",
       "                        <td id=\"T_845c0dd2_566f_11eb_bc59_0242ac1c0002row15_col9\" class=\"data row15 col9\" >254</td>\n",
       "                        <td id=\"T_845c0dd2_566f_11eb_bc59_0242ac1c0002row15_col10\" class=\"data row15 col10\" >253</td>\n",
       "                        <td id=\"T_845c0dd2_566f_11eb_bc59_0242ac1c0002row15_col11\" class=\"data row15 col11\" >253</td>\n",
       "                        <td id=\"T_845c0dd2_566f_11eb_bc59_0242ac1c0002row15_col12\" class=\"data row15 col12\" >253</td>\n",
       "                        <td id=\"T_845c0dd2_566f_11eb_bc59_0242ac1c0002row15_col13\" class=\"data row15 col13\" >253</td>\n",
       "                        <td id=\"T_845c0dd2_566f_11eb_bc59_0242ac1c0002row15_col14\" class=\"data row15 col14\" >212</td>\n",
       "                        <td id=\"T_845c0dd2_566f_11eb_bc59_0242ac1c0002row15_col15\" class=\"data row15 col15\" >211</td>\n",
       "                        <td id=\"T_845c0dd2_566f_11eb_bc59_0242ac1c0002row15_col16\" class=\"data row15 col16\" >211</td>\n",
       "                        <td id=\"T_845c0dd2_566f_11eb_bc59_0242ac1c0002row15_col17\" class=\"data row15 col17\" >222</td>\n",
       "                        <td id=\"T_845c0dd2_566f_11eb_bc59_0242ac1c0002row15_col18\" class=\"data row15 col18\" >253</td>\n",
       "                        <td id=\"T_845c0dd2_566f_11eb_bc59_0242ac1c0002row15_col19\" class=\"data row15 col19\" >255</td>\n",
       "                        <td id=\"T_845c0dd2_566f_11eb_bc59_0242ac1c0002row15_col20\" class=\"data row15 col20\" >81</td>\n",
       "                        <td id=\"T_845c0dd2_566f_11eb_bc59_0242ac1c0002row15_col21\" class=\"data row15 col21\" >0</td>\n",
       "                        <td id=\"T_845c0dd2_566f_11eb_bc59_0242ac1c0002row15_col22\" class=\"data row15 col22\" >0</td>\n",
       "                        <td id=\"T_845c0dd2_566f_11eb_bc59_0242ac1c0002row15_col23\" class=\"data row15 col23\" >0</td>\n",
       "                        <td id=\"T_845c0dd2_566f_11eb_bc59_0242ac1c0002row15_col24\" class=\"data row15 col24\" >0</td>\n",
       "                        <td id=\"T_845c0dd2_566f_11eb_bc59_0242ac1c0002row15_col25\" class=\"data row15 col25\" >0</td>\n",
       "                        <td id=\"T_845c0dd2_566f_11eb_bc59_0242ac1c0002row15_col26\" class=\"data row15 col26\" >0</td>\n",
       "                        <td id=\"T_845c0dd2_566f_11eb_bc59_0242ac1c0002row15_col27\" class=\"data row15 col27\" >0</td>\n",
       "            </tr>\n",
       "            <tr>\n",
       "                        <th id=\"T_845c0dd2_566f_11eb_bc59_0242ac1c0002level0_row16\" class=\"row_heading level0 row16\" >16</th>\n",
       "                        <td id=\"T_845c0dd2_566f_11eb_bc59_0242ac1c0002row16_col0\" class=\"data row16 col0\" >0</td>\n",
       "                        <td id=\"T_845c0dd2_566f_11eb_bc59_0242ac1c0002row16_col1\" class=\"data row16 col1\" >0</td>\n",
       "                        <td id=\"T_845c0dd2_566f_11eb_bc59_0242ac1c0002row16_col2\" class=\"data row16 col2\" >0</td>\n",
       "                        <td id=\"T_845c0dd2_566f_11eb_bc59_0242ac1c0002row16_col3\" class=\"data row16 col3\" >0</td>\n",
       "                        <td id=\"T_845c0dd2_566f_11eb_bc59_0242ac1c0002row16_col4\" class=\"data row16 col4\" >0</td>\n",
       "                        <td id=\"T_845c0dd2_566f_11eb_bc59_0242ac1c0002row16_col5\" class=\"data row16 col5\" >0</td>\n",
       "                        <td id=\"T_845c0dd2_566f_11eb_bc59_0242ac1c0002row16_col6\" class=\"data row16 col6\" >43</td>\n",
       "                        <td id=\"T_845c0dd2_566f_11eb_bc59_0242ac1c0002row16_col7\" class=\"data row16 col7\" >171</td>\n",
       "                        <td id=\"T_845c0dd2_566f_11eb_bc59_0242ac1c0002row16_col8\" class=\"data row16 col8\" >252</td>\n",
       "                        <td id=\"T_845c0dd2_566f_11eb_bc59_0242ac1c0002row16_col9\" class=\"data row16 col9\" >253</td>\n",
       "                        <td id=\"T_845c0dd2_566f_11eb_bc59_0242ac1c0002row16_col10\" class=\"data row16 col10\" >252</td>\n",
       "                        <td id=\"T_845c0dd2_566f_11eb_bc59_0242ac1c0002row16_col11\" class=\"data row16 col11\" >252</td>\n",
       "                        <td id=\"T_845c0dd2_566f_11eb_bc59_0242ac1c0002row16_col12\" class=\"data row16 col12\" >231</td>\n",
       "                        <td id=\"T_845c0dd2_566f_11eb_bc59_0242ac1c0002row16_col13\" class=\"data row16 col13\" >124</td>\n",
       "                        <td id=\"T_845c0dd2_566f_11eb_bc59_0242ac1c0002row16_col14\" class=\"data row16 col14\" >0</td>\n",
       "                        <td id=\"T_845c0dd2_566f_11eb_bc59_0242ac1c0002row16_col15\" class=\"data row16 col15\" >0</td>\n",
       "                        <td id=\"T_845c0dd2_566f_11eb_bc59_0242ac1c0002row16_col16\" class=\"data row16 col16\" >0</td>\n",
       "                        <td id=\"T_845c0dd2_566f_11eb_bc59_0242ac1c0002row16_col17\" class=\"data row16 col17\" >64</td>\n",
       "                        <td id=\"T_845c0dd2_566f_11eb_bc59_0242ac1c0002row16_col18\" class=\"data row16 col18\" >252</td>\n",
       "                        <td id=\"T_845c0dd2_566f_11eb_bc59_0242ac1c0002row16_col19\" class=\"data row16 col19\" >253</td>\n",
       "                        <td id=\"T_845c0dd2_566f_11eb_bc59_0242ac1c0002row16_col20\" class=\"data row16 col20\" >168</td>\n",
       "                        <td id=\"T_845c0dd2_566f_11eb_bc59_0242ac1c0002row16_col21\" class=\"data row16 col21\" >0</td>\n",
       "                        <td id=\"T_845c0dd2_566f_11eb_bc59_0242ac1c0002row16_col22\" class=\"data row16 col22\" >0</td>\n",
       "                        <td id=\"T_845c0dd2_566f_11eb_bc59_0242ac1c0002row16_col23\" class=\"data row16 col23\" >0</td>\n",
       "                        <td id=\"T_845c0dd2_566f_11eb_bc59_0242ac1c0002row16_col24\" class=\"data row16 col24\" >0</td>\n",
       "                        <td id=\"T_845c0dd2_566f_11eb_bc59_0242ac1c0002row16_col25\" class=\"data row16 col25\" >0</td>\n",
       "                        <td id=\"T_845c0dd2_566f_11eb_bc59_0242ac1c0002row16_col26\" class=\"data row16 col26\" >0</td>\n",
       "                        <td id=\"T_845c0dd2_566f_11eb_bc59_0242ac1c0002row16_col27\" class=\"data row16 col27\" >0</td>\n",
       "            </tr>\n",
       "            <tr>\n",
       "                        <th id=\"T_845c0dd2_566f_11eb_bc59_0242ac1c0002level0_row17\" class=\"row_heading level0 row17\" >17</th>\n",
       "                        <td id=\"T_845c0dd2_566f_11eb_bc59_0242ac1c0002row17_col0\" class=\"data row17 col0\" >0</td>\n",
       "                        <td id=\"T_845c0dd2_566f_11eb_bc59_0242ac1c0002row17_col1\" class=\"data row17 col1\" >0</td>\n",
       "                        <td id=\"T_845c0dd2_566f_11eb_bc59_0242ac1c0002row17_col2\" class=\"data row17 col2\" >0</td>\n",
       "                        <td id=\"T_845c0dd2_566f_11eb_bc59_0242ac1c0002row17_col3\" class=\"data row17 col3\" >0</td>\n",
       "                        <td id=\"T_845c0dd2_566f_11eb_bc59_0242ac1c0002row17_col4\" class=\"data row17 col4\" >0</td>\n",
       "                        <td id=\"T_845c0dd2_566f_11eb_bc59_0242ac1c0002row17_col5\" class=\"data row17 col5\" >0</td>\n",
       "                        <td id=\"T_845c0dd2_566f_11eb_bc59_0242ac1c0002row17_col6\" class=\"data row17 col6\" >127</td>\n",
       "                        <td id=\"T_845c0dd2_566f_11eb_bc59_0242ac1c0002row17_col7\" class=\"data row17 col7\" >252</td>\n",
       "                        <td id=\"T_845c0dd2_566f_11eb_bc59_0242ac1c0002row17_col8\" class=\"data row17 col8\" >252</td>\n",
       "                        <td id=\"T_845c0dd2_566f_11eb_bc59_0242ac1c0002row17_col9\" class=\"data row17 col9\" >253</td>\n",
       "                        <td id=\"T_845c0dd2_566f_11eb_bc59_0242ac1c0002row17_col10\" class=\"data row17 col10\" >252</td>\n",
       "                        <td id=\"T_845c0dd2_566f_11eb_bc59_0242ac1c0002row17_col11\" class=\"data row17 col11\" >252</td>\n",
       "                        <td id=\"T_845c0dd2_566f_11eb_bc59_0242ac1c0002row17_col12\" class=\"data row17 col12\" >136</td>\n",
       "                        <td id=\"T_845c0dd2_566f_11eb_bc59_0242ac1c0002row17_col13\" class=\"data row17 col13\" >0</td>\n",
       "                        <td id=\"T_845c0dd2_566f_11eb_bc59_0242ac1c0002row17_col14\" class=\"data row17 col14\" >0</td>\n",
       "                        <td id=\"T_845c0dd2_566f_11eb_bc59_0242ac1c0002row17_col15\" class=\"data row17 col15\" >0</td>\n",
       "                        <td id=\"T_845c0dd2_566f_11eb_bc59_0242ac1c0002row17_col16\" class=\"data row17 col16\" >0</td>\n",
       "                        <td id=\"T_845c0dd2_566f_11eb_bc59_0242ac1c0002row17_col17\" class=\"data row17 col17\" >64</td>\n",
       "                        <td id=\"T_845c0dd2_566f_11eb_bc59_0242ac1c0002row17_col18\" class=\"data row17 col18\" >252</td>\n",
       "                        <td id=\"T_845c0dd2_566f_11eb_bc59_0242ac1c0002row17_col19\" class=\"data row17 col19\" >253</td>\n",
       "                        <td id=\"T_845c0dd2_566f_11eb_bc59_0242ac1c0002row17_col20\" class=\"data row17 col20\" >168</td>\n",
       "                        <td id=\"T_845c0dd2_566f_11eb_bc59_0242ac1c0002row17_col21\" class=\"data row17 col21\" >0</td>\n",
       "                        <td id=\"T_845c0dd2_566f_11eb_bc59_0242ac1c0002row17_col22\" class=\"data row17 col22\" >0</td>\n",
       "                        <td id=\"T_845c0dd2_566f_11eb_bc59_0242ac1c0002row17_col23\" class=\"data row17 col23\" >0</td>\n",
       "                        <td id=\"T_845c0dd2_566f_11eb_bc59_0242ac1c0002row17_col24\" class=\"data row17 col24\" >0</td>\n",
       "                        <td id=\"T_845c0dd2_566f_11eb_bc59_0242ac1c0002row17_col25\" class=\"data row17 col25\" >0</td>\n",
       "                        <td id=\"T_845c0dd2_566f_11eb_bc59_0242ac1c0002row17_col26\" class=\"data row17 col26\" >0</td>\n",
       "                        <td id=\"T_845c0dd2_566f_11eb_bc59_0242ac1c0002row17_col27\" class=\"data row17 col27\" >0</td>\n",
       "            </tr>\n",
       "            <tr>\n",
       "                        <th id=\"T_845c0dd2_566f_11eb_bc59_0242ac1c0002level0_row18\" class=\"row_heading level0 row18\" >18</th>\n",
       "                        <td id=\"T_845c0dd2_566f_11eb_bc59_0242ac1c0002row18_col0\" class=\"data row18 col0\" >0</td>\n",
       "                        <td id=\"T_845c0dd2_566f_11eb_bc59_0242ac1c0002row18_col1\" class=\"data row18 col1\" >0</td>\n",
       "                        <td id=\"T_845c0dd2_566f_11eb_bc59_0242ac1c0002row18_col2\" class=\"data row18 col2\" >0</td>\n",
       "                        <td id=\"T_845c0dd2_566f_11eb_bc59_0242ac1c0002row18_col3\" class=\"data row18 col3\" >0</td>\n",
       "                        <td id=\"T_845c0dd2_566f_11eb_bc59_0242ac1c0002row18_col4\" class=\"data row18 col4\" >0</td>\n",
       "                        <td id=\"T_845c0dd2_566f_11eb_bc59_0242ac1c0002row18_col5\" class=\"data row18 col5\" >0</td>\n",
       "                        <td id=\"T_845c0dd2_566f_11eb_bc59_0242ac1c0002row18_col6\" class=\"data row18 col6\" >127</td>\n",
       "                        <td id=\"T_845c0dd2_566f_11eb_bc59_0242ac1c0002row18_col7\" class=\"data row18 col7\" >252</td>\n",
       "                        <td id=\"T_845c0dd2_566f_11eb_bc59_0242ac1c0002row18_col8\" class=\"data row18 col8\" >252</td>\n",
       "                        <td id=\"T_845c0dd2_566f_11eb_bc59_0242ac1c0002row18_col9\" class=\"data row18 col9\" >253</td>\n",
       "                        <td id=\"T_845c0dd2_566f_11eb_bc59_0242ac1c0002row18_col10\" class=\"data row18 col10\" >252</td>\n",
       "                        <td id=\"T_845c0dd2_566f_11eb_bc59_0242ac1c0002row18_col11\" class=\"data row18 col11\" >212</td>\n",
       "                        <td id=\"T_845c0dd2_566f_11eb_bc59_0242ac1c0002row18_col12\" class=\"data row18 col12\" >28</td>\n",
       "                        <td id=\"T_845c0dd2_566f_11eb_bc59_0242ac1c0002row18_col13\" class=\"data row18 col13\" >0</td>\n",
       "                        <td id=\"T_845c0dd2_566f_11eb_bc59_0242ac1c0002row18_col14\" class=\"data row18 col14\" >0</td>\n",
       "                        <td id=\"T_845c0dd2_566f_11eb_bc59_0242ac1c0002row18_col15\" class=\"data row18 col15\" >0</td>\n",
       "                        <td id=\"T_845c0dd2_566f_11eb_bc59_0242ac1c0002row18_col16\" class=\"data row18 col16\" >0</td>\n",
       "                        <td id=\"T_845c0dd2_566f_11eb_bc59_0242ac1c0002row18_col17\" class=\"data row18 col17\" >48</td>\n",
       "                        <td id=\"T_845c0dd2_566f_11eb_bc59_0242ac1c0002row18_col18\" class=\"data row18 col18\" >242</td>\n",
       "                        <td id=\"T_845c0dd2_566f_11eb_bc59_0242ac1c0002row18_col19\" class=\"data row18 col19\" >253</td>\n",
       "                        <td id=\"T_845c0dd2_566f_11eb_bc59_0242ac1c0002row18_col20\" class=\"data row18 col20\" >168</td>\n",
       "                        <td id=\"T_845c0dd2_566f_11eb_bc59_0242ac1c0002row18_col21\" class=\"data row18 col21\" >0</td>\n",
       "                        <td id=\"T_845c0dd2_566f_11eb_bc59_0242ac1c0002row18_col22\" class=\"data row18 col22\" >0</td>\n",
       "                        <td id=\"T_845c0dd2_566f_11eb_bc59_0242ac1c0002row18_col23\" class=\"data row18 col23\" >0</td>\n",
       "                        <td id=\"T_845c0dd2_566f_11eb_bc59_0242ac1c0002row18_col24\" class=\"data row18 col24\" >0</td>\n",
       "                        <td id=\"T_845c0dd2_566f_11eb_bc59_0242ac1c0002row18_col25\" class=\"data row18 col25\" >0</td>\n",
       "                        <td id=\"T_845c0dd2_566f_11eb_bc59_0242ac1c0002row18_col26\" class=\"data row18 col26\" >0</td>\n",
       "                        <td id=\"T_845c0dd2_566f_11eb_bc59_0242ac1c0002row18_col27\" class=\"data row18 col27\" >0</td>\n",
       "            </tr>\n",
       "            <tr>\n",
       "                        <th id=\"T_845c0dd2_566f_11eb_bc59_0242ac1c0002level0_row19\" class=\"row_heading level0 row19\" >19</th>\n",
       "                        <td id=\"T_845c0dd2_566f_11eb_bc59_0242ac1c0002row19_col0\" class=\"data row19 col0\" >0</td>\n",
       "                        <td id=\"T_845c0dd2_566f_11eb_bc59_0242ac1c0002row19_col1\" class=\"data row19 col1\" >0</td>\n",
       "                        <td id=\"T_845c0dd2_566f_11eb_bc59_0242ac1c0002row19_col2\" class=\"data row19 col2\" >0</td>\n",
       "                        <td id=\"T_845c0dd2_566f_11eb_bc59_0242ac1c0002row19_col3\" class=\"data row19 col3\" >0</td>\n",
       "                        <td id=\"T_845c0dd2_566f_11eb_bc59_0242ac1c0002row19_col4\" class=\"data row19 col4\" >0</td>\n",
       "                        <td id=\"T_845c0dd2_566f_11eb_bc59_0242ac1c0002row19_col5\" class=\"data row19 col5\" >0</td>\n",
       "                        <td id=\"T_845c0dd2_566f_11eb_bc59_0242ac1c0002row19_col6\" class=\"data row19 col6\" >127</td>\n",
       "                        <td id=\"T_845c0dd2_566f_11eb_bc59_0242ac1c0002row19_col7\" class=\"data row19 col7\" >252</td>\n",
       "                        <td id=\"T_845c0dd2_566f_11eb_bc59_0242ac1c0002row19_col8\" class=\"data row19 col8\" >252</td>\n",
       "                        <td id=\"T_845c0dd2_566f_11eb_bc59_0242ac1c0002row19_col9\" class=\"data row19 col9\" >253</td>\n",
       "                        <td id=\"T_845c0dd2_566f_11eb_bc59_0242ac1c0002row19_col10\" class=\"data row19 col10\" >252</td>\n",
       "                        <td id=\"T_845c0dd2_566f_11eb_bc59_0242ac1c0002row19_col11\" class=\"data row19 col11\" >126</td>\n",
       "                        <td id=\"T_845c0dd2_566f_11eb_bc59_0242ac1c0002row19_col12\" class=\"data row19 col12\" >0</td>\n",
       "                        <td id=\"T_845c0dd2_566f_11eb_bc59_0242ac1c0002row19_col13\" class=\"data row19 col13\" >0</td>\n",
       "                        <td id=\"T_845c0dd2_566f_11eb_bc59_0242ac1c0002row19_col14\" class=\"data row19 col14\" >0</td>\n",
       "                        <td id=\"T_845c0dd2_566f_11eb_bc59_0242ac1c0002row19_col15\" class=\"data row19 col15\" >0</td>\n",
       "                        <td id=\"T_845c0dd2_566f_11eb_bc59_0242ac1c0002row19_col16\" class=\"data row19 col16\" >0</td>\n",
       "                        <td id=\"T_845c0dd2_566f_11eb_bc59_0242ac1c0002row19_col17\" class=\"data row19 col17\" >27</td>\n",
       "                        <td id=\"T_845c0dd2_566f_11eb_bc59_0242ac1c0002row19_col18\" class=\"data row19 col18\" >228</td>\n",
       "                        <td id=\"T_845c0dd2_566f_11eb_bc59_0242ac1c0002row19_col19\" class=\"data row19 col19\" >253</td>\n",
       "                        <td id=\"T_845c0dd2_566f_11eb_bc59_0242ac1c0002row19_col20\" class=\"data row19 col20\" >168</td>\n",
       "                        <td id=\"T_845c0dd2_566f_11eb_bc59_0242ac1c0002row19_col21\" class=\"data row19 col21\" >0</td>\n",
       "                        <td id=\"T_845c0dd2_566f_11eb_bc59_0242ac1c0002row19_col22\" class=\"data row19 col22\" >0</td>\n",
       "                        <td id=\"T_845c0dd2_566f_11eb_bc59_0242ac1c0002row19_col23\" class=\"data row19 col23\" >0</td>\n",
       "                        <td id=\"T_845c0dd2_566f_11eb_bc59_0242ac1c0002row19_col24\" class=\"data row19 col24\" >0</td>\n",
       "                        <td id=\"T_845c0dd2_566f_11eb_bc59_0242ac1c0002row19_col25\" class=\"data row19 col25\" >0</td>\n",
       "                        <td id=\"T_845c0dd2_566f_11eb_bc59_0242ac1c0002row19_col26\" class=\"data row19 col26\" >0</td>\n",
       "                        <td id=\"T_845c0dd2_566f_11eb_bc59_0242ac1c0002row19_col27\" class=\"data row19 col27\" >0</td>\n",
       "            </tr>\n",
       "            <tr>\n",
       "                        <th id=\"T_845c0dd2_566f_11eb_bc59_0242ac1c0002level0_row20\" class=\"row_heading level0 row20\" >20</th>\n",
       "                        <td id=\"T_845c0dd2_566f_11eb_bc59_0242ac1c0002row20_col0\" class=\"data row20 col0\" >0</td>\n",
       "                        <td id=\"T_845c0dd2_566f_11eb_bc59_0242ac1c0002row20_col1\" class=\"data row20 col1\" >0</td>\n",
       "                        <td id=\"T_845c0dd2_566f_11eb_bc59_0242ac1c0002row20_col2\" class=\"data row20 col2\" >0</td>\n",
       "                        <td id=\"T_845c0dd2_566f_11eb_bc59_0242ac1c0002row20_col3\" class=\"data row20 col3\" >0</td>\n",
       "                        <td id=\"T_845c0dd2_566f_11eb_bc59_0242ac1c0002row20_col4\" class=\"data row20 col4\" >0</td>\n",
       "                        <td id=\"T_845c0dd2_566f_11eb_bc59_0242ac1c0002row20_col5\" class=\"data row20 col5\" >0</td>\n",
       "                        <td id=\"T_845c0dd2_566f_11eb_bc59_0242ac1c0002row20_col6\" class=\"data row20 col6\" >9</td>\n",
       "                        <td id=\"T_845c0dd2_566f_11eb_bc59_0242ac1c0002row20_col7\" class=\"data row20 col7\" >204</td>\n",
       "                        <td id=\"T_845c0dd2_566f_11eb_bc59_0242ac1c0002row20_col8\" class=\"data row20 col8\" >253</td>\n",
       "                        <td id=\"T_845c0dd2_566f_11eb_bc59_0242ac1c0002row20_col9\" class=\"data row20 col9\" >254</td>\n",
       "                        <td id=\"T_845c0dd2_566f_11eb_bc59_0242ac1c0002row20_col10\" class=\"data row20 col10\" >186</td>\n",
       "                        <td id=\"T_845c0dd2_566f_11eb_bc59_0242ac1c0002row20_col11\" class=\"data row20 col11\" >9</td>\n",
       "                        <td id=\"T_845c0dd2_566f_11eb_bc59_0242ac1c0002row20_col12\" class=\"data row20 col12\" >0</td>\n",
       "                        <td id=\"T_845c0dd2_566f_11eb_bc59_0242ac1c0002row20_col13\" class=\"data row20 col13\" >0</td>\n",
       "                        <td id=\"T_845c0dd2_566f_11eb_bc59_0242ac1c0002row20_col14\" class=\"data row20 col14\" >0</td>\n",
       "                        <td id=\"T_845c0dd2_566f_11eb_bc59_0242ac1c0002row20_col15\" class=\"data row20 col15\" >0</td>\n",
       "                        <td id=\"T_845c0dd2_566f_11eb_bc59_0242ac1c0002row20_col16\" class=\"data row20 col16\" >0</td>\n",
       "                        <td id=\"T_845c0dd2_566f_11eb_bc59_0242ac1c0002row20_col17\" class=\"data row20 col17\" >27</td>\n",
       "                        <td id=\"T_845c0dd2_566f_11eb_bc59_0242ac1c0002row20_col18\" class=\"data row20 col18\" >229</td>\n",
       "                        <td id=\"T_845c0dd2_566f_11eb_bc59_0242ac1c0002row20_col19\" class=\"data row20 col19\" >255</td>\n",
       "                        <td id=\"T_845c0dd2_566f_11eb_bc59_0242ac1c0002row20_col20\" class=\"data row20 col20\" >168</td>\n",
       "                        <td id=\"T_845c0dd2_566f_11eb_bc59_0242ac1c0002row20_col21\" class=\"data row20 col21\" >0</td>\n",
       "                        <td id=\"T_845c0dd2_566f_11eb_bc59_0242ac1c0002row20_col22\" class=\"data row20 col22\" >0</td>\n",
       "                        <td id=\"T_845c0dd2_566f_11eb_bc59_0242ac1c0002row20_col23\" class=\"data row20 col23\" >0</td>\n",
       "                        <td id=\"T_845c0dd2_566f_11eb_bc59_0242ac1c0002row20_col24\" class=\"data row20 col24\" >0</td>\n",
       "                        <td id=\"T_845c0dd2_566f_11eb_bc59_0242ac1c0002row20_col25\" class=\"data row20 col25\" >0</td>\n",
       "                        <td id=\"T_845c0dd2_566f_11eb_bc59_0242ac1c0002row20_col26\" class=\"data row20 col26\" >0</td>\n",
       "                        <td id=\"T_845c0dd2_566f_11eb_bc59_0242ac1c0002row20_col27\" class=\"data row20 col27\" >0</td>\n",
       "            </tr>\n",
       "            <tr>\n",
       "                        <th id=\"T_845c0dd2_566f_11eb_bc59_0242ac1c0002level0_row21\" class=\"row_heading level0 row21\" >21</th>\n",
       "                        <td id=\"T_845c0dd2_566f_11eb_bc59_0242ac1c0002row21_col0\" class=\"data row21 col0\" >0</td>\n",
       "                        <td id=\"T_845c0dd2_566f_11eb_bc59_0242ac1c0002row21_col1\" class=\"data row21 col1\" >0</td>\n",
       "                        <td id=\"T_845c0dd2_566f_11eb_bc59_0242ac1c0002row21_col2\" class=\"data row21 col2\" >0</td>\n",
       "                        <td id=\"T_845c0dd2_566f_11eb_bc59_0242ac1c0002row21_col3\" class=\"data row21 col3\" >0</td>\n",
       "                        <td id=\"T_845c0dd2_566f_11eb_bc59_0242ac1c0002row21_col4\" class=\"data row21 col4\" >0</td>\n",
       "                        <td id=\"T_845c0dd2_566f_11eb_bc59_0242ac1c0002row21_col5\" class=\"data row21 col5\" >0</td>\n",
       "                        <td id=\"T_845c0dd2_566f_11eb_bc59_0242ac1c0002row21_col6\" class=\"data row21 col6\" >0</td>\n",
       "                        <td id=\"T_845c0dd2_566f_11eb_bc59_0242ac1c0002row21_col7\" class=\"data row21 col7\" >69</td>\n",
       "                        <td id=\"T_845c0dd2_566f_11eb_bc59_0242ac1c0002row21_col8\" class=\"data row21 col8\" >168</td>\n",
       "                        <td id=\"T_845c0dd2_566f_11eb_bc59_0242ac1c0002row21_col9\" class=\"data row21 col9\" >168</td>\n",
       "                        <td id=\"T_845c0dd2_566f_11eb_bc59_0242ac1c0002row21_col10\" class=\"data row21 col10\" >42</td>\n",
       "                        <td id=\"T_845c0dd2_566f_11eb_bc59_0242ac1c0002row21_col11\" class=\"data row21 col11\" >0</td>\n",
       "                        <td id=\"T_845c0dd2_566f_11eb_bc59_0242ac1c0002row21_col12\" class=\"data row21 col12\" >0</td>\n",
       "                        <td id=\"T_845c0dd2_566f_11eb_bc59_0242ac1c0002row21_col13\" class=\"data row21 col13\" >0</td>\n",
       "                        <td id=\"T_845c0dd2_566f_11eb_bc59_0242ac1c0002row21_col14\" class=\"data row21 col14\" >0</td>\n",
       "                        <td id=\"T_845c0dd2_566f_11eb_bc59_0242ac1c0002row21_col15\" class=\"data row21 col15\" >0</td>\n",
       "                        <td id=\"T_845c0dd2_566f_11eb_bc59_0242ac1c0002row21_col16\" class=\"data row21 col16\" >0</td>\n",
       "                        <td id=\"T_845c0dd2_566f_11eb_bc59_0242ac1c0002row21_col17\" class=\"data row21 col17\" >0</td>\n",
       "                        <td id=\"T_845c0dd2_566f_11eb_bc59_0242ac1c0002row21_col18\" class=\"data row21 col18\" >176</td>\n",
       "                        <td id=\"T_845c0dd2_566f_11eb_bc59_0242ac1c0002row21_col19\" class=\"data row21 col19\" >253</td>\n",
       "                        <td id=\"T_845c0dd2_566f_11eb_bc59_0242ac1c0002row21_col20\" class=\"data row21 col20\" >168</td>\n",
       "                        <td id=\"T_845c0dd2_566f_11eb_bc59_0242ac1c0002row21_col21\" class=\"data row21 col21\" >0</td>\n",
       "                        <td id=\"T_845c0dd2_566f_11eb_bc59_0242ac1c0002row21_col22\" class=\"data row21 col22\" >0</td>\n",
       "                        <td id=\"T_845c0dd2_566f_11eb_bc59_0242ac1c0002row21_col23\" class=\"data row21 col23\" >0</td>\n",
       "                        <td id=\"T_845c0dd2_566f_11eb_bc59_0242ac1c0002row21_col24\" class=\"data row21 col24\" >0</td>\n",
       "                        <td id=\"T_845c0dd2_566f_11eb_bc59_0242ac1c0002row21_col25\" class=\"data row21 col25\" >0</td>\n",
       "                        <td id=\"T_845c0dd2_566f_11eb_bc59_0242ac1c0002row21_col26\" class=\"data row21 col26\" >0</td>\n",
       "                        <td id=\"T_845c0dd2_566f_11eb_bc59_0242ac1c0002row21_col27\" class=\"data row21 col27\" >0</td>\n",
       "            </tr>\n",
       "            <tr>\n",
       "                        <th id=\"T_845c0dd2_566f_11eb_bc59_0242ac1c0002level0_row22\" class=\"row_heading level0 row22\" >22</th>\n",
       "                        <td id=\"T_845c0dd2_566f_11eb_bc59_0242ac1c0002row22_col0\" class=\"data row22 col0\" >0</td>\n",
       "                        <td id=\"T_845c0dd2_566f_11eb_bc59_0242ac1c0002row22_col1\" class=\"data row22 col1\" >0</td>\n",
       "                        <td id=\"T_845c0dd2_566f_11eb_bc59_0242ac1c0002row22_col2\" class=\"data row22 col2\" >0</td>\n",
       "                        <td id=\"T_845c0dd2_566f_11eb_bc59_0242ac1c0002row22_col3\" class=\"data row22 col3\" >0</td>\n",
       "                        <td id=\"T_845c0dd2_566f_11eb_bc59_0242ac1c0002row22_col4\" class=\"data row22 col4\" >0</td>\n",
       "                        <td id=\"T_845c0dd2_566f_11eb_bc59_0242ac1c0002row22_col5\" class=\"data row22 col5\" >0</td>\n",
       "                        <td id=\"T_845c0dd2_566f_11eb_bc59_0242ac1c0002row22_col6\" class=\"data row22 col6\" >0</td>\n",
       "                        <td id=\"T_845c0dd2_566f_11eb_bc59_0242ac1c0002row22_col7\" class=\"data row22 col7\" >0</td>\n",
       "                        <td id=\"T_845c0dd2_566f_11eb_bc59_0242ac1c0002row22_col8\" class=\"data row22 col8\" >0</td>\n",
       "                        <td id=\"T_845c0dd2_566f_11eb_bc59_0242ac1c0002row22_col9\" class=\"data row22 col9\" >0</td>\n",
       "                        <td id=\"T_845c0dd2_566f_11eb_bc59_0242ac1c0002row22_col10\" class=\"data row22 col10\" >0</td>\n",
       "                        <td id=\"T_845c0dd2_566f_11eb_bc59_0242ac1c0002row22_col11\" class=\"data row22 col11\" >0</td>\n",
       "                        <td id=\"T_845c0dd2_566f_11eb_bc59_0242ac1c0002row22_col12\" class=\"data row22 col12\" >0</td>\n",
       "                        <td id=\"T_845c0dd2_566f_11eb_bc59_0242ac1c0002row22_col13\" class=\"data row22 col13\" >0</td>\n",
       "                        <td id=\"T_845c0dd2_566f_11eb_bc59_0242ac1c0002row22_col14\" class=\"data row22 col14\" >0</td>\n",
       "                        <td id=\"T_845c0dd2_566f_11eb_bc59_0242ac1c0002row22_col15\" class=\"data row22 col15\" >0</td>\n",
       "                        <td id=\"T_845c0dd2_566f_11eb_bc59_0242ac1c0002row22_col16\" class=\"data row22 col16\" >0</td>\n",
       "                        <td id=\"T_845c0dd2_566f_11eb_bc59_0242ac1c0002row22_col17\" class=\"data row22 col17\" >0</td>\n",
       "                        <td id=\"T_845c0dd2_566f_11eb_bc59_0242ac1c0002row22_col18\" class=\"data row22 col18\" >106</td>\n",
       "                        <td id=\"T_845c0dd2_566f_11eb_bc59_0242ac1c0002row22_col19\" class=\"data row22 col19\" >253</td>\n",
       "                        <td id=\"T_845c0dd2_566f_11eb_bc59_0242ac1c0002row22_col20\" class=\"data row22 col20\" >210</td>\n",
       "                        <td id=\"T_845c0dd2_566f_11eb_bc59_0242ac1c0002row22_col21\" class=\"data row22 col21\" >11</td>\n",
       "                        <td id=\"T_845c0dd2_566f_11eb_bc59_0242ac1c0002row22_col22\" class=\"data row22 col22\" >0</td>\n",
       "                        <td id=\"T_845c0dd2_566f_11eb_bc59_0242ac1c0002row22_col23\" class=\"data row22 col23\" >0</td>\n",
       "                        <td id=\"T_845c0dd2_566f_11eb_bc59_0242ac1c0002row22_col24\" class=\"data row22 col24\" >0</td>\n",
       "                        <td id=\"T_845c0dd2_566f_11eb_bc59_0242ac1c0002row22_col25\" class=\"data row22 col25\" >0</td>\n",
       "                        <td id=\"T_845c0dd2_566f_11eb_bc59_0242ac1c0002row22_col26\" class=\"data row22 col26\" >0</td>\n",
       "                        <td id=\"T_845c0dd2_566f_11eb_bc59_0242ac1c0002row22_col27\" class=\"data row22 col27\" >0</td>\n",
       "            </tr>\n",
       "            <tr>\n",
       "                        <th id=\"T_845c0dd2_566f_11eb_bc59_0242ac1c0002level0_row23\" class=\"row_heading level0 row23\" >23</th>\n",
       "                        <td id=\"T_845c0dd2_566f_11eb_bc59_0242ac1c0002row23_col0\" class=\"data row23 col0\" >0</td>\n",
       "                        <td id=\"T_845c0dd2_566f_11eb_bc59_0242ac1c0002row23_col1\" class=\"data row23 col1\" >0</td>\n",
       "                        <td id=\"T_845c0dd2_566f_11eb_bc59_0242ac1c0002row23_col2\" class=\"data row23 col2\" >0</td>\n",
       "                        <td id=\"T_845c0dd2_566f_11eb_bc59_0242ac1c0002row23_col3\" class=\"data row23 col3\" >0</td>\n",
       "                        <td id=\"T_845c0dd2_566f_11eb_bc59_0242ac1c0002row23_col4\" class=\"data row23 col4\" >0</td>\n",
       "                        <td id=\"T_845c0dd2_566f_11eb_bc59_0242ac1c0002row23_col5\" class=\"data row23 col5\" >0</td>\n",
       "                        <td id=\"T_845c0dd2_566f_11eb_bc59_0242ac1c0002row23_col6\" class=\"data row23 col6\" >0</td>\n",
       "                        <td id=\"T_845c0dd2_566f_11eb_bc59_0242ac1c0002row23_col7\" class=\"data row23 col7\" >0</td>\n",
       "                        <td id=\"T_845c0dd2_566f_11eb_bc59_0242ac1c0002row23_col8\" class=\"data row23 col8\" >0</td>\n",
       "                        <td id=\"T_845c0dd2_566f_11eb_bc59_0242ac1c0002row23_col9\" class=\"data row23 col9\" >0</td>\n",
       "                        <td id=\"T_845c0dd2_566f_11eb_bc59_0242ac1c0002row23_col10\" class=\"data row23 col10\" >0</td>\n",
       "                        <td id=\"T_845c0dd2_566f_11eb_bc59_0242ac1c0002row23_col11\" class=\"data row23 col11\" >0</td>\n",
       "                        <td id=\"T_845c0dd2_566f_11eb_bc59_0242ac1c0002row23_col12\" class=\"data row23 col12\" >0</td>\n",
       "                        <td id=\"T_845c0dd2_566f_11eb_bc59_0242ac1c0002row23_col13\" class=\"data row23 col13\" >0</td>\n",
       "                        <td id=\"T_845c0dd2_566f_11eb_bc59_0242ac1c0002row23_col14\" class=\"data row23 col14\" >0</td>\n",
       "                        <td id=\"T_845c0dd2_566f_11eb_bc59_0242ac1c0002row23_col15\" class=\"data row23 col15\" >0</td>\n",
       "                        <td id=\"T_845c0dd2_566f_11eb_bc59_0242ac1c0002row23_col16\" class=\"data row23 col16\" >0</td>\n",
       "                        <td id=\"T_845c0dd2_566f_11eb_bc59_0242ac1c0002row23_col17\" class=\"data row23 col17\" >0</td>\n",
       "                        <td id=\"T_845c0dd2_566f_11eb_bc59_0242ac1c0002row23_col18\" class=\"data row23 col18\" >35</td>\n",
       "                        <td id=\"T_845c0dd2_566f_11eb_bc59_0242ac1c0002row23_col19\" class=\"data row23 col19\" >253</td>\n",
       "                        <td id=\"T_845c0dd2_566f_11eb_bc59_0242ac1c0002row23_col20\" class=\"data row23 col20\" >252</td>\n",
       "                        <td id=\"T_845c0dd2_566f_11eb_bc59_0242ac1c0002row23_col21\" class=\"data row23 col21\" >21</td>\n",
       "                        <td id=\"T_845c0dd2_566f_11eb_bc59_0242ac1c0002row23_col22\" class=\"data row23 col22\" >0</td>\n",
       "                        <td id=\"T_845c0dd2_566f_11eb_bc59_0242ac1c0002row23_col23\" class=\"data row23 col23\" >0</td>\n",
       "                        <td id=\"T_845c0dd2_566f_11eb_bc59_0242ac1c0002row23_col24\" class=\"data row23 col24\" >0</td>\n",
       "                        <td id=\"T_845c0dd2_566f_11eb_bc59_0242ac1c0002row23_col25\" class=\"data row23 col25\" >0</td>\n",
       "                        <td id=\"T_845c0dd2_566f_11eb_bc59_0242ac1c0002row23_col26\" class=\"data row23 col26\" >0</td>\n",
       "                        <td id=\"T_845c0dd2_566f_11eb_bc59_0242ac1c0002row23_col27\" class=\"data row23 col27\" >0</td>\n",
       "            </tr>\n",
       "            <tr>\n",
       "                        <th id=\"T_845c0dd2_566f_11eb_bc59_0242ac1c0002level0_row24\" class=\"row_heading level0 row24\" >24</th>\n",
       "                        <td id=\"T_845c0dd2_566f_11eb_bc59_0242ac1c0002row24_col0\" class=\"data row24 col0\" >0</td>\n",
       "                        <td id=\"T_845c0dd2_566f_11eb_bc59_0242ac1c0002row24_col1\" class=\"data row24 col1\" >0</td>\n",
       "                        <td id=\"T_845c0dd2_566f_11eb_bc59_0242ac1c0002row24_col2\" class=\"data row24 col2\" >0</td>\n",
       "                        <td id=\"T_845c0dd2_566f_11eb_bc59_0242ac1c0002row24_col3\" class=\"data row24 col3\" >0</td>\n",
       "                        <td id=\"T_845c0dd2_566f_11eb_bc59_0242ac1c0002row24_col4\" class=\"data row24 col4\" >0</td>\n",
       "                        <td id=\"T_845c0dd2_566f_11eb_bc59_0242ac1c0002row24_col5\" class=\"data row24 col5\" >0</td>\n",
       "                        <td id=\"T_845c0dd2_566f_11eb_bc59_0242ac1c0002row24_col6\" class=\"data row24 col6\" >0</td>\n",
       "                        <td id=\"T_845c0dd2_566f_11eb_bc59_0242ac1c0002row24_col7\" class=\"data row24 col7\" >0</td>\n",
       "                        <td id=\"T_845c0dd2_566f_11eb_bc59_0242ac1c0002row24_col8\" class=\"data row24 col8\" >0</td>\n",
       "                        <td id=\"T_845c0dd2_566f_11eb_bc59_0242ac1c0002row24_col9\" class=\"data row24 col9\" >0</td>\n",
       "                        <td id=\"T_845c0dd2_566f_11eb_bc59_0242ac1c0002row24_col10\" class=\"data row24 col10\" >0</td>\n",
       "                        <td id=\"T_845c0dd2_566f_11eb_bc59_0242ac1c0002row24_col11\" class=\"data row24 col11\" >0</td>\n",
       "                        <td id=\"T_845c0dd2_566f_11eb_bc59_0242ac1c0002row24_col12\" class=\"data row24 col12\" >0</td>\n",
       "                        <td id=\"T_845c0dd2_566f_11eb_bc59_0242ac1c0002row24_col13\" class=\"data row24 col13\" >0</td>\n",
       "                        <td id=\"T_845c0dd2_566f_11eb_bc59_0242ac1c0002row24_col14\" class=\"data row24 col14\" >0</td>\n",
       "                        <td id=\"T_845c0dd2_566f_11eb_bc59_0242ac1c0002row24_col15\" class=\"data row24 col15\" >0</td>\n",
       "                        <td id=\"T_845c0dd2_566f_11eb_bc59_0242ac1c0002row24_col16\" class=\"data row24 col16\" >0</td>\n",
       "                        <td id=\"T_845c0dd2_566f_11eb_bc59_0242ac1c0002row24_col17\" class=\"data row24 col17\" >0</td>\n",
       "                        <td id=\"T_845c0dd2_566f_11eb_bc59_0242ac1c0002row24_col18\" class=\"data row24 col18\" >0</td>\n",
       "                        <td id=\"T_845c0dd2_566f_11eb_bc59_0242ac1c0002row24_col19\" class=\"data row24 col19\" >122</td>\n",
       "                        <td id=\"T_845c0dd2_566f_11eb_bc59_0242ac1c0002row24_col20\" class=\"data row24 col20\" >252</td>\n",
       "                        <td id=\"T_845c0dd2_566f_11eb_bc59_0242ac1c0002row24_col21\" class=\"data row24 col21\" >21</td>\n",
       "                        <td id=\"T_845c0dd2_566f_11eb_bc59_0242ac1c0002row24_col22\" class=\"data row24 col22\" >0</td>\n",
       "                        <td id=\"T_845c0dd2_566f_11eb_bc59_0242ac1c0002row24_col23\" class=\"data row24 col23\" >0</td>\n",
       "                        <td id=\"T_845c0dd2_566f_11eb_bc59_0242ac1c0002row24_col24\" class=\"data row24 col24\" >0</td>\n",
       "                        <td id=\"T_845c0dd2_566f_11eb_bc59_0242ac1c0002row24_col25\" class=\"data row24 col25\" >0</td>\n",
       "                        <td id=\"T_845c0dd2_566f_11eb_bc59_0242ac1c0002row24_col26\" class=\"data row24 col26\" >0</td>\n",
       "                        <td id=\"T_845c0dd2_566f_11eb_bc59_0242ac1c0002row24_col27\" class=\"data row24 col27\" >0</td>\n",
       "            </tr>\n",
       "            <tr>\n",
       "                        <th id=\"T_845c0dd2_566f_11eb_bc59_0242ac1c0002level0_row25\" class=\"row_heading level0 row25\" >25</th>\n",
       "                        <td id=\"T_845c0dd2_566f_11eb_bc59_0242ac1c0002row25_col0\" class=\"data row25 col0\" >0</td>\n",
       "                        <td id=\"T_845c0dd2_566f_11eb_bc59_0242ac1c0002row25_col1\" class=\"data row25 col1\" >0</td>\n",
       "                        <td id=\"T_845c0dd2_566f_11eb_bc59_0242ac1c0002row25_col2\" class=\"data row25 col2\" >0</td>\n",
       "                        <td id=\"T_845c0dd2_566f_11eb_bc59_0242ac1c0002row25_col3\" class=\"data row25 col3\" >0</td>\n",
       "                        <td id=\"T_845c0dd2_566f_11eb_bc59_0242ac1c0002row25_col4\" class=\"data row25 col4\" >0</td>\n",
       "                        <td id=\"T_845c0dd2_566f_11eb_bc59_0242ac1c0002row25_col5\" class=\"data row25 col5\" >0</td>\n",
       "                        <td id=\"T_845c0dd2_566f_11eb_bc59_0242ac1c0002row25_col6\" class=\"data row25 col6\" >0</td>\n",
       "                        <td id=\"T_845c0dd2_566f_11eb_bc59_0242ac1c0002row25_col7\" class=\"data row25 col7\" >0</td>\n",
       "                        <td id=\"T_845c0dd2_566f_11eb_bc59_0242ac1c0002row25_col8\" class=\"data row25 col8\" >0</td>\n",
       "                        <td id=\"T_845c0dd2_566f_11eb_bc59_0242ac1c0002row25_col9\" class=\"data row25 col9\" >0</td>\n",
       "                        <td id=\"T_845c0dd2_566f_11eb_bc59_0242ac1c0002row25_col10\" class=\"data row25 col10\" >0</td>\n",
       "                        <td id=\"T_845c0dd2_566f_11eb_bc59_0242ac1c0002row25_col11\" class=\"data row25 col11\" >0</td>\n",
       "                        <td id=\"T_845c0dd2_566f_11eb_bc59_0242ac1c0002row25_col12\" class=\"data row25 col12\" >0</td>\n",
       "                        <td id=\"T_845c0dd2_566f_11eb_bc59_0242ac1c0002row25_col13\" class=\"data row25 col13\" >0</td>\n",
       "                        <td id=\"T_845c0dd2_566f_11eb_bc59_0242ac1c0002row25_col14\" class=\"data row25 col14\" >0</td>\n",
       "                        <td id=\"T_845c0dd2_566f_11eb_bc59_0242ac1c0002row25_col15\" class=\"data row25 col15\" >0</td>\n",
       "                        <td id=\"T_845c0dd2_566f_11eb_bc59_0242ac1c0002row25_col16\" class=\"data row25 col16\" >0</td>\n",
       "                        <td id=\"T_845c0dd2_566f_11eb_bc59_0242ac1c0002row25_col17\" class=\"data row25 col17\" >0</td>\n",
       "                        <td id=\"T_845c0dd2_566f_11eb_bc59_0242ac1c0002row25_col18\" class=\"data row25 col18\" >0</td>\n",
       "                        <td id=\"T_845c0dd2_566f_11eb_bc59_0242ac1c0002row25_col19\" class=\"data row25 col19\" >0</td>\n",
       "                        <td id=\"T_845c0dd2_566f_11eb_bc59_0242ac1c0002row25_col20\" class=\"data row25 col20\" >0</td>\n",
       "                        <td id=\"T_845c0dd2_566f_11eb_bc59_0242ac1c0002row25_col21\" class=\"data row25 col21\" >0</td>\n",
       "                        <td id=\"T_845c0dd2_566f_11eb_bc59_0242ac1c0002row25_col22\" class=\"data row25 col22\" >0</td>\n",
       "                        <td id=\"T_845c0dd2_566f_11eb_bc59_0242ac1c0002row25_col23\" class=\"data row25 col23\" >0</td>\n",
       "                        <td id=\"T_845c0dd2_566f_11eb_bc59_0242ac1c0002row25_col24\" class=\"data row25 col24\" >0</td>\n",
       "                        <td id=\"T_845c0dd2_566f_11eb_bc59_0242ac1c0002row25_col25\" class=\"data row25 col25\" >0</td>\n",
       "                        <td id=\"T_845c0dd2_566f_11eb_bc59_0242ac1c0002row25_col26\" class=\"data row25 col26\" >0</td>\n",
       "                        <td id=\"T_845c0dd2_566f_11eb_bc59_0242ac1c0002row25_col27\" class=\"data row25 col27\" >0</td>\n",
       "            </tr>\n",
       "            <tr>\n",
       "                        <th id=\"T_845c0dd2_566f_11eb_bc59_0242ac1c0002level0_row26\" class=\"row_heading level0 row26\" >26</th>\n",
       "                        <td id=\"T_845c0dd2_566f_11eb_bc59_0242ac1c0002row26_col0\" class=\"data row26 col0\" >0</td>\n",
       "                        <td id=\"T_845c0dd2_566f_11eb_bc59_0242ac1c0002row26_col1\" class=\"data row26 col1\" >0</td>\n",
       "                        <td id=\"T_845c0dd2_566f_11eb_bc59_0242ac1c0002row26_col2\" class=\"data row26 col2\" >0</td>\n",
       "                        <td id=\"T_845c0dd2_566f_11eb_bc59_0242ac1c0002row26_col3\" class=\"data row26 col3\" >0</td>\n",
       "                        <td id=\"T_845c0dd2_566f_11eb_bc59_0242ac1c0002row26_col4\" class=\"data row26 col4\" >0</td>\n",
       "                        <td id=\"T_845c0dd2_566f_11eb_bc59_0242ac1c0002row26_col5\" class=\"data row26 col5\" >0</td>\n",
       "                        <td id=\"T_845c0dd2_566f_11eb_bc59_0242ac1c0002row26_col6\" class=\"data row26 col6\" >0</td>\n",
       "                        <td id=\"T_845c0dd2_566f_11eb_bc59_0242ac1c0002row26_col7\" class=\"data row26 col7\" >0</td>\n",
       "                        <td id=\"T_845c0dd2_566f_11eb_bc59_0242ac1c0002row26_col8\" class=\"data row26 col8\" >0</td>\n",
       "                        <td id=\"T_845c0dd2_566f_11eb_bc59_0242ac1c0002row26_col9\" class=\"data row26 col9\" >0</td>\n",
       "                        <td id=\"T_845c0dd2_566f_11eb_bc59_0242ac1c0002row26_col10\" class=\"data row26 col10\" >0</td>\n",
       "                        <td id=\"T_845c0dd2_566f_11eb_bc59_0242ac1c0002row26_col11\" class=\"data row26 col11\" >0</td>\n",
       "                        <td id=\"T_845c0dd2_566f_11eb_bc59_0242ac1c0002row26_col12\" class=\"data row26 col12\" >0</td>\n",
       "                        <td id=\"T_845c0dd2_566f_11eb_bc59_0242ac1c0002row26_col13\" class=\"data row26 col13\" >0</td>\n",
       "                        <td id=\"T_845c0dd2_566f_11eb_bc59_0242ac1c0002row26_col14\" class=\"data row26 col14\" >0</td>\n",
       "                        <td id=\"T_845c0dd2_566f_11eb_bc59_0242ac1c0002row26_col15\" class=\"data row26 col15\" >0</td>\n",
       "                        <td id=\"T_845c0dd2_566f_11eb_bc59_0242ac1c0002row26_col16\" class=\"data row26 col16\" >0</td>\n",
       "                        <td id=\"T_845c0dd2_566f_11eb_bc59_0242ac1c0002row26_col17\" class=\"data row26 col17\" >0</td>\n",
       "                        <td id=\"T_845c0dd2_566f_11eb_bc59_0242ac1c0002row26_col18\" class=\"data row26 col18\" >0</td>\n",
       "                        <td id=\"T_845c0dd2_566f_11eb_bc59_0242ac1c0002row26_col19\" class=\"data row26 col19\" >0</td>\n",
       "                        <td id=\"T_845c0dd2_566f_11eb_bc59_0242ac1c0002row26_col20\" class=\"data row26 col20\" >0</td>\n",
       "                        <td id=\"T_845c0dd2_566f_11eb_bc59_0242ac1c0002row26_col21\" class=\"data row26 col21\" >0</td>\n",
       "                        <td id=\"T_845c0dd2_566f_11eb_bc59_0242ac1c0002row26_col22\" class=\"data row26 col22\" >0</td>\n",
       "                        <td id=\"T_845c0dd2_566f_11eb_bc59_0242ac1c0002row26_col23\" class=\"data row26 col23\" >0</td>\n",
       "                        <td id=\"T_845c0dd2_566f_11eb_bc59_0242ac1c0002row26_col24\" class=\"data row26 col24\" >0</td>\n",
       "                        <td id=\"T_845c0dd2_566f_11eb_bc59_0242ac1c0002row26_col25\" class=\"data row26 col25\" >0</td>\n",
       "                        <td id=\"T_845c0dd2_566f_11eb_bc59_0242ac1c0002row26_col26\" class=\"data row26 col26\" >0</td>\n",
       "                        <td id=\"T_845c0dd2_566f_11eb_bc59_0242ac1c0002row26_col27\" class=\"data row26 col27\" >0</td>\n",
       "            </tr>\n",
       "            <tr>\n",
       "                        <th id=\"T_845c0dd2_566f_11eb_bc59_0242ac1c0002level0_row27\" class=\"row_heading level0 row27\" >27</th>\n",
       "                        <td id=\"T_845c0dd2_566f_11eb_bc59_0242ac1c0002row27_col0\" class=\"data row27 col0\" >0</td>\n",
       "                        <td id=\"T_845c0dd2_566f_11eb_bc59_0242ac1c0002row27_col1\" class=\"data row27 col1\" >0</td>\n",
       "                        <td id=\"T_845c0dd2_566f_11eb_bc59_0242ac1c0002row27_col2\" class=\"data row27 col2\" >0</td>\n",
       "                        <td id=\"T_845c0dd2_566f_11eb_bc59_0242ac1c0002row27_col3\" class=\"data row27 col3\" >0</td>\n",
       "                        <td id=\"T_845c0dd2_566f_11eb_bc59_0242ac1c0002row27_col4\" class=\"data row27 col4\" >0</td>\n",
       "                        <td id=\"T_845c0dd2_566f_11eb_bc59_0242ac1c0002row27_col5\" class=\"data row27 col5\" >0</td>\n",
       "                        <td id=\"T_845c0dd2_566f_11eb_bc59_0242ac1c0002row27_col6\" class=\"data row27 col6\" >0</td>\n",
       "                        <td id=\"T_845c0dd2_566f_11eb_bc59_0242ac1c0002row27_col7\" class=\"data row27 col7\" >0</td>\n",
       "                        <td id=\"T_845c0dd2_566f_11eb_bc59_0242ac1c0002row27_col8\" class=\"data row27 col8\" >0</td>\n",
       "                        <td id=\"T_845c0dd2_566f_11eb_bc59_0242ac1c0002row27_col9\" class=\"data row27 col9\" >0</td>\n",
       "                        <td id=\"T_845c0dd2_566f_11eb_bc59_0242ac1c0002row27_col10\" class=\"data row27 col10\" >0</td>\n",
       "                        <td id=\"T_845c0dd2_566f_11eb_bc59_0242ac1c0002row27_col11\" class=\"data row27 col11\" >0</td>\n",
       "                        <td id=\"T_845c0dd2_566f_11eb_bc59_0242ac1c0002row27_col12\" class=\"data row27 col12\" >0</td>\n",
       "                        <td id=\"T_845c0dd2_566f_11eb_bc59_0242ac1c0002row27_col13\" class=\"data row27 col13\" >0</td>\n",
       "                        <td id=\"T_845c0dd2_566f_11eb_bc59_0242ac1c0002row27_col14\" class=\"data row27 col14\" >0</td>\n",
       "                        <td id=\"T_845c0dd2_566f_11eb_bc59_0242ac1c0002row27_col15\" class=\"data row27 col15\" >0</td>\n",
       "                        <td id=\"T_845c0dd2_566f_11eb_bc59_0242ac1c0002row27_col16\" class=\"data row27 col16\" >0</td>\n",
       "                        <td id=\"T_845c0dd2_566f_11eb_bc59_0242ac1c0002row27_col17\" class=\"data row27 col17\" >0</td>\n",
       "                        <td id=\"T_845c0dd2_566f_11eb_bc59_0242ac1c0002row27_col18\" class=\"data row27 col18\" >0</td>\n",
       "                        <td id=\"T_845c0dd2_566f_11eb_bc59_0242ac1c0002row27_col19\" class=\"data row27 col19\" >0</td>\n",
       "                        <td id=\"T_845c0dd2_566f_11eb_bc59_0242ac1c0002row27_col20\" class=\"data row27 col20\" >0</td>\n",
       "                        <td id=\"T_845c0dd2_566f_11eb_bc59_0242ac1c0002row27_col21\" class=\"data row27 col21\" >0</td>\n",
       "                        <td id=\"T_845c0dd2_566f_11eb_bc59_0242ac1c0002row27_col22\" class=\"data row27 col22\" >0</td>\n",
       "                        <td id=\"T_845c0dd2_566f_11eb_bc59_0242ac1c0002row27_col23\" class=\"data row27 col23\" >0</td>\n",
       "                        <td id=\"T_845c0dd2_566f_11eb_bc59_0242ac1c0002row27_col24\" class=\"data row27 col24\" >0</td>\n",
       "                        <td id=\"T_845c0dd2_566f_11eb_bc59_0242ac1c0002row27_col25\" class=\"data row27 col25\" >0</td>\n",
       "                        <td id=\"T_845c0dd2_566f_11eb_bc59_0242ac1c0002row27_col26\" class=\"data row27 col26\" >0</td>\n",
       "                        <td id=\"T_845c0dd2_566f_11eb_bc59_0242ac1c0002row27_col27\" class=\"data row27 col27\" >0</td>\n",
       "            </tr>\n",
       "    </tbody></table>"
      ],
      "text/plain": [
       "<pandas.io.formats.style.Styler at 0x7f6480275438>"
      ]
     },
     "metadata": {
      "tags": []
     },
     "execution_count": 8
    }
   ]
  },
  {
   "cell_type": "markdown",
   "metadata": {
    "id": "DOGZs9C306jM"
   },
   "source": [
    "Now we are collecting the paths to image folders into a dictionary."
   ]
  },
  {
   "cell_type": "code",
   "metadata": {
    "colab": {
     "base_uri": "https://localhost:8080/"
    },
    "id": "BAfZcQk_AMHu",
    "outputId": "a2e7162a-9e47-477c-c1ee-c3bea6fecf7b"
   },
   "source": [
    "path_len = len((path/'training').ls())\n",
    "paths = {i: [fn for fn in (path/f'training/{i}').ls()] for i in range(path_len)}\n",
    "paths[0][:5]"
   ],
   "execution_count": 9,
   "outputs": [
    {
     "output_type": "execute_result",
     "data": {
      "text/plain": [
       "[Path('/root/.fastai/data/mnist_png/training/0/22013.png'),\n",
       " Path('/root/.fastai/data/mnist_png/training/0/59934.png'),\n",
       " Path('/root/.fastai/data/mnist_png/training/0/55484.png'),\n",
       " Path('/root/.fastai/data/mnist_png/training/0/37043.png'),\n",
       " Path('/root/.fastai/data/mnist_png/training/0/9820.png')]"
      ]
     },
     "metadata": {
      "tags": []
     },
     "execution_count": 9
    }
   ]
  },
  {
   "cell_type": "markdown",
   "metadata": {
    "id": "3wxkXeLv1JSU"
   },
   "source": [
    "Converting images to tensors."
   ]
  },
  {
   "cell_type": "code",
   "metadata": {
    "id": "c4Xnl5To5-cD"
   },
   "source": [
    "img_tensors = {key: [tensor(Image.open(path)) for path in paths] for (key, paths) in paths.items()}"
   ],
   "execution_count": 10,
   "outputs": []
  },
  {
   "cell_type": "markdown",
   "metadata": {
    "id": "XKnI1FWW1WJK"
   },
   "source": [
    "Stacking tensors one on each other to get mean representation of what machine thinks is \"a mean number\", so we could later compair single digit to the mean of that digit. "
   ]
  },
  {
   "cell_type": "code",
   "metadata": {
    "id": "rKsHL2jbCeMD"
   },
   "source": [
    "stacked_tensors = {key: torch.stack(imgs).float() / 255 \n",
    "                   for (key, imgs) in img_tensors.items()}"
   ],
   "execution_count": 11,
   "outputs": []
  },
  {
   "cell_type": "code",
   "metadata": {
    "colab": {
     "base_uri": "https://localhost:8080/"
    },
    "id": "JuKSF3mRC0xj",
    "outputId": "6879b0dd-391a-4161-ebe4-52b9e7b89b36"
   },
   "source": [
    "for _ , values in stacked_tensors.items():\n",
    "  print(values.shape)"
   ],
   "execution_count": 12,
   "outputs": [
    {
     "output_type": "stream",
     "text": [
      "torch.Size([5923, 28, 28])\n",
      "torch.Size([6742, 28, 28])\n",
      "torch.Size([5958, 28, 28])\n",
      "torch.Size([6131, 28, 28])\n",
      "torch.Size([5842, 28, 28])\n",
      "torch.Size([5421, 28, 28])\n",
      "torch.Size([5918, 28, 28])\n",
      "torch.Size([6265, 28, 28])\n",
      "torch.Size([5851, 28, 28])\n",
      "torch.Size([5949, 28, 28])\n"
     ],
     "name": "stdout"
    }
   ]
  },
  {
   "cell_type": "code",
   "metadata": {
    "id": "UoXU2gU-EvOK"
   },
   "source": [
    "mean_tensors = {key: imgs.mean(0) for (key, imgs) in stacked_tensors.items()}"
   ],
   "execution_count": 13,
   "outputs": []
  },
  {
   "cell_type": "code",
   "metadata": {
    "colab": {
     "base_uri": "https://localhost:8080/",
     "height": 94
    },
    "id": "TUcZ6cbsGDuS",
    "outputId": "f9ae5a6b-0fb2-43cc-f23f-28e6ea4a839b"
   },
   "source": [
    "show_images(mean_tensors.values())"
   ],
   "execution_count": 14,
   "outputs": [
    {
     "output_type": "display_data",
     "data": {
      "image/png": "[encoded data removed]",
      "text/plain": [
       "<Figure size 2160x216 with 10 Axes>"
      ]
     },
     "metadata": {
      "tags": [],
      "needs_background": "light"
     }
    }
   ]
  },
  {
   "cell_type": "markdown",
   "metadata": {
    "id": "ox7Ee2JG2MsG"
   },
   "source": [
    "Let's grab a single digit from stacked tensors and try to calculate the distance between it and other digits. For that we are writing function 'distance' and 'is_3'\n",
    "\n",
    "Function 'distance' calculates [MAE](https://en.wikipedia.org/wiki/Mean_absolute_error). I encourage you to read more on the topic of [MAE & RMSE](https://medium.com/human-in-a-machine-world/mae-and-rmse-which-metric-is-better-e60ac3bde13d).\n",
    "\n",
    "Then we compare our number a_3 to any other mean digit and produce the result if it is the number we are looking for."
   ]
  },
  {
   "cell_type": "code",
   "metadata": {
    "colab": {
     "base_uri": "https://localhost:8080/",
     "height": 103
    },
    "id": "6sd-21lWGGV2",
    "outputId": "331b3e09-bb26-4280-ea25-fa98174ee5f7"
   },
   "source": [
    "a_3 = stacked_tensors[3][2]\n",
    "show_image(a_3)"
   ],
   "execution_count": 15,
   "outputs": [
    {
     "output_type": "execute_result",
     "data": {
      "text/plain": [
       "<matplotlib.axes._subplots.AxesSubplot at 0x7f647c2f1ef0>"
      ]
     },
     "metadata": {
      "tags": []
     },
     "execution_count": 15
    },
    {
     "output_type": "display_data",
     "data": {
      "image/png": "[encoded data removed]",
      "text/plain": [
       "<Figure size 72x72 with 1 Axes>"
      ]
     },
     "metadata": {
      "tags": [],
      "needs_background": "light"
     }
    }
   ]
  },
  {
   "cell_type": "code",
   "metadata": {
    "colab": {
     "base_uri": "https://localhost:8080/"
    },
    "id": "PWp12Gz8ZE-f",
    "outputId": "e727d262-8767-4237-c0cc-16e8b3c24def"
   },
   "source": [
    "def distance(a, b): return (a - b).abs().mean((-1, -2))\n",
    "distance(a_3, mean_tensors[3])"
   ],
   "execution_count": 16,
   "outputs": [
    {
     "output_type": "execute_result",
     "data": {
      "text/plain": [
       "tensor(0.1192)"
      ]
     },
     "metadata": {
      "tags": []
     },
     "execution_count": 16
    }
   ]
  },
  {
   "cell_type": "code",
   "metadata": {
    "id": "LTZ52q_liHS4"
   },
   "source": [
    "def is_3(x): return distance(x,mean_tensors[3]) < distance(x,mean_tensors[4])"
   ],
   "execution_count": 17,
   "outputs": []
  },
  {
   "cell_type": "code",
   "metadata": {
    "colab": {
     "base_uri": "https://localhost:8080/"
    },
    "id": "0oKsWTvElcsQ",
    "outputId": "f2d0c677-11d6-48b7-afdf-d48262004691"
   },
   "source": [
    "is_3(a_3)"
   ],
   "execution_count": 18,
   "outputs": [
    {
     "output_type": "execute_result",
     "data": {
      "text/plain": [
       "tensor(True)"
      ]
     },
     "metadata": {
      "tags": []
     },
     "execution_count": 18
    }
   ]
  },
  {
   "cell_type": "markdown",
   "metadata": {
    "id": "42wT-ftm8e2Z"
   },
   "source": [
    "Now we need to prepare data. We are splitting dataset into train/test, labeling targets and putting datasets into [DataLoader](https://docs.fast.ai/data.load.html). "
   ]
  },
  {
   "cell_type": "code",
   "metadata": {
    "id": "adfjE3UYoX58"
   },
   "source": [
    "def create_labels(rows, cols, index):\n",
    "    labels = torch.zeros((rows, cols))\n",
    "    labels[:, index] = 1\n",
    "    return labels"
   ],
   "execution_count": 19,
   "outputs": []
  },
  {
   "cell_type": "code",
   "metadata": {
    "id": "P4Ic34melt5A"
   },
   "source": [
    "test_paths = {i: [p for p in (path/f'testing/{i}').ls()] for i in range(path_len)}\n",
    "test_stacked_tensors = {key: torch.stack([tensor(Image.open(path)) for path in paths]).float()/255 \n",
    "                         for (key, paths) in test_paths.items()}\n",
    "\n",
    "test_stacked_labels = {key: create_labels(tensors.shape[0], len(test_stacked_tensors), key)\n",
    "                        for key, tensors in test_stacked_tensors.items()}\n",
    "\n",
    "test_x = torch.cat([o for o in test_stacked_tensors.values()]).view(-1, 28*28)\n",
    "test_y = torch.cat([o for o in test_stacked_labels.values()])"
   ],
   "execution_count": 20,
   "outputs": []
  },
  {
   "cell_type": "code",
   "metadata": {
    "id": "irMjE_IGmmKJ"
   },
   "source": [
    "train_x = torch.cat([o for o in stacked_tensors.values()]).view(-1, 28*28)\n",
    "train_y = torch.cat([o for o in test_stacked_labels.values()])"
   ],
   "execution_count": 21,
   "outputs": []
  },
  {
   "cell_type": "code",
   "metadata": {
    "id": "ssbTSfGNm51_"
   },
   "source": [
    "train_dataset = list(zip(train_x, train_y))\n",
    "train_dl = DataLoader(train_dataset, batch_size=64, shuffle=True)\n",
    "\n",
    "test_dataset = list(zip(test_x, test_y))\n",
    "test_dl = DataLoader(test_dataset, batch_size=64)"
   ],
   "execution_count": 22,
   "outputs": []
  },
  {
   "cell_type": "markdown",
   "metadata": {
    "id": "P09eR3Ka9TSQ"
   },
   "source": [
    "Defining our loss function that measures the distance between predictions and targets. We are using here the sigmoid function as it always outputs a number between 0 and 1, and we don't want it to be below 0."
   ]
  },
  {
   "cell_type": "code",
   "metadata": {
    "id": "EzlwbALRtEkf"
   },
   "source": [
    "def mnist_loss(xb, yb):\n",
    "    xb = xb.sigmoid()\n",
    "    return torch.where(yb==1, 1-xb, xb).mean()"
   ],
   "execution_count": 23,
   "outputs": []
  },
  {
   "cell_type": "markdown",
   "metadata": {
    "id": "sdu2jNjO_xGm"
   },
   "source": [
    "Time to define basic steps for our model.\n",
    "\n",
    "For more details please visit [chapter 4](https://github.com/fastai/fastbook/blob/master/04_mnist_basics.ipynb)\n",
    "of the 'Deep learning for Coders with fastai and PyTorch' book."
   ]
  },
  {
   "cell_type": "code",
   "metadata": {
    "id": "8G_qiNyAsooj"
   },
   "source": [
    "def init_params(size, std=1.0): return (torch.randn(size)*std).requires_grad_()"
   ],
   "execution_count": 24,
   "outputs": []
  },
  {
   "cell_type": "code",
   "metadata": {
    "id": "v5t-bMjlsrY9"
   },
   "source": [
    "weights = init_params((28*28,10))\n",
    "bias = init_params(1)"
   ],
   "execution_count": 25,
   "outputs": []
  },
  {
   "cell_type": "code",
   "metadata": {
    "id": "dKlCzGQDs97P"
   },
   "source": [
    "def linear1(xb): return xb@weights + bias"
   ],
   "execution_count": 26,
   "outputs": []
  },
  {
   "cell_type": "code",
   "metadata": {
    "id": "lF9CdVRluMQO"
   },
   "source": [
    "def calc_grad(xb, yb, model):\n",
    "    preds = model(xb)\n",
    "    loss = mnist_loss(preds, yb)\n",
    "    loss.backward()"
   ],
   "execution_count": 27,
   "outputs": []
  },
  {
   "cell_type": "code",
   "metadata": {
    "id": "XOO8Lp1VuS2F"
   },
   "source": [
    "def train_epoch(model, lr, params):\n",
    "    for xb,yb in train_dl:\n",
    "        calc_grad(xb, yb, model)\n",
    "        for p in params:\n",
    "            p.data -= p.grad*lr\n",
    "            p.grad.zero_()"
   ],
   "execution_count": 28,
   "outputs": []
  },
  {
   "cell_type": "code",
   "metadata": {
    "id": "salIoF7LuUmU"
   },
   "source": [
    "def cal_accuracy(xb, yb):\n",
    "    preds = xb.sigmoid()\n",
    "    correct = (preds>0.5) == yb\n",
    "    return correct.float().mean()"
   ],
   "execution_count": 29,
   "outputs": []
  },
  {
   "cell_type": "code",
   "metadata": {
    "id": "D7sAdBjBua6o"
   },
   "source": [
    "def validate_epoch(model):\n",
    "    accs = [cal_accuracy(model(xb), yb) for xb,yb in test_dl]\n",
    "    return round(torch.stack(accs).mean().item(), 4)"
   ],
   "execution_count": 30,
   "outputs": []
  },
  {
   "cell_type": "markdown",
   "metadata": {
    "id": "XG-INsglJusd"
   },
   "source": [
    "Setting learning rate and parameters."
   ]
  },
  {
   "cell_type": "code",
   "metadata": {
    "id": "sbC63oexug5b"
   },
   "source": [
    "lr = 0.1\n",
    "params = weights, bias"
   ],
   "execution_count": 31,
   "outputs": []
  },
  {
   "cell_type": "markdown",
   "metadata": {
    "id": "TNiL7Q0oJ3fe"
   },
   "source": [
    "Let's see how it goes!"
   ]
  },
  {
   "cell_type": "code",
   "metadata": {
    "colab": {
     "base_uri": "https://localhost:8080/"
    },
    "id": "QIpEjupw2R9_",
    "outputId": "ecce17e6-808c-4b89-9892-00178158200c"
   },
   "source": [
    "for i in range(20):\n",
    "    train_epoch(linear1, lr, params)\n",
    "    print(validate_epoch(linear1), end=' ')"
   ],
   "execution_count": 32,
   "outputs": [
    {
     "output_type": "stream",
     "text": [
      "0.6658 0.7118 0.7424 0.7635 0.7809 0.7963 0.809 0.8233 0.8405 0.8574 0.8648 0.8689 0.8718 0.8738 0.8757 0.8771 0.8783 0.8794 0.8802 0.8811 "
     ],
     "name": "stdout"
    }
   ]
  },
  {
   "cell_type": "markdown",
   "metadata": {
    "id": "9fiv2PRqJ8Q3"
   },
   "source": [
    "So we reached 88% accuracy using only math and some basic functions :)\n",
    "\n",
    "But we could have done everything much simpler like that using inner tools of fastai and PyTorch:"
   ]
  },
  {
   "cell_type": "code",
   "metadata": {
    "colab": {
     "base_uri": "https://localhost:8080/",
     "height": 81
    },
    "id": "XFFA-vzpKOpA",
    "outputId": "787723f2-c027-44ff-e0d4-8bef91c24f57"
   },
   "source": [
    "dls = ImageDataLoaders.from_folder(path, train='training', valid='testing')\r\n",
    "\r\n",
    "learn = cnn_learner(dls, resnet18, pretrained=False,\r\n",
    "                    loss_func=F.cross_entropy, metrics=accuracy)\r\n",
    "learn.fit_one_cycle(1, 1e-3)"
   ],
   "execution_count": 33,
   "outputs": [
    {
     "output_type": "display_data",
     "data": {
      "text/html": [
       "<table border=\"1\" class=\"dataframe\">\n",
       "  <thead>\n",
       "    <tr style=\"text-align: left;\">\n",
       "      <th>epoch</th>\n",
       "      <th>train_loss</th>\n",
       "      <th>valid_loss</th>\n",
       "      <th>accuracy</th>\n",
       "      <th>time</th>\n",
       "    </tr>\n",
       "  </thead>\n",
       "  <tbody>\n",
       "    <tr>\n",
       "      <td>0</td>\n",
       "      <td>0.069037</td>\n",
       "      <td>0.035452</td>\n",
       "      <td>0.988200</td>\n",
       "      <td>14:47</td>\n",
       "    </tr>\n",
       "  </tbody>\n",
       "</table>"
      ],
      "text/plain": [
       "<IPython.core.display.HTML object>"
      ]
     },
     "metadata": {
      "tags": []
     }
    }
   ]
  }
 ]
}