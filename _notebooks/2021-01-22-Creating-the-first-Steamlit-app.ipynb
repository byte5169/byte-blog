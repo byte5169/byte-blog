{
 "cells": [
  {
   "cell_type": "markdown",
   "source": [
    "# \"Creating the first Streamlit project\"\n",
    "\n",
    "- comments: true\n"
   ],
   "metadata": {
    "collapsed": false
   }
  },
  {
   "cell_type": "markdown",
   "source": [
    "[Streamlit](https://www.streamlit.io/) is a perfect resource to deploy and visualise your own data project.\n",
    "\n",
    "By default you can run your projects on a local machine using\n",
    "\n",
    "> streamlit run <name_app.py>\n",
    "\n",
    "If you want to share your project to the world you need to apply to [share.streamlit.io](https://www.share.streamlit.io/).\n",
    "\n",
    "Today I will share with you my dog classification app that I have released on streamlit.\n",
    "It can be found [here](https://share.streamlit.io/byte5169/dogs_breed_repo/main/stream_app.py).\n",
    "\n",
    "The basic idea is that you upload an image of a dog, or paste an url of an image of a dog, and the trained model predicts and outputs the scores for the breed of the dog.\n",
    "\n",
    "Let's start from importing everything we need for our dog classifier. Mainly it is fastai library that was used to train the model and also will be used to predict results, and streamlit itself."
   ],
   "metadata": {
    "collapsed": false
   }
  },
  {
   "cell_type": "code",
   "execution_count": null,
   "metadata": {
    "collapsed": true
   },
   "outputs": [],
   "source": [
    "import streamlit as st\n",
    "\n",
    "from fastai.vision.all import *\n",
    "from fastai.vision.widgets import *\n",
    "\n",
    "from PIL import Image\n",
    "from io import BytesIO\n"
   ]
  },
  {
   "cell_type": "markdown",
   "source": [
    "Next we will create different variables that will be used across all web-app."
   ],
   "metadata": {
    "collapsed": false
   }
  },
  {
   "cell_type": "code",
   "execution_count": null,
   "outputs": [],
   "source": [
    "# makes page centered, or you can use 'wide'\n",
    "st.set_page_config(layout=\"centered\")\n",
    "path = Path()\n",
    "\n",
    "# importing model loader\n",
    "learn_inf = load_learner('models/dogs_breed_standford_V2_20_01.pkl', cpu=True)\n",
    "\n",
    "# image that will be used as header logo for our app\n",
    "header = Image.open('logo.jpg')\n",
    "\n",
    "# setting header width equal to page width\n",
    "st.image(header, use_column_width=True)"
   ],
   "metadata": {
    "collapsed": false,
    "pycharm": {
     "name": "#%%\n"
    }
   }
  },
  {
   "cell_type": "markdown",
   "source": [
    "Next we will put in the description of our page. Inside method ```write``` you can use markdown, that is very handy!\n",
    "\n",
    "![]({{site.baseurl}}/images/streamlit/streamlit_header.png)"
   ],
   "metadata": {
    "collapsed": false
   }
  },
  {
   "cell_type": "code",
   "execution_count": null,
   "outputs": [],
   "source": [
    "st.write(\"\"\"\n",
    "# A simple dog breed classifier!\n",
    "\n",
    "\"\"\")\n",
    "\n",
    "st.write(\"\"\"\n",
    "Model that predicts one of the 120 dog breeds. \\n\n",
    "Data used for model training was taken from Kaggle's [Standford Dogs dataset](\n",
    "https://www.kaggle.com/jwyang91/dog-breed-classification-using-fastai/)\n",
    "***\n",
    "\"\"\")"
   ],
   "metadata": {
    "collapsed": false,
    "pycharm": {
     "name": "#%%\n"
    }
   }
  },
  {
   "cell_type": "markdown",
   "source": [
    "Now we will create our upload widget and field to paste url.\n",
    "I really didn't like how it looked one on another (upload widget and url field)\n",
    "and decided to break the page in to two columns for that\n",
    "\n",
    "![]({{site.baseurl}}/images/streamlit/streamlit_columns.png)"
   ],
   "metadata": {
    "collapsed": false
   }
  },
  {
   "cell_type": "code",
   "execution_count": null,
   "outputs": [],
   "source": [
    "# creating columns\n",
    "col1, col2 = st.beta_columns(2)\n",
    "\n",
    "# creating upload widget and setting types of files we'd like to see here\n",
    "upload_img = col1.file_uploader(type=['png', 'jpg', 'jpeg'], label='Upload here to predict from image')\n",
    "\n",
    "# creating url paste field\n",
    "url_img = col2.text_input(label='or enter url here:')\n",
    "\n",
    "# creating button under url field that will trigger the prediction\n",
    "but = col2.button(label='Press to predict from url')"
   ],
   "metadata": {
    "collapsed": false,
    "pycharm": {
     "name": "#%%\n"
    }
   }
  },
  {
   "cell_type": "markdown",
   "source": [
    "After we will crate a few functions that will do the conversion of images and the predictions.\n",
    "\n",
    "Please read the comments inside functions for more details."
   ],
   "metadata": {
    "collapsed": false
   }
  },
  {
   "cell_type": "code",
   "execution_count": null,
   "outputs": [],
   "source": [
    "# function to predict the dog breed\n",
    "def predict_dog(dog_image):\n",
    "    # take an image and convert it to tensor\n",
    "    img_t = tensor(dog_image)\n",
    "    # get predictions\n",
    "    pred, pred_idx, probs = learn_inf.predict(img_t)\n",
    "    # apply some basic formatting to results\n",
    "    pred = pred.split('-')[1].capitalize()\n",
    "    # converting probabilities to presents\n",
    "    probs = str(round((probs[pred_idx].item() * 100), 2)) + ' %'\n",
    "    return pred, probs\n",
    "\n",
    "# function that outputs results to the web-page, we pass here image directly\n",
    "def render_result(source):\n",
    "    # storing returns from 'predict_dog' function\n",
    "    the_dog = predict_dog(source)\n",
    "    # create text areas to display results\n",
    "    st.text(f'Prediction: {the_dog[0]}')\n",
    "    st.text(f'Probability: {the_dog[1]}')\n",
    "    # output the uploaded image/url image in shape 128x128 to user\n",
    "    st.image(source.to_thumb(128, 128))\n",
    "\n",
    "# function that converts url to actual image that we can work with\n",
    "def fetch_url_image(url):\n",
    "    # receive url\n",
    "    response = requests.get(url)\n",
    "    # open image\n",
    "    img = Image.open(BytesIO(response.content))\n",
    "    return img"
   ],
   "metadata": {
    "collapsed": false,
    "pycharm": {
     "name": "#%%\n"
    }
   }
  },
  {
   "cell_type": "markdown",
   "source": [
    "Now this is the main block for upload widget.\n",
    "\n",
    "We need to check if there is an actual something that was uploaded into upload widget, and if there is something we want to output results."
   ],
   "metadata": {
    "collapsed": false
   }
  },
  {
   "cell_type": "code",
   "execution_count": null,
   "outputs": [],
   "source": [
    "if upload_img is not None:\n",
    "    render_result(Image.open(upload_img))"
   ],
   "metadata": {
    "collapsed": false,
    "pycharm": {
     "name": "#%%\n"
    }
   }
  },
  {
   "cell_type": "markdown",
   "source": [
    "And here is the main code block for the url block that fetches data,\n",
    "predicts the breed and outputs the results. We wrap it into try/except block incase something goes wrong."
   ],
   "metadata": {
    "collapsed": false
   }
  },
  {
   "cell_type": "code",
   "execution_count": null,
   "outputs": [],
   "source": [
    "try:\n",
    "    if but:\n",
    "        img_to_pred = fetch_url_image(url_img)\n",
    "        predict_dog(img_to_pred)\n",
    "        render_result(img_to_pred)\n",
    "except:\n",
    "    st.write(\"Unexpected error:\", st.error())"
   ],
   "metadata": {
    "collapsed": false,
    "pycharm": {
     "name": "#%%\n"
    }
   }
  },
  {
   "cell_type": "markdown",
   "source": [
    "Before upload app we need not to forget about requirements.txt file in the repo, it will tell streamlit what libraries are used.\n",
    "```\n",
    "streamlit==0.74.1\n",
    "fastai>=2\n",
    "```"
   ],
   "metadata": {
    "collapsed": false
   }
  },
  {
   "cell_type": "markdown",
   "source": [
    "### PS\n",
    "\n",
    "I do understand that the code is not perfect and probably it can be done in much more elegant ways especially function blocks and logic behind them,\n",
    "but that is where my current skill level of Python and ML currently is.\n",
    "\n"
   ],
   "metadata": {
    "collapsed": false
   }
  }
 ],
 "metadata": {
  "kernelspec": {
   "display_name": "Python 3",
   "language": "python",
   "name": "python3"
  },
  "language_info": {
   "codemirror_mode": {
    "name": "ipython",
    "version": 2
   },
   "file_extension": ".py",
   "mimetype": "text/x-python",
   "name": "python",
   "nbconvert_exporter": "python",
   "pygments_lexer": "ipython2",
   "version": "2.7.6"
  }
 },
 "nbformat": 4,
 "nbformat_minor": 0
}